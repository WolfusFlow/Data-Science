{
  "nbformat": 4,
  "nbformat_minor": 0,
  "metadata": {
    "colab": {
      "name": "MichaelSalamakha_Part_Data_Covid_Analysis.ipynb",
      "provenance": [],
      "collapsed_sections": []
    },
    "kernelspec": {
      "display_name": "Python 3",
      "language": "python",
      "name": "python3"
    },
    "language_info": {
      "codemirror_mode": {
        "name": "ipython",
        "version": 3
      },
      "file_extension": ".py",
      "mimetype": "text/x-python",
      "name": "python",
      "nbconvert_exporter": "python",
      "pygments_lexer": "ipython3",
      "version": "3.7.6"
    }
  },
  "cells": [
    {
      "cell_type": "markdown",
      "metadata": {
        "id": "CawRGGKSC1my"
      },
      "source": [
        "# Прогноз колличества заболевших коронавирусом\n"
      ]
    },
    {
      "cell_type": "code",
      "metadata": {
        "id": "528d7V0wCbVm",
        "outputId": "8bd43ace-4d76-4828-f209-4f792932e0b5",
        "colab": {
          "base_uri": "https://localhost:8080/"
        }
      },
      "source": [
        "import pandas as pd\n",
        "import numpy as np\n",
        "import matplotlib.pyplot as plt\n",
        "import matplotlib.colors as colors\n",
        "import seaborn as sns\n",
        "import sklearn\n",
        "from sklearn import preprocessing\n",
        "from sklearn.utils import shuffle\n",
        "from sklearn import metrics\n",
        "from sklearn.metrics import mean_squared_error\n",
        "from sklearn.model_selection import train_test_split\n",
        "\n",
        "!pip install geopandas\n",
        "import geopandas\n",
        "from shapely.geometry import Point\n",
        "import math"
      ],
      "execution_count": 1,
      "outputs": [
        {
          "output_type": "stream",
          "text": [
            "Collecting geopandas\n",
            "\u001b[?25l  Downloading https://files.pythonhosted.org/packages/f7/a4/e66aafbefcbb717813bf3a355c8c4fc3ed04ea1dd7feb2920f2f4f868921/geopandas-0.8.1-py2.py3-none-any.whl (962kB)\n",
            "\r\u001b[K     |▍                               | 10kB 20.0MB/s eta 0:00:01\r\u001b[K     |▊                               | 20kB 6.2MB/s eta 0:00:01\r\u001b[K     |█                               | 30kB 7.3MB/s eta 0:00:01\r\u001b[K     |█▍                              | 40kB 8.1MB/s eta 0:00:01\r\u001b[K     |█▊                              | 51kB 6.5MB/s eta 0:00:01\r\u001b[K     |██                              | 61kB 7.1MB/s eta 0:00:01\r\u001b[K     |██▍                             | 71kB 7.6MB/s eta 0:00:01\r\u001b[K     |██▊                             | 81kB 8.3MB/s eta 0:00:01\r\u001b[K     |███                             | 92kB 8.6MB/s eta 0:00:01\r\u001b[K     |███▍                            | 102kB 9.1MB/s eta 0:00:01\r\u001b[K     |███▊                            | 112kB 9.1MB/s eta 0:00:01\r\u001b[K     |████                            | 122kB 9.1MB/s eta 0:00:01\r\u001b[K     |████▍                           | 133kB 9.1MB/s eta 0:00:01\r\u001b[K     |████▊                           | 143kB 9.1MB/s eta 0:00:01\r\u001b[K     |█████                           | 153kB 9.1MB/s eta 0:00:01\r\u001b[K     |█████▌                          | 163kB 9.1MB/s eta 0:00:01\r\u001b[K     |█████▉                          | 174kB 9.1MB/s eta 0:00:01\r\u001b[K     |██████▏                         | 184kB 9.1MB/s eta 0:00:01\r\u001b[K     |██████▌                         | 194kB 9.1MB/s eta 0:00:01\r\u001b[K     |██████▉                         | 204kB 9.1MB/s eta 0:00:01\r\u001b[K     |███████▏                        | 215kB 9.1MB/s eta 0:00:01\r\u001b[K     |███████▌                        | 225kB 9.1MB/s eta 0:00:01\r\u001b[K     |███████▉                        | 235kB 9.1MB/s eta 0:00:01\r\u001b[K     |████████▏                       | 245kB 9.1MB/s eta 0:00:01\r\u001b[K     |████████▌                       | 256kB 9.1MB/s eta 0:00:01\r\u001b[K     |████████▉                       | 266kB 9.1MB/s eta 0:00:01\r\u001b[K     |█████████▏                      | 276kB 9.1MB/s eta 0:00:01\r\u001b[K     |█████████▌                      | 286kB 9.1MB/s eta 0:00:01\r\u001b[K     |█████████▉                      | 296kB 9.1MB/s eta 0:00:01\r\u001b[K     |██████████▏                     | 307kB 9.1MB/s eta 0:00:01\r\u001b[K     |██████████▌                     | 317kB 9.1MB/s eta 0:00:01\r\u001b[K     |███████████                     | 327kB 9.1MB/s eta 0:00:01\r\u001b[K     |███████████▎                    | 337kB 9.1MB/s eta 0:00:01\r\u001b[K     |███████████▋                    | 348kB 9.1MB/s eta 0:00:01\r\u001b[K     |████████████                    | 358kB 9.1MB/s eta 0:00:01\r\u001b[K     |████████████▎                   | 368kB 9.1MB/s eta 0:00:01\r\u001b[K     |████████████▋                   | 378kB 9.1MB/s eta 0:00:01\r\u001b[K     |█████████████                   | 389kB 9.1MB/s eta 0:00:01\r\u001b[K     |█████████████▎                  | 399kB 9.1MB/s eta 0:00:01\r\u001b[K     |█████████████▋                  | 409kB 9.1MB/s eta 0:00:01\r\u001b[K     |██████████████                  | 419kB 9.1MB/s eta 0:00:01\r\u001b[K     |██████████████▎                 | 430kB 9.1MB/s eta 0:00:01\r\u001b[K     |██████████████▋                 | 440kB 9.1MB/s eta 0:00:01\r\u001b[K     |███████████████                 | 450kB 9.1MB/s eta 0:00:01\r\u001b[K     |███████████████▎                | 460kB 9.1MB/s eta 0:00:01\r\u001b[K     |███████████████▋                | 471kB 9.1MB/s eta 0:00:01\r\u001b[K     |████████████████                | 481kB 9.1MB/s eta 0:00:01\r\u001b[K     |████████████████▍               | 491kB 9.1MB/s eta 0:00:01\r\u001b[K     |████████████████▊               | 501kB 9.1MB/s eta 0:00:01\r\u001b[K     |█████████████████               | 512kB 9.1MB/s eta 0:00:01\r\u001b[K     |█████████████████▍              | 522kB 9.1MB/s eta 0:00:01\r\u001b[K     |█████████████████▊              | 532kB 9.1MB/s eta 0:00:01\r\u001b[K     |██████████████████              | 542kB 9.1MB/s eta 0:00:01\r\u001b[K     |██████████████████▍             | 552kB 9.1MB/s eta 0:00:01\r\u001b[K     |██████████████████▊             | 563kB 9.1MB/s eta 0:00:01\r\u001b[K     |███████████████████             | 573kB 9.1MB/s eta 0:00:01\r\u001b[K     |███████████████████▍            | 583kB 9.1MB/s eta 0:00:01\r\u001b[K     |███████████████████▊            | 593kB 9.1MB/s eta 0:00:01\r\u001b[K     |████████████████████            | 604kB 9.1MB/s eta 0:00:01\r\u001b[K     |████████████████████▍           | 614kB 9.1MB/s eta 0:00:01\r\u001b[K     |████████████████████▊           | 624kB 9.1MB/s eta 0:00:01\r\u001b[K     |█████████████████████           | 634kB 9.1MB/s eta 0:00:01\r\u001b[K     |█████████████████████▍          | 645kB 9.1MB/s eta 0:00:01\r\u001b[K     |█████████████████████▉          | 655kB 9.1MB/s eta 0:00:01\r\u001b[K     |██████████████████████▏         | 665kB 9.1MB/s eta 0:00:01\r\u001b[K     |██████████████████████▌         | 675kB 9.1MB/s eta 0:00:01\r\u001b[K     |██████████████████████▉         | 686kB 9.1MB/s eta 0:00:01\r\u001b[K     |███████████████████████▏        | 696kB 9.1MB/s eta 0:00:01\r\u001b[K     |███████████████████████▌        | 706kB 9.1MB/s eta 0:00:01\r\u001b[K     |███████████████████████▉        | 716kB 9.1MB/s eta 0:00:01\r\u001b[K     |████████████████████████▏       | 727kB 9.1MB/s eta 0:00:01\r\u001b[K     |████████████████████████▌       | 737kB 9.1MB/s eta 0:00:01\r\u001b[K     |████████████████████████▉       | 747kB 9.1MB/s eta 0:00:01\r\u001b[K     |█████████████████████████▏      | 757kB 9.1MB/s eta 0:00:01\r\u001b[K     |█████████████████████████▌      | 768kB 9.1MB/s eta 0:00:01\r\u001b[K     |█████████████████████████▉      | 778kB 9.1MB/s eta 0:00:01\r\u001b[K     |██████████████████████████▏     | 788kB 9.1MB/s eta 0:00:01\r\u001b[K     |██████████████████████████▌     | 798kB 9.1MB/s eta 0:00:01\r\u001b[K     |██████████████████████████▉     | 808kB 9.1MB/s eta 0:00:01\r\u001b[K     |███████████████████████████▎    | 819kB 9.1MB/s eta 0:00:01\r\u001b[K     |███████████████████████████▋    | 829kB 9.1MB/s eta 0:00:01\r\u001b[K     |████████████████████████████    | 839kB 9.1MB/s eta 0:00:01\r\u001b[K     |████████████████████████████▎   | 849kB 9.1MB/s eta 0:00:01\r\u001b[K     |████████████████████████████▋   | 860kB 9.1MB/s eta 0:00:01\r\u001b[K     |█████████████████████████████   | 870kB 9.1MB/s eta 0:00:01\r\u001b[K     |█████████████████████████████▎  | 880kB 9.1MB/s eta 0:00:01\r\u001b[K     |█████████████████████████████▋  | 890kB 9.1MB/s eta 0:00:01\r\u001b[K     |██████████████████████████████  | 901kB 9.1MB/s eta 0:00:01\r\u001b[K     |██████████████████████████████▎ | 911kB 9.1MB/s eta 0:00:01\r\u001b[K     |██████████████████████████████▋ | 921kB 9.1MB/s eta 0:00:01\r\u001b[K     |███████████████████████████████ | 931kB 9.1MB/s eta 0:00:01\r\u001b[K     |███████████████████████████████▎| 942kB 9.1MB/s eta 0:00:01\r\u001b[K     |███████████████████████████████▋| 952kB 9.1MB/s eta 0:00:01\r\u001b[K     |████████████████████████████████| 962kB 9.1MB/s eta 0:00:01\r\u001b[K     |████████████████████████████████| 972kB 9.1MB/s \n",
            "\u001b[?25hRequirement already satisfied: shapely in /usr/local/lib/python3.6/dist-packages (from geopandas) (1.7.1)\n",
            "Collecting pyproj>=2.2.0\n",
            "\u001b[?25l  Downloading https://files.pythonhosted.org/packages/e5/c3/071e080230ac4b6c64f1a2e2f9161c9737a2bc7b683d2c90b024825000c0/pyproj-2.6.1.post1-cp36-cp36m-manylinux2010_x86_64.whl (10.9MB)\n",
            "\u001b[K     |████████████████████████████████| 10.9MB 34.5MB/s \n",
            "\u001b[?25hRequirement already satisfied: pandas>=0.23.0 in /usr/local/lib/python3.6/dist-packages (from geopandas) (1.1.3)\n",
            "Collecting fiona\n",
            "\u001b[?25l  Downloading https://files.pythonhosted.org/packages/36/8b/e8b2c11bed5373c8e98edb85ce891b09aa1f4210fd451d0fb3696b7695a2/Fiona-1.8.17-cp36-cp36m-manylinux1_x86_64.whl (14.8MB)\n",
            "\u001b[K     |████████████████████████████████| 14.8MB 314kB/s \n",
            "\u001b[?25hRequirement already satisfied: python-dateutil>=2.7.3 in /usr/local/lib/python3.6/dist-packages (from pandas>=0.23.0->geopandas) (2.8.1)\n",
            "Requirement already satisfied: pytz>=2017.2 in /usr/local/lib/python3.6/dist-packages (from pandas>=0.23.0->geopandas) (2018.9)\n",
            "Requirement already satisfied: numpy>=1.15.4 in /usr/local/lib/python3.6/dist-packages (from pandas>=0.23.0->geopandas) (1.18.5)\n",
            "Collecting click-plugins>=1.0\n",
            "  Downloading https://files.pythonhosted.org/packages/e9/da/824b92d9942f4e472702488857914bdd50f73021efea15b4cad9aca8ecef/click_plugins-1.1.1-py2.py3-none-any.whl\n",
            "Collecting cligj>=0.5\n",
            "  Downloading https://files.pythonhosted.org/packages/ba/06/e3440b1f2dc802d35f329f299ba96153e9fcbfdef75e17f4b61f79430c6a/cligj-0.7.0-py3-none-any.whl\n",
            "Requirement already satisfied: attrs>=17 in /usr/local/lib/python3.6/dist-packages (from fiona->geopandas) (20.2.0)\n",
            "Requirement already satisfied: six>=1.7 in /usr/local/lib/python3.6/dist-packages (from fiona->geopandas) (1.15.0)\n",
            "Collecting munch\n",
            "  Downloading https://files.pythonhosted.org/packages/cc/ab/85d8da5c9a45e072301beb37ad7f833cd344e04c817d97e0cc75681d248f/munch-2.5.0-py2.py3-none-any.whl\n",
            "Requirement already satisfied: click<8,>=4.0 in /usr/local/lib/python3.6/dist-packages (from fiona->geopandas) (7.1.2)\n",
            "Installing collected packages: pyproj, click-plugins, cligj, munch, fiona, geopandas\n",
            "Successfully installed click-plugins-1.1.1 cligj-0.7.0 fiona-1.8.17 geopandas-0.8.1 munch-2.5.0 pyproj-2.6.1.post1\n"
          ],
          "name": "stdout"
        }
      ]
    },
    {
      "cell_type": "code",
      "metadata": {
        "id": "4D0pTp8CCqf6"
      },
      "source": [
        "# Загрузим наш датасет со статистикой \n",
        "dataset = pd.read_csv('https://raw.githubusercontent.com/WolfusFlow/Data-Science/master/coronavirus_data_Feb01.csv', delimiter=',', parse_dates=['Last Update']) #index_col=False\n",
        "dataset_1 = pd.read_csv('https://raw.githubusercontent.com/WolfusFlow/Data-Science/master/coronavirus_statistic_2020-01-31.csv', delimiter=',')"
      ],
      "execution_count": 2,
      "outputs": []
    },
    {
      "cell_type": "code",
      "metadata": {
        "id": "BGN7aNCTCq4t",
        "outputId": "84768ae9-4bd8-4ba8-c602-7a0bc6a5d01d",
        "colab": {
          "base_uri": "https://localhost:8080/",
          "height": 810
        }
      },
      "source": [
        "#Отобразим его\n",
        "dataframe = pd.DataFrame(dataset_1)\n",
        "dataframe.info()\n",
        "print(dataframe.describe())\n",
        "dataframe"
      ],
      "execution_count": 3,
      "outputs": [
        {
          "output_type": "stream",
          "text": [
            "<class 'pandas.core.frame.DataFrame'>\n",
            "RangeIndex: 435 entries, 0 to 434\n",
            "Data columns (total 7 columns):\n",
            " #   Column      Non-Null Count  Dtype  \n",
            "---  ------      --------------  -----  \n",
            " 0   Unnamed: 0  435 non-null    int64  \n",
            " 1   confirmed   424 non-null    float64\n",
            " 2   country     435 non-null    object \n",
            " 3   date        435 non-null    object \n",
            " 4   deaths      384 non-null    float64\n",
            " 5   province    349 non-null    object \n",
            " 6   recovered   430 non-null    float64\n",
            "dtypes: float64(3), int64(1), object(3)\n",
            "memory usage: 23.9+ KB\n",
            "       Unnamed: 0    confirmed      deaths   recovered\n",
            "count  435.000000   424.000000  384.000000  430.000000\n",
            "mean    24.110345    82.667453    2.041667    1.469767\n",
            "std     14.712820   429.513211   16.238218    8.988870\n",
            "min      0.000000     0.000000    0.000000    0.000000\n",
            "25%     12.000000     2.000000    0.000000    0.000000\n",
            "50%     24.000000     7.000000    0.000000    0.000000\n",
            "75%     36.000000    39.000000    0.000000    0.000000\n",
            "max     58.000000  5806.000000  204.000000  116.000000\n"
          ],
          "name": "stdout"
        },
        {
          "output_type": "execute_result",
          "data": {
            "text/html": [
              "<div>\n",
              "<style scoped>\n",
              "    .dataframe tbody tr th:only-of-type {\n",
              "        vertical-align: middle;\n",
              "    }\n",
              "\n",
              "    .dataframe tbody tr th {\n",
              "        vertical-align: top;\n",
              "    }\n",
              "\n",
              "    .dataframe thead th {\n",
              "        text-align: right;\n",
              "    }\n",
              "</style>\n",
              "<table border=\"1\" class=\"dataframe\">\n",
              "  <thead>\n",
              "    <tr style=\"text-align: right;\">\n",
              "      <th></th>\n",
              "      <th>Unnamed: 0</th>\n",
              "      <th>confirmed</th>\n",
              "      <th>country</th>\n",
              "      <th>date</th>\n",
              "      <th>deaths</th>\n",
              "      <th>province</th>\n",
              "      <th>recovered</th>\n",
              "    </tr>\n",
              "  </thead>\n",
              "  <tbody>\n",
              "    <tr>\n",
              "      <th>0</th>\n",
              "      <td>37</td>\n",
              "      <td>1.0</td>\n",
              "      <td>South Korea</td>\n",
              "      <td>2020-01-22</td>\n",
              "      <td>0.0</td>\n",
              "      <td>NaN</td>\n",
              "      <td>0.0</td>\n",
              "    </tr>\n",
              "    <tr>\n",
              "      <th>1</th>\n",
              "      <td>15</td>\n",
              "      <td>0.0</td>\n",
              "      <td>China</td>\n",
              "      <td>2020-01-22</td>\n",
              "      <td>0.0</td>\n",
              "      <td>Inner Mongolia</td>\n",
              "      <td>0.0</td>\n",
              "    </tr>\n",
              "    <tr>\n",
              "      <th>2</th>\n",
              "      <td>14</td>\n",
              "      <td>4.0</td>\n",
              "      <td>China</td>\n",
              "      <td>2020-01-22</td>\n",
              "      <td>0.0</td>\n",
              "      <td>Hunan</td>\n",
              "      <td>0.0</td>\n",
              "    </tr>\n",
              "    <tr>\n",
              "      <th>3</th>\n",
              "      <td>13</td>\n",
              "      <td>444.0</td>\n",
              "      <td>China</td>\n",
              "      <td>2020-01-22</td>\n",
              "      <td>0.0</td>\n",
              "      <td>Hubei</td>\n",
              "      <td>0.0</td>\n",
              "    </tr>\n",
              "    <tr>\n",
              "      <th>4</th>\n",
              "      <td>12</td>\n",
              "      <td>NaN</td>\n",
              "      <td>China</td>\n",
              "      <td>2020-01-22</td>\n",
              "      <td>0.0</td>\n",
              "      <td>Hong Kong</td>\n",
              "      <td>0.0</td>\n",
              "    </tr>\n",
              "    <tr>\n",
              "      <th>...</th>\n",
              "      <td>...</td>\n",
              "      <td>...</td>\n",
              "      <td>...</td>\n",
              "      <td>...</td>\n",
              "      <td>...</td>\n",
              "      <td>...</td>\n",
              "      <td>...</td>\n",
              "    </tr>\n",
              "    <tr>\n",
              "      <th>430</th>\n",
              "      <td>33</td>\n",
              "      <td>1.0</td>\n",
              "      <td>Mainland China</td>\n",
              "      <td>2020-01-30</td>\n",
              "      <td>0.0</td>\n",
              "      <td>Tibet</td>\n",
              "      <td>0.0</td>\n",
              "    </tr>\n",
              "    <tr>\n",
              "      <th>431</th>\n",
              "      <td>32</td>\n",
              "      <td>7.0</td>\n",
              "      <td>Macau</td>\n",
              "      <td>2020-01-30</td>\n",
              "      <td>0.0</td>\n",
              "      <td>Macau</td>\n",
              "      <td>0.0</td>\n",
              "    </tr>\n",
              "    <tr>\n",
              "      <th>432</th>\n",
              "      <td>31</td>\n",
              "      <td>8.0</td>\n",
              "      <td>Mainland China</td>\n",
              "      <td>2020-01-30</td>\n",
              "      <td>0.0</td>\n",
              "      <td>Qinghai</td>\n",
              "      <td>0.0</td>\n",
              "    </tr>\n",
              "    <tr>\n",
              "      <th>433</th>\n",
              "      <td>29</td>\n",
              "      <td>12.0</td>\n",
              "      <td>Hong Kong</td>\n",
              "      <td>2020-01-30</td>\n",
              "      <td>0.0</td>\n",
              "      <td>Hong Kong</td>\n",
              "      <td>0.0</td>\n",
              "    </tr>\n",
              "    <tr>\n",
              "      <th>434</th>\n",
              "      <td>0</td>\n",
              "      <td>5806.0</td>\n",
              "      <td>Mainland China</td>\n",
              "      <td>2020-01-30</td>\n",
              "      <td>204.0</td>\n",
              "      <td>Hubei</td>\n",
              "      <td>116.0</td>\n",
              "    </tr>\n",
              "  </tbody>\n",
              "</table>\n",
              "<p>435 rows × 7 columns</p>\n",
              "</div>"
            ],
            "text/plain": [
              "     Unnamed: 0  confirmed         country  ... deaths        province recovered\n",
              "0            37        1.0     South Korea  ...    0.0             NaN       0.0\n",
              "1            15        0.0           China  ...    0.0  Inner Mongolia       0.0\n",
              "2            14        4.0           China  ...    0.0           Hunan       0.0\n",
              "3            13      444.0           China  ...    0.0           Hubei       0.0\n",
              "4            12        NaN           China  ...    0.0       Hong Kong       0.0\n",
              "..          ...        ...             ...  ...    ...             ...       ...\n",
              "430          33        1.0  Mainland China  ...    0.0           Tibet       0.0\n",
              "431          32        7.0           Macau  ...    0.0           Macau       0.0\n",
              "432          31        8.0  Mainland China  ...    0.0         Qinghai       0.0\n",
              "433          29       12.0       Hong Kong  ...    0.0       Hong Kong       0.0\n",
              "434           0     5806.0  Mainland China  ...  204.0           Hubei     116.0\n",
              "\n",
              "[435 rows x 7 columns]"
            ]
          },
          "metadata": {
            "tags": []
          },
          "execution_count": 3
        }
      ]
    },
    {
      "cell_type": "code",
      "metadata": {
        "id": "st8yB-qPSeYF",
        "outputId": "c27a18a8-0a34-44fc-f899-7df1a936eb6f",
        "colab": {
          "base_uri": "https://localhost:8080/",
          "height": 810
        }
      },
      "source": [
        "dataframe1 = pd.DataFrame(dataset_1)\n",
        "dataframe1.info()\n",
        "print(dataframe1.describe())\n",
        "dataframe1"
      ],
      "execution_count": 4,
      "outputs": [
        {
          "output_type": "stream",
          "text": [
            "<class 'pandas.core.frame.DataFrame'>\n",
            "RangeIndex: 435 entries, 0 to 434\n",
            "Data columns (total 7 columns):\n",
            " #   Column      Non-Null Count  Dtype  \n",
            "---  ------      --------------  -----  \n",
            " 0   Unnamed: 0  435 non-null    int64  \n",
            " 1   confirmed   424 non-null    float64\n",
            " 2   country     435 non-null    object \n",
            " 3   date        435 non-null    object \n",
            " 4   deaths      384 non-null    float64\n",
            " 5   province    349 non-null    object \n",
            " 6   recovered   430 non-null    float64\n",
            "dtypes: float64(3), int64(1), object(3)\n",
            "memory usage: 23.9+ KB\n",
            "       Unnamed: 0    confirmed      deaths   recovered\n",
            "count  435.000000   424.000000  384.000000  430.000000\n",
            "mean    24.110345    82.667453    2.041667    1.469767\n",
            "std     14.712820   429.513211   16.238218    8.988870\n",
            "min      0.000000     0.000000    0.000000    0.000000\n",
            "25%     12.000000     2.000000    0.000000    0.000000\n",
            "50%     24.000000     7.000000    0.000000    0.000000\n",
            "75%     36.000000    39.000000    0.000000    0.000000\n",
            "max     58.000000  5806.000000  204.000000  116.000000\n"
          ],
          "name": "stdout"
        },
        {
          "output_type": "execute_result",
          "data": {
            "text/html": [
              "<div>\n",
              "<style scoped>\n",
              "    .dataframe tbody tr th:only-of-type {\n",
              "        vertical-align: middle;\n",
              "    }\n",
              "\n",
              "    .dataframe tbody tr th {\n",
              "        vertical-align: top;\n",
              "    }\n",
              "\n",
              "    .dataframe thead th {\n",
              "        text-align: right;\n",
              "    }\n",
              "</style>\n",
              "<table border=\"1\" class=\"dataframe\">\n",
              "  <thead>\n",
              "    <tr style=\"text-align: right;\">\n",
              "      <th></th>\n",
              "      <th>Unnamed: 0</th>\n",
              "      <th>confirmed</th>\n",
              "      <th>country</th>\n",
              "      <th>date</th>\n",
              "      <th>deaths</th>\n",
              "      <th>province</th>\n",
              "      <th>recovered</th>\n",
              "    </tr>\n",
              "  </thead>\n",
              "  <tbody>\n",
              "    <tr>\n",
              "      <th>0</th>\n",
              "      <td>37</td>\n",
              "      <td>1.0</td>\n",
              "      <td>South Korea</td>\n",
              "      <td>2020-01-22</td>\n",
              "      <td>0.0</td>\n",
              "      <td>NaN</td>\n",
              "      <td>0.0</td>\n",
              "    </tr>\n",
              "    <tr>\n",
              "      <th>1</th>\n",
              "      <td>15</td>\n",
              "      <td>0.0</td>\n",
              "      <td>China</td>\n",
              "      <td>2020-01-22</td>\n",
              "      <td>0.0</td>\n",
              "      <td>Inner Mongolia</td>\n",
              "      <td>0.0</td>\n",
              "    </tr>\n",
              "    <tr>\n",
              "      <th>2</th>\n",
              "      <td>14</td>\n",
              "      <td>4.0</td>\n",
              "      <td>China</td>\n",
              "      <td>2020-01-22</td>\n",
              "      <td>0.0</td>\n",
              "      <td>Hunan</td>\n",
              "      <td>0.0</td>\n",
              "    </tr>\n",
              "    <tr>\n",
              "      <th>3</th>\n",
              "      <td>13</td>\n",
              "      <td>444.0</td>\n",
              "      <td>China</td>\n",
              "      <td>2020-01-22</td>\n",
              "      <td>0.0</td>\n",
              "      <td>Hubei</td>\n",
              "      <td>0.0</td>\n",
              "    </tr>\n",
              "    <tr>\n",
              "      <th>4</th>\n",
              "      <td>12</td>\n",
              "      <td>NaN</td>\n",
              "      <td>China</td>\n",
              "      <td>2020-01-22</td>\n",
              "      <td>0.0</td>\n",
              "      <td>Hong Kong</td>\n",
              "      <td>0.0</td>\n",
              "    </tr>\n",
              "    <tr>\n",
              "      <th>...</th>\n",
              "      <td>...</td>\n",
              "      <td>...</td>\n",
              "      <td>...</td>\n",
              "      <td>...</td>\n",
              "      <td>...</td>\n",
              "      <td>...</td>\n",
              "      <td>...</td>\n",
              "    </tr>\n",
              "    <tr>\n",
              "      <th>430</th>\n",
              "      <td>33</td>\n",
              "      <td>1.0</td>\n",
              "      <td>Mainland China</td>\n",
              "      <td>2020-01-30</td>\n",
              "      <td>0.0</td>\n",
              "      <td>Tibet</td>\n",
              "      <td>0.0</td>\n",
              "    </tr>\n",
              "    <tr>\n",
              "      <th>431</th>\n",
              "      <td>32</td>\n",
              "      <td>7.0</td>\n",
              "      <td>Macau</td>\n",
              "      <td>2020-01-30</td>\n",
              "      <td>0.0</td>\n",
              "      <td>Macau</td>\n",
              "      <td>0.0</td>\n",
              "    </tr>\n",
              "    <tr>\n",
              "      <th>432</th>\n",
              "      <td>31</td>\n",
              "      <td>8.0</td>\n",
              "      <td>Mainland China</td>\n",
              "      <td>2020-01-30</td>\n",
              "      <td>0.0</td>\n",
              "      <td>Qinghai</td>\n",
              "      <td>0.0</td>\n",
              "    </tr>\n",
              "    <tr>\n",
              "      <th>433</th>\n",
              "      <td>29</td>\n",
              "      <td>12.0</td>\n",
              "      <td>Hong Kong</td>\n",
              "      <td>2020-01-30</td>\n",
              "      <td>0.0</td>\n",
              "      <td>Hong Kong</td>\n",
              "      <td>0.0</td>\n",
              "    </tr>\n",
              "    <tr>\n",
              "      <th>434</th>\n",
              "      <td>0</td>\n",
              "      <td>5806.0</td>\n",
              "      <td>Mainland China</td>\n",
              "      <td>2020-01-30</td>\n",
              "      <td>204.0</td>\n",
              "      <td>Hubei</td>\n",
              "      <td>116.0</td>\n",
              "    </tr>\n",
              "  </tbody>\n",
              "</table>\n",
              "<p>435 rows × 7 columns</p>\n",
              "</div>"
            ],
            "text/plain": [
              "     Unnamed: 0  confirmed         country  ... deaths        province recovered\n",
              "0            37        1.0     South Korea  ...    0.0             NaN       0.0\n",
              "1            15        0.0           China  ...    0.0  Inner Mongolia       0.0\n",
              "2            14        4.0           China  ...    0.0           Hunan       0.0\n",
              "3            13      444.0           China  ...    0.0           Hubei       0.0\n",
              "4            12        NaN           China  ...    0.0       Hong Kong       0.0\n",
              "..          ...        ...             ...  ...    ...             ...       ...\n",
              "430          33        1.0  Mainland China  ...    0.0           Tibet       0.0\n",
              "431          32        7.0           Macau  ...    0.0           Macau       0.0\n",
              "432          31        8.0  Mainland China  ...    0.0         Qinghai       0.0\n",
              "433          29       12.0       Hong Kong  ...    0.0       Hong Kong       0.0\n",
              "434           0     5806.0  Mainland China  ...  204.0           Hubei     116.0\n",
              "\n",
              "[435 rows x 7 columns]"
            ]
          },
          "metadata": {
            "tags": []
          },
          "execution_count": 4
        }
      ]
    },
    {
      "cell_type": "code",
      "metadata": {
        "id": "kqs4KOyxCsiW",
        "outputId": "cc7b6ea4-7924-4442-f160-94528ffd358d",
        "colab": {
          "base_uri": "https://localhost:8080/",
          "height": 204
        }
      },
      "source": [
        "# Сгруппируем по стране/региону, где подтверждены случаи заражения Это для первого датасета\n",
        "cases_by_country = dataframe.groupby(['province'])['confirmed'].sum().to_frame(name = 'Confirmed').reset_index()\n",
        "cases_by_country.columns = ['province','confirmed']\n",
        "cases_by_country.sort_values(by='confirmed', ascending=False, inplace=True)\n",
        "cases_by_country.head()"
      ],
      "execution_count": 5,
      "outputs": [
        {
          "output_type": "execute_result",
          "data": {
            "text/html": [
              "<div>\n",
              "<style scoped>\n",
              "    .dataframe tbody tr th:only-of-type {\n",
              "        vertical-align: middle;\n",
              "    }\n",
              "\n",
              "    .dataframe tbody tr th {\n",
              "        vertical-align: top;\n",
              "    }\n",
              "\n",
              "    .dataframe thead th {\n",
              "        text-align: right;\n",
              "    }\n",
              "</style>\n",
              "<table border=\"1\" class=\"dataframe\">\n",
              "  <thead>\n",
              "    <tr style=\"text-align: right;\">\n",
              "      <th></th>\n",
              "      <th>province</th>\n",
              "      <th>confirmed</th>\n",
              "    </tr>\n",
              "  </thead>\n",
              "  <tbody>\n",
              "    <tr>\n",
              "      <th>18</th>\n",
              "      <td>Hubei</td>\n",
              "      <td>20572.0</td>\n",
              "    </tr>\n",
              "    <tr>\n",
              "      <th>44</th>\n",
              "      <td>Zhejiang</td>\n",
              "      <td>1746.0</td>\n",
              "    </tr>\n",
              "    <tr>\n",
              "      <th>10</th>\n",
              "      <td>Guangdong</td>\n",
              "      <td>1451.0</td>\n",
              "    </tr>\n",
              "    <tr>\n",
              "      <th>16</th>\n",
              "      <td>Henan</td>\n",
              "      <td>1234.0</td>\n",
              "    </tr>\n",
              "    <tr>\n",
              "      <th>19</th>\n",
              "      <td>Hunan</td>\n",
              "      <td>1136.0</td>\n",
              "    </tr>\n",
              "  </tbody>\n",
              "</table>\n",
              "</div>"
            ],
            "text/plain": [
              "     province  confirmed\n",
              "18      Hubei    20572.0\n",
              "44   Zhejiang     1746.0\n",
              "10  Guangdong     1451.0\n",
              "16      Henan     1234.0\n",
              "19      Hunan     1136.0"
            ]
          },
          "metadata": {
            "tags": []
          },
          "execution_count": 5
        }
      ]
    },
    {
      "cell_type": "code",
      "metadata": {
        "id": "O2pgBeAKSuWG",
        "outputId": "248752de-2be0-4a35-eabf-c3b4303be970",
        "colab": {
          "base_uri": "https://localhost:8080/",
          "height": 204
        }
      },
      "source": [
        "cases_by_country = dataframe.groupby(['country'])['confirmed'].sum().to_frame(name = 'confirmed').reset_index()\n",
        "cases_by_country.columns = ['country','confirmed']\n",
        "cases_by_country.sort_values(by='confirmed', ascending=False, inplace=True)\n",
        "cases_by_country.head()"
      ],
      "execution_count": 6,
      "outputs": [
        {
          "output_type": "execute_result",
          "data": {
            "text/html": [
              "<div>\n",
              "<style scoped>\n",
              "    .dataframe tbody tr th:only-of-type {\n",
              "        vertical-align: middle;\n",
              "    }\n",
              "\n",
              "    .dataframe tbody tr th {\n",
              "        vertical-align: top;\n",
              "    }\n",
              "\n",
              "    .dataframe thead th {\n",
              "        text-align: right;\n",
              "    }\n",
              "</style>\n",
              "<table border=\"1\" class=\"dataframe\">\n",
              "  <thead>\n",
              "    <tr style=\"text-align: right;\">\n",
              "      <th></th>\n",
              "      <th>country</th>\n",
              "      <th>confirmed</th>\n",
              "    </tr>\n",
              "  </thead>\n",
              "  <tbody>\n",
              "    <tr>\n",
              "      <th>15</th>\n",
              "      <td>Mainland China</td>\n",
              "      <td>33986.0</td>\n",
              "    </tr>\n",
              "    <tr>\n",
              "      <th>4</th>\n",
              "      <td>China</td>\n",
              "      <td>549.0</td>\n",
              "    </tr>\n",
              "    <tr>\n",
              "      <th>24</th>\n",
              "      <td>Thailand</td>\n",
              "      <td>75.0</td>\n",
              "    </tr>\n",
              "    <tr>\n",
              "      <th>9</th>\n",
              "      <td>Hong Kong</td>\n",
              "      <td>55.0</td>\n",
              "    </tr>\n",
              "    <tr>\n",
              "      <th>13</th>\n",
              "      <td>Japan</td>\n",
              "      <td>44.0</td>\n",
              "    </tr>\n",
              "  </tbody>\n",
              "</table>\n",
              "</div>"
            ],
            "text/plain": [
              "           country  confirmed\n",
              "15  Mainland China    33986.0\n",
              "4            China      549.0\n",
              "24        Thailand       75.0\n",
              "9        Hong Kong       55.0\n",
              "13           Japan       44.0"
            ]
          },
          "metadata": {
            "tags": []
          },
          "execution_count": 6
        }
      ]
    },
    {
      "cell_type": "code",
      "metadata": {
        "id": "0ver95gmCsoX"
      },
      "source": [
        "# Перемешаем данные\n",
        "# dataframe = shuffle(dataframe)\n",
        "# dataframe"
      ],
      "execution_count": null,
      "outputs": []
    },
    {
      "cell_type": "code",
      "metadata": {
        "id": "DnAUrWibJXoP",
        "outputId": "8ba6c119-100d-490a-e520-5e27726abb80",
        "colab": {
          "base_uri": "https://localhost:8080/",
          "height": 572
        }
      },
      "source": [
        "# Отобразим как график заражённых\n",
        "\n",
        "# Что будем использовать на графике в качестве имени\n",
        "def location_label(row):\n",
        "    if pd.isnull(row['Province/State']):\n",
        "        return row['Country/Region']\n",
        "    else:\n",
        "        return row['Province/State']\n",
        "\n",
        "# Построим график\n",
        "ax = cases_by_country.plot.bar(x='country', y='confirmed', figsize=(16, 7))\n",
        "ax.set_yscale('log') # используем логарифмирование для лучшего отображения\n",
        "ax.set_title('Confirmed Infection')"
      ],
      "execution_count": 7,
      "outputs": [
        {
          "output_type": "execute_result",
          "data": {
            "text/plain": [
              "Text(0.5, 1.0, 'Confirmed Infection')"
            ]
          },
          "metadata": {
            "tags": []
          },
          "execution_count": 7
        },
        {
          "output_type": "display_data",
          "data": {
            "image/png": "[encoded data removed]",
            "text/plain": [
              "<Figure size 1152x504 with 1 Axes>"
            ]
          },
          "metadata": {
            "tags": [],
            "needs_background": "light"
          }
        }
      ]
    },
    {
      "cell_type": "markdown",
      "metadata": {
        "id": "MWIXvGVbtIPw"
      },
      "source": [
        "# Данный раздел с визуализацией на карте находится в разработке"
      ]
    },
    {
      "cell_type": "code",
      "metadata": {
        "id": "XnUUCgrkK7RV"
      },
      "source": [
        "# Взять данные с сайта https://www.naturalearthdata.com/ и адаптировать для отображения на карте\n",
        "world_lines = geopandas.read_file('zip://./shapefiles/ne_50m_admin_0_countries.zip')\n",
        "world = world_lines[(world_lines['POP_EST']>0) & (world_lines['ADMIN']!='Antarctica')]\n",
        "world = world.rename(columns = {'ADMIN':'name'})"
      ],
      "execution_count": null,
      "outputs": []
    },
    {
      "cell_type": "code",
      "metadata": {
        "id": "gAmW34QdK4lx"
      },
      "source": [
        "world_ncov = world.merge(jan25_12pm, left_on='name', right_on='Country/Region')\n",
        "# Корректировки отображения график\n",
        "w_ax = world.plot(color = \"whitesmoke\", edgecolor = \"lightgrey\", linewidth = 0.5, figsize=(18, 8));\n",
        "world_ncov.plot(ax=w_ax, column='Confirmed', cmap='OrRd', edgecolor = \"lightgrey\", linewidth = 0.5, figsize=(18, 8));"
      ],
      "execution_count": null,
      "outputs": []
    },
    {
      "cell_type": "code",
      "metadata": {
        "id": "Cb9NN9BxKy1I"
      },
      "source": [
        "cols = ['name','Confirmed','geometry'] \n",
        "ncov = pd.concat([world_ncov[cols],us_state_ncov[cols],china_provinces_ncov[cols],china_cities_ncov[cols]],ignore_index=True)\n",
        "\n",
        "ncov['log_confirmed'] = ncov.apply(lambda x: math.log10(x['Confirmed']), axis=1)\n",
        "ncov[['name','Confirmed','log_confirmed']].sort_values(by='log_confirmed', ascending=False).head()"
      ],
      "execution_count": null,
      "outputs": []
    },
    {
      "cell_type": "code",
      "metadata": {
        "id": "HtlpSPSoKljA"
      },
      "source": [
        "# Посмтроение графика\n",
        "ax = world.plot(\n",
        "    color = \"lightslategray\", \n",
        "    edgecolor = \"slategray\", \n",
        "    linewidth = 0.5, figsize=(18, 6));\n",
        "ax.set_facecolor(\"slategray\")\n",
        "ax.set_clip_on(False)\n",
        "#ax.axis('off')\n",
        "\n",
        "ncov.plot(\n",
        "    ax=ax, \n",
        "    column='Confirmed', \n",
        "    norm=colors.LogNorm(vmin=1, vmax=1000),\n",
        "    legend=True,\n",
        "    legend_kwds={'label': \"Confirmed 2019-nCoV Cases\"},\n",
        "    cmap='OrRd')"
      ],
      "execution_count": null,
      "outputs": []
    },
    {
      "cell_type": "code",
      "metadata": {
        "id": "1cjLH0setIP7"
      },
      "source": [
        "world = geopandas.read_file(\n",
        "    geopandas.datasets.get_path('naturalearth_lowres')\n",
        ")\n",
        "\n",
        "def plot_world(world):  \n",
        "    # Remove antartica\n",
        "    world = world[(world.name!=\"Antarctica\")]\n",
        "#     world = world.to_crs({'init': 'epsg:3395'})\n",
        "    \n",
        "    fig, ax = plt.subplots(figsize=(20,20)) # Set Size\n",
        "    \n",
        "    ax.set_title(\"World Map View\");\n",
        "    ax.axis(False) # Turn off axis\n",
        "    \n",
        "    world.plot(ax=ax, cmap='Reds')"
      ],
      "execution_count": null,
      "outputs": []
    },
    {
      "cell_type": "code",
      "metadata": {
        "id": "kmcCVnvbtIP-",
        "outputId": "6394c973-72c1-4ce5-845b-865a10f26659"
      },
      "source": [
        "plot_world(world)"
      ],
      "execution_count": null,
      "outputs": [
        {
          "output_type": "display_data",
          "data": {
            "image/png": "[encoded data removed]",
            "text/plain": [
              "<Figure size 1440x1440 with 1 Axes>"
            ]
          },
          "metadata": {
            "tags": []
          }
        }
      ]
    },
    {
      "cell_type": "markdown",
      "metadata": {
        "id": "pG04B0ito_pu"
      },
      "source": [
        "# Препроцессинг"
      ]
    },
    {
      "cell_type": "code",
      "metadata": {
        "id": "RrC7DAHzCsmy",
        "outputId": "3d2ba2ec-ca23-4be4-aa60-c6d097eba231",
        "colab": {
          "base_uri": "https://localhost:8080/",
          "height": 646
        }
      },
      "source": [
        "from sklearn import preprocessing\n",
        "\n",
        "df = dataframe.copy()\n",
        "# df.dropna()\n",
        "print(df.dtypes)\n",
        "\n",
        "le = preprocessing.LabelEncoder()\n",
        "# df[['Province/State']] = le.fit_transform(df['Province/State'].astype(str))\n",
        "# df[['Country/Region']] = le.fit_transform(df['Country/Region'].astype(str))\n",
        "# df = df.drop(columns='Last Update')\n",
        "# df = df.dropna()\n",
        "df[['province']] = le.fit_transform(df['province'].astype(str))\n",
        "df[['country']]  = le.fit_transform(df['country'].astype(str))\n",
        "df[['date']]     = le.fit_transform(df['date'].astype(str))\n",
        "df = df.dropna()\n",
        "df = pd.get_dummies(df, prefix='', prefix_sep='')\n",
        "\n",
        "# First 15 rows of our dataset.\n",
        "print(dataframe.head(15))\n",
        "\n",
        "def number_encode_features(init_df):\n",
        "    result = init_df.copy() # копируем нашу исходную таблицу\n",
        "    encoders = {}\n",
        "    for column in result.columns:\n",
        "        if result.dtypes[column] == np.object: # np.object -- строковый тип / если тип столбца - строка, то нужно его закодировать\n",
        "            encoders[column] = preprocessing.LabelEncoder() # для колонки column создаем кодировщик\n",
        "            result[column] = encoders[column].fit_transform(result[column]) # применяем кодировщик к столбцу и перезаписываем столбец\n",
        "    return result, encoders\n",
        "\n",
        "encoded_dataframe, encoders = number_encode_features(df) # Теперь encoded data содержит закодированные кат. признаки \n",
        "encoded_dataframe.head() "
      ],
      "execution_count": 8,
      "outputs": [
        {
          "output_type": "stream",
          "text": [
            "Unnamed: 0      int64\n",
            "confirmed     float64\n",
            "country        object\n",
            "date           object\n",
            "deaths        float64\n",
            "province       object\n",
            "recovered     float64\n",
            "dtype: object\n",
            "    Unnamed: 0  confirmed      country  ... deaths        province recovered\n",
            "0           37        1.0  South Korea  ...    0.0             NaN       0.0\n",
            "1           15        0.0        China  ...    0.0  Inner Mongolia       0.0\n",
            "2           14        4.0        China  ...    0.0           Hunan       0.0\n",
            "3           13      444.0        China  ...    0.0           Hubei       0.0\n",
            "4           12        NaN        China  ...    0.0       Hong Kong       0.0\n",
            "5           11        5.0        China  ...    0.0           Henan       0.0\n",
            "6           10        NaN        China  ...    0.0    Heilongjiang       0.0\n",
            "7            9        1.0        China  ...    0.0           Hebei       0.0\n",
            "8           16        1.0        China  ...    0.0         Jiangsu       0.0\n",
            "9            8        4.0        China  ...    0.0          Hainan       0.0\n",
            "10           6        2.0        China  ...    0.0         Guangxi       0.0\n",
            "11           5       26.0        China  ...    0.0       Guangdong       0.0\n",
            "12           4        0.0        China  ...    0.0           Gansu       0.0\n",
            "13           3        1.0        China  ...    0.0          Fujian       0.0\n",
            "14           2        6.0        China  ...    0.0       Chongqing       0.0\n",
            "\n",
            "[15 rows x 7 columns]\n"
          ],
          "name": "stdout"
        },
        {
          "output_type": "execute_result",
          "data": {
            "text/html": [
              "<div>\n",
              "<style scoped>\n",
              "    .dataframe tbody tr th:only-of-type {\n",
              "        vertical-align: middle;\n",
              "    }\n",
              "\n",
              "    .dataframe tbody tr th {\n",
              "        vertical-align: top;\n",
              "    }\n",
              "\n",
              "    .dataframe thead th {\n",
              "        text-align: right;\n",
              "    }\n",
              "</style>\n",
              "<table border=\"1\" class=\"dataframe\">\n",
              "  <thead>\n",
              "    <tr style=\"text-align: right;\">\n",
              "      <th></th>\n",
              "      <th>Unnamed: 0</th>\n",
              "      <th>confirmed</th>\n",
              "      <th>country</th>\n",
              "      <th>date</th>\n",
              "      <th>deaths</th>\n",
              "      <th>province</th>\n",
              "      <th>recovered</th>\n",
              "    </tr>\n",
              "  </thead>\n",
              "  <tbody>\n",
              "    <tr>\n",
              "      <th>0</th>\n",
              "      <td>37</td>\n",
              "      <td>1.0</td>\n",
              "      <td>21</td>\n",
              "      <td>0</td>\n",
              "      <td>0.0</td>\n",
              "      <td>45</td>\n",
              "      <td>0.0</td>\n",
              "    </tr>\n",
              "    <tr>\n",
              "      <th>1</th>\n",
              "      <td>15</td>\n",
              "      <td>0.0</td>\n",
              "      <td>4</td>\n",
              "      <td>0</td>\n",
              "      <td>0.0</td>\n",
              "      <td>21</td>\n",
              "      <td>0.0</td>\n",
              "    </tr>\n",
              "    <tr>\n",
              "      <th>2</th>\n",
              "      <td>14</td>\n",
              "      <td>4.0</td>\n",
              "      <td>4</td>\n",
              "      <td>0</td>\n",
              "      <td>0.0</td>\n",
              "      <td>19</td>\n",
              "      <td>0.0</td>\n",
              "    </tr>\n",
              "    <tr>\n",
              "      <th>3</th>\n",
              "      <td>13</td>\n",
              "      <td>444.0</td>\n",
              "      <td>4</td>\n",
              "      <td>0</td>\n",
              "      <td>0.0</td>\n",
              "      <td>18</td>\n",
              "      <td>0.0</td>\n",
              "    </tr>\n",
              "    <tr>\n",
              "      <th>5</th>\n",
              "      <td>11</td>\n",
              "      <td>5.0</td>\n",
              "      <td>4</td>\n",
              "      <td>0</td>\n",
              "      <td>0.0</td>\n",
              "      <td>16</td>\n",
              "      <td>0.0</td>\n",
              "    </tr>\n",
              "  </tbody>\n",
              "</table>\n",
              "</div>"
            ],
            "text/plain": [
              "   Unnamed: 0  confirmed  country  date  deaths  province  recovered\n",
              "0          37        1.0       21     0     0.0        45        0.0\n",
              "1          15        0.0        4     0     0.0        21        0.0\n",
              "2          14        4.0        4     0     0.0        19        0.0\n",
              "3          13      444.0        4     0     0.0        18        0.0\n",
              "5          11        5.0        4     0     0.0        16        0.0"
            ]
          },
          "metadata": {
            "tags": []
          },
          "execution_count": 8
        }
      ]
    },
    {
      "cell_type": "code",
      "metadata": {
        "id": "God_pmSPCsgR",
        "outputId": "6e52a5c0-20b3-426f-d778-8331b28f7178",
        "colab": {
          "base_uri": "https://localhost:8080/",
          "height": 297
        }
      },
      "source": [
        "encoded_dataframe.describe()"
      ],
      "execution_count": 9,
      "outputs": [
        {
          "output_type": "execute_result",
          "data": {
            "text/html": [
              "<div>\n",
              "<style scoped>\n",
              "    .dataframe tbody tr th:only-of-type {\n",
              "        vertical-align: middle;\n",
              "    }\n",
              "\n",
              "    .dataframe tbody tr th {\n",
              "        vertical-align: top;\n",
              "    }\n",
              "\n",
              "    .dataframe thead th {\n",
              "        text-align: right;\n",
              "    }\n",
              "</style>\n",
              "<table border=\"1\" class=\"dataframe\">\n",
              "  <thead>\n",
              "    <tr style=\"text-align: right;\">\n",
              "      <th></th>\n",
              "      <th>Unnamed: 0</th>\n",
              "      <th>confirmed</th>\n",
              "      <th>country</th>\n",
              "      <th>date</th>\n",
              "      <th>deaths</th>\n",
              "      <th>province</th>\n",
              "      <th>recovered</th>\n",
              "    </tr>\n",
              "  </thead>\n",
              "  <tbody>\n",
              "    <tr>\n",
              "      <th>count</th>\n",
              "      <td>368.000000</td>\n",
              "      <td>368.000000</td>\n",
              "      <td>368.000000</td>\n",
              "      <td>368.000000</td>\n",
              "      <td>368.000000</td>\n",
              "      <td>368.000000</td>\n",
              "      <td>368.000000</td>\n",
              "    </tr>\n",
              "    <tr>\n",
              "      <th>mean</th>\n",
              "      <td>25.059783</td>\n",
              "      <td>78.252717</td>\n",
              "      <td>14.445652</td>\n",
              "      <td>4.146739</td>\n",
              "      <td>2.116848</td>\n",
              "      <td>27.163043</td>\n",
              "      <td>1.380435</td>\n",
              "    </tr>\n",
              "    <tr>\n",
              "      <th>std</th>\n",
              "      <td>14.545118</td>\n",
              "      <td>458.555817</td>\n",
              "      <td>6.336373</td>\n",
              "      <td>2.540182</td>\n",
              "      <td>16.584026</td>\n",
              "      <td>14.363348</td>\n",
              "      <td>9.674926</td>\n",
              "    </tr>\n",
              "    <tr>\n",
              "      <th>min</th>\n",
              "      <td>0.000000</td>\n",
              "      <td>0.000000</td>\n",
              "      <td>0.000000</td>\n",
              "      <td>0.000000</td>\n",
              "      <td>0.000000</td>\n",
              "      <td>0.000000</td>\n",
              "      <td>0.000000</td>\n",
              "    </tr>\n",
              "    <tr>\n",
              "      <th>25%</th>\n",
              "      <td>13.000000</td>\n",
              "      <td>2.000000</td>\n",
              "      <td>15.000000</td>\n",
              "      <td>2.000000</td>\n",
              "      <td>0.000000</td>\n",
              "      <td>15.000000</td>\n",
              "      <td>0.000000</td>\n",
              "    </tr>\n",
              "    <tr>\n",
              "      <th>50%</th>\n",
              "      <td>25.000000</td>\n",
              "      <td>5.000000</td>\n",
              "      <td>15.000000</td>\n",
              "      <td>4.000000</td>\n",
              "      <td>0.000000</td>\n",
              "      <td>28.000000</td>\n",
              "      <td>0.000000</td>\n",
              "    </tr>\n",
              "    <tr>\n",
              "      <th>75%</th>\n",
              "      <td>36.000000</td>\n",
              "      <td>26.000000</td>\n",
              "      <td>15.000000</td>\n",
              "      <td>6.000000</td>\n",
              "      <td>0.000000</td>\n",
              "      <td>41.250000</td>\n",
              "      <td>0.000000</td>\n",
              "    </tr>\n",
              "    <tr>\n",
              "      <th>max</th>\n",
              "      <td>58.000000</td>\n",
              "      <td>5806.000000</td>\n",
              "      <td>27.000000</td>\n",
              "      <td>8.000000</td>\n",
              "      <td>204.000000</td>\n",
              "      <td>45.000000</td>\n",
              "      <td>116.000000</td>\n",
              "    </tr>\n",
              "  </tbody>\n",
              "</table>\n",
              "</div>"
            ],
            "text/plain": [
              "       Unnamed: 0    confirmed     country  ...      deaths    province   recovered\n",
              "count  368.000000   368.000000  368.000000  ...  368.000000  368.000000  368.000000\n",
              "mean    25.059783    78.252717   14.445652  ...    2.116848   27.163043    1.380435\n",
              "std     14.545118   458.555817    6.336373  ...   16.584026   14.363348    9.674926\n",
              "min      0.000000     0.000000    0.000000  ...    0.000000    0.000000    0.000000\n",
              "25%     13.000000     2.000000   15.000000  ...    0.000000   15.000000    0.000000\n",
              "50%     25.000000     5.000000   15.000000  ...    0.000000   28.000000    0.000000\n",
              "75%     36.000000    26.000000   15.000000  ...    0.000000   41.250000    0.000000\n",
              "max     58.000000  5806.000000   27.000000  ...  204.000000   45.000000  116.000000\n",
              "\n",
              "[8 rows x 7 columns]"
            ]
          },
          "metadata": {
            "tags": []
          },
          "execution_count": 9
        }
      ]
    },
    {
      "cell_type": "code",
      "metadata": {
        "id": "2CpE_IqeCset",
        "outputId": "8309b043-7dd7-49ef-8313-25c6d62d9526",
        "colab": {
          "base_uri": "https://localhost:8080/",
          "height": 1000
        }
      },
      "source": [
        "# Построим графики что бы увидеть распределение величин\n",
        "fig = plt.figure(figsize=(16,8))\n",
        "cols = 5\n",
        "\n",
        "rows = np.ceil(float(encoded_dataframe.shape[1]) / cols)\n",
        "for i, column in enumerate(encoded_dataframe.columns):\n",
        "    ax = fig.add_subplot(rows, cols, i + 1)\n",
        "    ax.set_title(column)\n",
        "    encoded_dataframe[column].hist(axes=ax)\n",
        "    plt.xticks(rotation=\"vertical\")\n",
        "plt.subplots_adjust(hspace=0.7, wspace=0.2)\n",
        "\n",
        "# Посмотрим, какие присутствуют корреляции\n",
        "def show_heat_map(dataframe):\n",
        "  plt.subplots(figsize=(10,10))\n",
        "  sns.heatmap(dataframe.corr(), square=True)\n",
        "  plt.show()\n",
        "\n",
        "show_heat_map(encoded_dataframe)"
      ],
      "execution_count": 10,
      "outputs": [
        {
          "output_type": "display_data",
          "data": {
            "image/png": "[encoded data removed]",
            "text/plain": [
              "<Figure size 1152x576 with 7 Axes>"
            ]
          },
          "metadata": {
            "tags": [],
            "needs_background": "light"
          }
        },
        {
          "output_type": "display_data",
          "data": {
            "image/png": "[encoded data removed]",
            "text/plain": [
              "<Figure size 720x720 with 2 Axes>"
            ]
          },
          "metadata": {
            "tags": [],
            "needs_background": "light"
          }
        }
      ]
    },
    {
      "cell_type": "code",
      "metadata": {
        "id": "YU42XOtpCscH",
        "outputId": "dc958121-5213-40b3-ade5-b805f662a2db",
        "colab": {
          "base_uri": "https://localhost:8080/"
        }
      },
      "source": [
        "# Выделим целвую переменную\n",
        "y = encoded_dataframe['confirmed'].values\n",
        "print(y)\n",
        "\n",
        "encoded_dataframe.drop(['confirmed'], axis=1, inplace = True)"
      ],
      "execution_count": 11,
      "outputs": [
        {
          "output_type": "stream",
          "text": [
            "[1.000e+00 0.000e+00 4.000e+00 4.440e+02 5.000e+00 1.000e+00 1.000e+00\n",
            " 4.000e+00 2.000e+00 2.600e+01 0.000e+00 1.000e+00 6.000e+00 1.400e+01\n",
            " 1.000e+00 1.000e+00 2.000e+00 2.000e+00 2.000e+00 2.000e+00 1.000e+01\n",
            " 1.000e+00 1.000e+00 0.000e+00 4.000e+00 1.000e+00 0.000e+00 1.000e+00\n",
            " 9.000e+00 2.000e+00 0.000e+00 0.000e+00 1.000e+00 1.000e+00 5.000e+00\n",
            " 2.000e+00 4.440e+02 9.000e+00 3.000e+00 7.000e+00 1.000e+00 5.000e+00\n",
            " 5.000e+00 2.000e+00 2.200e+01 5.000e+00 3.000e+00 5.000e+00 3.200e+01\n",
            " 2.000e+00 5.000e+00 9.000e+00 2.000e+00 9.000e+00 1.000e+00 0.000e+00\n",
            " 1.000e+00 3.000e+00 2.000e+00 1.000e+00 3.000e+00 1.000e+00 1.000e+00\n",
            " 2.000e+00 6.000e+00 2.700e+01 1.000e+00 8.000e+00 1.000e+00 1.600e+01\n",
            " 0.000e+00 1.000e+00 2.000e+00 4.000e+00 1.500e+01 5.000e+00 5.000e+00\n",
            " 8.000e+00 9.000e+00 9.000e+00 1.000e+01 1.500e+01 1.800e+01 2.000e+01\n",
            " 2.300e+01 2.700e+01 3.600e+01 4.300e+01 5.300e+01 5.490e+02 1.500e+01\n",
            " 4.000e+00 2.400e+01 3.000e+00 3.000e+00 2.000e+00 2.000e+00 3.000e+00\n",
            " 2.000e+00 5.000e+00 2.000e+00 1.000e+00 1.000e+00 8.000e+00 1.000e+00\n",
            " 1.000e+00 2.000e+00 2.000e+00 3.000e+00 2.000e+00 2.000e+00 2.000e+00\n",
            " 1.052e+03 1.300e+01 1.500e+01 1.500e+01 1.900e+01 1.900e+01 3.100e+01\n",
            " 3.300e+01 4.000e+01 3.900e+01 4.400e+01 6.000e+01 6.900e+01 7.500e+01\n",
            " 9.800e+01 3.600e+01 1.100e+01 1.040e+02 7.000e+00 9.000e+00 3.000e+00\n",
            " 1.000e+00 4.000e+00 3.000e+00 2.000e+00 3.000e+00 3.000e+00 7.000e+00\n",
            " 2.000e+00 5.100e+01 1.000e+00 1.000e+00 2.000e+00 3.000e+00 4.000e+00\n",
            " 4.000e+00 4.000e+00 5.000e+00 5.000e+00 7.000e+00 1.000e+00 3.500e+01\n",
            " 2.300e+01 2.200e+01 1.800e+01 2.100e+01 1.900e+01 4.600e+01 2.200e+01\n",
            " 6.900e+01 5.300e+01 6.300e+01 1.400e+01 7.000e+01 1.000e+02 1.100e+02\n",
            " 1.280e+02 1.423e+03 4.800e+01 1.400e+01 6.000e+00 1.100e+01 1.000e+00\n",
            " 4.000e+00 1.000e+00 4.000e+00 3.000e+00 2.000e+00 4.000e+00 3.000e+00\n",
            " 1.300e+01 2.000e+00 1.000e+00 4.000e+00 4.000e+00 4.000e+00 5.000e+00\n",
            " 6.000e+00 7.000e+00 8.000e+00 1.000e+00 1.000e+00 1.000e+00 1.000e+00\n",
            " 0.000e+00 2.300e+01 2.600e+01 2.700e+01 3.000e+01 3.300e+01 3.300e+01\n",
            " 3.500e+01 5.100e+01 5.900e+01 6.600e+01 2.000e+01 8.700e+01 9.000e+01\n",
            " 1.000e+02 1.060e+02 1.320e+02 1.680e+02 2.714e+03 4.000e+00 8.000e+01\n",
            " 1.900e+01 9.000e+00 1.100e+01 1.000e+00 1.000e+00 1.000e+00 4.000e+00\n",
            " 1.000e+00 3.000e+00 5.000e+00 4.000e+00 2.000e+00 7.000e+00 2.000e+00\n",
            " 1.000e+00 1.000e+00 5.000e+00 5.000e+00 6.000e+00 6.000e+00 6.000e+00\n",
            " 1.000e+00 8.000e+00 5.600e+01 4.800e+01 4.400e+01 2.500e+01 3.700e+01\n",
            " 3.600e+01 2.700e+01 8.000e+01 4.300e+01 8.200e+01 3.554e+03 1.080e+02\n",
            " 1.210e+02 1.520e+02 2.060e+02 2.210e+02 2.400e+01 9.100e+01 1.600e+01\n",
            " 1.000e+00 1.200e+01 4.000e+00 1.300e+01 1.000e+00 4.000e+00 1.000e+00\n",
            " 1.000e+00 1.000e+00 1.000e+00 1.000e+00 4.000e+00 2.000e+00 7.000e+00\n",
            " 7.000e+00 2.000e+00 1.000e+00 1.000e+00 6.000e+00 7.000e+00 8.000e+00\n",
            " 8.000e+00 4.000e+00 9.000e+00 9.000e+00 6.500e+01 5.600e+01 5.500e+01\n",
            " 4.300e+01 2.600e+01 2.700e+01 1.600e+01 4.300e+01 1.010e+02 1.110e+02\n",
            " 1.420e+02 2.770e+02 2.780e+02 4.586e+03 1.010e+02 1.400e+01 1.000e+00\n",
            " 1.200e+01 4.000e+00 1.000e+00 4.000e+00 1.000e+00 2.000e+00 4.000e+00\n",
            " 1.000e+00 2.000e+00 7.000e+00 1.000e+00 5.000e+00 2.000e+00 1.000e+00\n",
            " 4.000e+00 1.000e+01 8.000e+00 7.000e+00 6.000e+00 1.000e+00 1.000e+00\n",
            " 2.000e+00 1.000e+01 1.000e+00 1.000e+00 5.000e+01 8.700e+01 5.900e+01\n",
            " 1.700e+01 3.200e+01 2.900e+01 2.000e+01 7.600e+01 8.200e+01 1.010e+02\n",
            " 1.210e+02 1.280e+02 1.770e+02 3.520e+02 2.000e+00 9.000e+00 2.000e+00\n",
            " 1.000e+00 1.000e+00 4.000e+00 1.000e+00 4.000e+00 3.000e+00 2.000e+00\n",
            " 1.000e+00 1.000e+00 1.000e+00 2.000e+00 8.000e+00 1.000e+00 5.000e+00\n",
            " 1.000e+01 6.000e+00 1.000e+00 2.000e+00 2.000e+00 1.000e+00 1.000e+00\n",
            " 7.000e+00 8.000e+00 1.200e+01 5.806e+03]\n"
          ],
          "name": "stdout"
        }
      ]
    },
    {
      "cell_type": "code",
      "metadata": {
        "id": "6XLSstSeCsYv",
        "outputId": "554a2e66-9421-4bdc-ea57-e73e4654a80f",
        "colab": {
          "base_uri": "https://localhost:8080/"
        }
      },
      "source": [
        "X = encoded_dataframe.values.astype(np.float)\n",
        "print(X, '\\n')\n",
        "\n",
        "sc = sklearn.preprocessing.StandardScaler()\n",
        "X = sc.fit_transform(X)\n",
        "X"
      ],
      "execution_count": 12,
      "outputs": [
        {
          "output_type": "stream",
          "text": [
            "[[ 37.  21.   0.   0.  45.   0.]\n",
            " [ 15.   4.   0.   0.  21.   0.]\n",
            " [ 14.   4.   0.   0.  19.   0.]\n",
            " ...\n",
            " [ 31.  15.   8.   0.  30.   0.]\n",
            " [ 29.   9.   8.   0.  17.   0.]\n",
            " [  0.  15.   8. 204.  18. 116.]] \n",
            "\n"
          ],
          "name": "stdout"
        },
        {
          "output_type": "execute_result",
          "data": {
            "text/plain": [
              "array([[ 0.8220266 ,  1.03580882, -1.63468018, -0.12781757,  1.24352908,\n",
              "        -0.14287595],\n",
              "       [-0.6925677 , -1.65076663, -1.63468018, -0.12781757, -0.42966544,\n",
              "        -0.14287595],\n",
              "       [-0.7614129 , -1.65076663, -1.63468018, -0.12781757, -0.56909832,\n",
              "        -0.14287595],\n",
              "       ...,\n",
              "       [ 0.40895543,  0.08760572,  1.51898853, -0.12781757,  0.1977825 ,\n",
              "        -0.14287595],\n",
              "       [ 0.27126504, -0.86059738,  1.51898853, -0.12781757, -0.70853119,\n",
              "        -0.14287595],\n",
              "       [-1.72524563,  0.08760572,  1.51898853, 12.18992389, -0.63881475,\n",
              "        11.8632035 ]])"
            ]
          },
          "metadata": {
            "tags": []
          },
          "execution_count": 12
        }
      ]
    },
    {
      "cell_type": "code",
      "metadata": {
        "id": "3JlEZnO3CsWn",
        "outputId": "aa21c0e6-774a-42a8-f46f-eb30f8ea23e3",
        "colab": {
          "base_uri": "https://localhost:8080/"
        }
      },
      "source": [
        "X_train, X_test, y_train, y_test = train_test_split(X, y, test_size=0.35, random_state=0)\n",
        "print(X_train)\n",
        "print(y_train)\n",
        "print('\\n', X_test)\n",
        "print(y_test)"
      ],
      "execution_count": 13,
      "outputs": [
        {
          "output_type": "stream",
          "text": [
            "[[ 1.30394297  0.56170727  1.12477994 -0.12781757  1.24352908 -0.14287595]\n",
            " [ 0.40895543 -0.07042813  0.73057135 -0.12781757 -0.08108325 -0.14287595]\n",
            " [-0.34834172 -1.65076663 -1.63468018 -0.12781757 -0.08108325 -0.14287595]\n",
            " ...\n",
            " [-0.7614129   0.08760572 -0.45205442 -0.12781757 -0.98739694 -0.14287595]\n",
            " [-1.31217446  0.08760572 -1.24047159 -0.12781757 -1.12682982 -0.14287595]\n",
            " [ 0.13357465  0.08760572 -0.05784583 -0.12781757 -0.22051612 -0.14287595]]\n",
            "[1.000e+00 7.000e+00 1.000e+00 1.000e+00 5.000e+00 5.806e+03 3.000e+00\n",
            " 2.700e+01 8.000e+01 1.000e+00 5.300e+01 2.000e+00 4.000e+00 1.280e+02\n",
            " 3.000e+00 3.000e+00 1.000e+00 3.000e+00 4.000e+00 3.000e+00 2.000e+00\n",
            " 1.100e+02 9.000e+00 2.000e+00 2.770e+02 8.200e+01 1.400e+01 1.000e+00\n",
            " 1.000e+00 6.000e+00 1.000e+00 1.800e+01 1.400e+01 3.000e+00 8.000e+00\n",
            " 1.000e+01 8.000e+01 1.520e+02 2.000e+00 1.000e+00 1.900e+01 5.000e+00\n",
            " 5.000e+00 2.200e+01 0.000e+00 1.040e+02 3.000e+00 2.000e+00 1.000e+02\n",
            " 1.000e+00 3.000e+00 2.000e+00 1.000e+00 9.000e+00 2.780e+02 4.000e+00\n",
            " 1.000e+00 1.000e+00 1.000e+00 2.000e+00 8.000e+00 2.200e+01 1.210e+02\n",
            " 6.900e+01 2.000e+01 6.000e+00 8.000e+00 3.100e+01 8.700e+01 1.000e+00\n",
            " 1.000e+00 2.000e+00 5.000e+00 2.100e+01 1.000e+00 2.000e+00 8.000e+00\n",
            " 5.000e+00 2.000e+00 1.010e+02 5.900e+01 2.060e+02 7.000e+00 2.000e+00\n",
            " 5.000e+00 2.000e+00 1.000e+00 1.000e+00 8.000e+00 1.000e+00 1.000e+00\n",
            " 2.300e+01 1.000e+00 4.000e+00 2.000e+00 9.000e+00 1.000e+00 1.052e+03\n",
            " 1.400e+01 2.000e+00 5.000e+00 4.300e+01 4.440e+02 3.554e+03 7.500e+01\n",
            " 4.000e+00 0.000e+00 8.000e+00 1.000e+00 5.000e+00 1.000e+00 3.520e+02\n",
            " 1.000e+00 4.000e+00 2.000e+00 2.000e+00 4.000e+00 1.300e+01 1.000e+00\n",
            " 1.000e+01 9.000e+00 4.000e+00 1.000e+00 1.000e+00 7.000e+00 3.600e+01\n",
            " 0.000e+00 4.440e+02 1.000e+00 2.000e+00 5.000e+00 5.000e+00 9.000e+01\n",
            " 2.700e+01 1.700e+01 4.000e+00 6.000e+01 1.000e+00 1.000e+00 1.000e+00\n",
            " 7.000e+00 4.000e+00 0.000e+00 2.000e+00 1.000e+00 3.300e+01 2.000e+00\n",
            " 2.000e+00 3.000e+00 2.400e+01 3.000e+00 4.000e+00 2.000e+00 1.000e+00\n",
            " 1.423e+03 1.600e+01 3.200e+01 2.000e+01 8.000e+00 4.000e+00 4.000e+00\n",
            " 1.000e+00 4.000e+00 9.000e+00 5.000e+01 1.200e+01 1.300e+01 3.500e+01\n",
            " 2.300e+01 3.900e+01 1.000e+00 1.210e+02 4.000e+00 1.800e+01 1.000e+00\n",
            " 3.300e+01 4.300e+01 3.000e+00 9.100e+01 1.000e+00 5.000e+00 1.000e+00\n",
            " 7.000e+00 2.000e+00 3.000e+00 9.000e+00 1.000e+01 1.100e+01 1.600e+01\n",
            " 9.000e+00 2.000e+00 6.300e+01 7.000e+00 3.700e+01 3.300e+01 0.000e+00\n",
            " 1.000e+00 3.600e+01 4.000e+00 2.000e+00 2.600e+01 2.900e+01 4.000e+00\n",
            " 5.600e+01 1.770e+02 4.000e+00 5.000e+00 1.010e+02 2.300e+01 2.500e+01\n",
            " 1.500e+01 1.000e+00 2.000e+00 7.600e+01 1.000e+00 7.000e+01 1.280e+02\n",
            " 1.000e+00 1.000e+00 8.000e+00 7.000e+00 1.000e+00 1.000e+00 5.300e+01\n",
            " 0.000e+00 4.300e+01 1.010e+02 4.400e+01 6.000e+00 1.060e+02 2.600e+01\n",
            " 1.000e+00 1.000e+00 1.080e+02 1.000e+01 1.000e+00 1.900e+01 5.000e+00\n",
            " 6.000e+00]\n",
            "\n",
            " [[-7.29609408e-02  8.76057212e-02 -8.46263005e-01 -1.27817570e-01\n",
            "   5.83496276e-02 -1.42875945e-01]\n",
            " [ 6.47294501e-02  8.76057212e-02  7.30571354e-01 -1.27817570e-01\n",
            "   5.83496276e-02 -1.42875945e-01]\n",
            " [-1.17448407e+00  8.76057212e-02 -1.24047159e+00 -1.27817570e-01\n",
            "  -9.87396944e-01 -1.42875945e-01]\n",
            " [ 4.77800623e-01 -1.65076663e+00 -1.63468018e+00 -1.27817570e-01\n",
            "   1.03437976e+00 -1.42875945e-01]\n",
            " [-7.61412895e-01  8.76057212e-02 -8.46263005e-01 -1.27817570e-01\n",
            "  -3.59949001e-01 -1.42875945e-01]\n",
            " [ 1.85470453e+00 -2.28290203e+00  1.51898853e+00 -1.27817570e-01\n",
            "   2.67498942e-01 -1.42875945e-01]\n",
            " [-1.10563887e+00  8.76057212e-02 -8.46263005e-01 -1.27817570e-01\n",
            "   6.16081133e-01 -1.42875945e-01]\n",
            " [-3.48341723e-01  8.76057212e-02  7.30571354e-01 -1.27817570e-01\n",
            "  -1.50799687e-01 -1.42875945e-01]\n",
            " [-6.92567700e-01  8.76057212e-02  7.30571354e-01 -1.27817570e-01\n",
            "   3.37215380e-01 -1.42875945e-01]\n",
            " [-6.23722504e-01 -1.65076663e+00 -1.63468018e+00 -1.27817570e-01\n",
            "  -3.59949001e-01 -1.42875945e-01]\n",
            " [-1.10563887e+00  8.76057212e-02 -4.52054415e-01 -6.74364842e-02\n",
            "   4.76648256e-01 -3.93752606e-02]\n",
            " [-1.24332926e+00  8.76057212e-02 -4.52054415e-01 -1.27817570e-01\n",
            "  -1.68456133e+00  6.41254243e-02]\n",
            " [ 1.64816895e+00 -2.28290203e+00  7.30571354e-01 -1.27817570e-01\n",
            "  -1.13668106e-02 -1.42875945e-01]\n",
            " [-7.29609408e-02  8.76057212e-02  3.36362764e-01 -1.27817570e-01\n",
            "  -4.29665439e-01 -1.42875945e-01]\n",
            " [ 1.57932375e+00 -1.96683433e+00  1.12477994e+00 -1.27817570e-01\n",
            "   1.24352908e+00 -1.42875945e-01]\n",
            " [ 1.02856219e+00  1.03580882e+00  1.51898853e+00 -1.27817570e-01\n",
            "   1.24352908e+00 -1.42875945e-01]\n",
            " [ 1.09740738e+00  1.98401192e+00  3.36362764e-01 -1.27817570e-01\n",
            "   1.24352908e+00 -1.42875945e-01]\n",
            " [ 6.15491014e-01  1.66794422e+00 -8.46263005e-01 -1.27817570e-01\n",
            "  -1.47541201e+00 -1.42875945e-01]\n",
            " [ 1.51047855e+00 -1.96683433e+00  7.30571354e-01 -1.27817570e-01\n",
            "   1.24352908e+00 -1.42875945e-01]\n",
            " [ 6.84336209e-01 -2.28461979e-01 -4.52054415e-01 -1.27817570e-01\n",
            "   1.24352908e+00 -1.42875945e-01]\n",
            " [ 5.46645818e-01  1.66794422e+00 -4.52054415e-01 -1.27817570e-01\n",
            "   9.64663323e-01 -1.42875945e-01]\n",
            " [-4.86032113e-01  8.76057212e-02  3.36362764e-01 -6.74364842e-02\n",
            "  -8.47964068e-01 -1.42875945e-01]\n",
            " [ 8.22026600e-01  1.03580882e+00 -1.24047159e+00 -1.27817570e-01\n",
            "   1.24352908e+00 -1.42875945e-01]\n",
            " [-1.10563887e+00  8.76057212e-02  1.12477994e+00 -6.74364842e-02\n",
            "   6.16081133e-01 -3.93752606e-02]\n",
            " [ 1.37278816e+00 -1.80880048e+00  7.30571354e-01 -1.27817570e-01\n",
            "   1.28066066e-01 -1.42875945e-01]\n",
            " [-1.51871005e+00  8.76057212e-02  7.30571354e-01 -1.27817570e-01\n",
            "  -5.69098316e-01 -1.42875945e-01]\n",
            " [ 2.02419841e-01  1.35187652e+00 -1.24047159e+00 -1.27817570e-01\n",
            "   6.85797571e-01 -1.42875945e-01]\n",
            " [ 1.23509777e+00 -1.17666508e+00  1.12477994e+00 -1.27817570e-01\n",
            "   1.24352908e+00 -1.42875945e-01]\n",
            " [-4.17186918e-01  8.76057212e-02 -4.52054415e-01 -1.27817570e-01\n",
            "   7.55514009e-01 -1.42875945e-01]\n",
            " [ 4.77800623e-01 -7.04281288e-02  1.51898853e+00 -1.27817570e-01\n",
            "  -8.10832487e-02 -1.42875945e-01]\n",
            " [-1.38101965e+00  8.76057212e-02 -4.52054415e-01 -1.27817570e-01\n",
            "  -5.69098316e-01 -1.42875945e-01]\n",
            " [ 5.46645818e-01  1.66794422e+00 -8.46263005e-01 -1.27817570e-01\n",
            "   9.64663323e-01 -1.42875945e-01]\n",
            " [-1.24332926e+00 -1.65076663e+00 -1.63468018e+00 -1.27817570e-01\n",
            "  -1.05711338e+00 -1.42875945e-01]\n",
            " [-7.61412895e-01  8.76057212e-02 -1.24047159e+00 -1.27817570e-01\n",
            "  -5.69098316e-01 -1.42875945e-01]\n",
            " [-1.10563887e+00  8.76057212e-02 -1.24047159e+00 -1.27817570e-01\n",
            "  -9.17680506e-01 -1.42875945e-01]\n",
            " [-1.10563887e+00 -1.65076663e+00 -1.63468018e+00 -1.27817570e-01\n",
            "  -9.17680506e-01 -1.42875945e-01]\n",
            " [ 7.53181404e-01  1.50991037e+00 -1.24047159e+00 -1.27817570e-01\n",
            "   1.24352908e+00 -1.42875945e-01]\n",
            " [ 1.23509777e+00  2.45639571e-01 -4.52054415e-01 -1.27817570e-01\n",
            "   1.24352908e+00 -1.42875945e-01]\n",
            " [-4.86032113e-01  8.76057212e-02  1.51898853e+00 -7.05539859e-03\n",
            "  -8.47964068e-01 -1.42875945e-01]\n",
            " [-7.29609408e-02  8.76057212e-02 -1.24047159e+00 -1.27817570e-01\n",
            "   4.06931818e-01 -1.42875945e-01]\n",
            " [-5.54877309e-01  8.76057212e-02  1.12477994e+00 -1.27817570e-01\n",
            "   1.10409620e+00 -1.42875945e-01]\n",
            " [ 1.92354973e+00 -1.01863123e+00  1.12477994e+00 -1.27817570e-01\n",
            "  -1.75427776e+00 -1.42875945e-01]\n",
            " [-1.58755524e+00  8.76057212e-02  3.36362764e-01 -6.74364842e-02\n",
            "  -7.78247630e-01 -1.42875945e-01]\n",
            " [-1.31217446e+00  8.76057212e-02  3.36362764e-01 -1.27817570e-01\n",
            "  -5.69098316e-01 -1.42875945e-01]\n",
            " [ 6.15491014e-01 -1.65076663e+00 -1.63468018e+00 -1.27817570e-01\n",
            "   1.17381264e+00 -1.42875945e-01]\n",
            " [ 1.78585934e+00 -2.28290203e+00  1.12477994e+00 -1.27817570e-01\n",
            "   8.94946885e-01 -1.42875945e-01]\n",
            " [-1.72524563e+00  8.76057212e-02  3.36362764e-01  5.91029099e+00\n",
            "  -6.38814754e-01  4.72165624e+00]\n",
            " [ 1.64816895e+00 -2.28290203e+00  3.36362764e-01 -1.27817570e-01\n",
            "  -1.13668106e-02 -1.42875945e-01]\n",
            " [-6.23722504e-01  8.76057212e-02  7.30571354e-01 -6.74364842e-02\n",
            "  -9.17680506e-01 -1.42875945e-01]\n",
            " [ 6.15491014e-01  8.76057212e-02 -1.24047159e+00 -1.27817570e-01\n",
            "   1.17381264e+00 -1.42875945e-01]\n",
            " [-7.29609408e-02  8.76057212e-02 -5.78458257e-02 -1.27817570e-01\n",
            "  -4.29665439e-01 -1.42875945e-01]\n",
            " [ 1.44163336e+00 -1.96683433e+00  3.36362764e-01 -1.27817570e-01\n",
            "   1.24352908e+00 -1.42875945e-01]\n",
            " [ 2.71265036e-01 -7.04281288e-02  3.36362764e-01 -1.27817570e-01\n",
            "  -8.10832487e-02 -1.42875945e-01]\n",
            " [-2.79496527e-01  8.76057212e-02 -5.78458257e-02 -1.27817570e-01\n",
            "   7.55514009e-01 -1.42875945e-01]\n",
            " [-1.38101965e+00  8.76057212e-02 -8.46263005e-01 -1.27817570e-01\n",
            "  -5.69098316e-01 -1.42875945e-01]\n",
            " [-2.10651332e-01  8.76057212e-02 -1.24047159e+00 -1.27817570e-01\n",
            "   1.97782504e-01 -1.42875945e-01]\n",
            " [-3.48341723e-01 -7.04281288e-02 -1.24047159e+00 -1.27817570e-01\n",
            "  -8.10832487e-02 -1.42875945e-01]\n",
            " [ 1.02856219e+00 -1.17666508e+00 -4.52054415e-01 -1.27817570e-01\n",
            "   1.24352908e+00 -1.42875945e-01]\n",
            " [-1.72524563e+00  8.76057212e-02 -8.46263005e-01  1.32132848e+00\n",
            "  -6.38814754e-01  3.06564529e+00]\n",
            " [-5.54877309e-01  8.76057212e-02 -8.46263005e-01 -1.27817570e-01\n",
            "   1.10409620e+00 -1.42875945e-01]\n",
            " [ 4.08955427e-01  1.35187652e+00 -5.78458257e-02 -1.27817570e-01\n",
            "   6.85797571e-01 -1.42875945e-01]\n",
            " [ 1.09740738e+00  1.98401192e+00  7.30571354e-01 -1.27817570e-01\n",
            "   1.24352908e+00 -1.42875945e-01]\n",
            " [-1.17448407e+00 -1.65076663e+00 -1.63468018e+00 -1.27817570e-01\n",
            "  -9.87396944e-01 -1.42875945e-01]\n",
            " [ 6.84336209e-01 -2.28461979e-01 -8.46263005e-01 -1.27817570e-01\n",
            "   1.24352908e+00 -1.42875945e-01]\n",
            " [ 1.30394297e+00  2.45639571e-01  3.36362764e-01 -1.27817570e-01\n",
            "   1.24352908e+00 -1.42875945e-01]\n",
            " [ 2.13008531e+00  7.19741122e-01  1.51898853e+00 -1.27817570e-01\n",
            "   1.24352908e+00 -1.42875945e-01]\n",
            " [-2.79496527e-01  8.76057212e-02 -1.24047159e+00 -1.27817570e-01\n",
            "   5.83496276e-02 -1.42875945e-01]\n",
            " [-1.17448407e+00  8.76057212e-02 -4.52054415e-01 -1.27817570e-01\n",
            "   6.16081133e-01 -1.42875945e-01]\n",
            " [ 1.51047855e+00  1.19384267e+00  3.36362764e-01 -1.27817570e-01\n",
            "   1.24352908e+00 -1.42875945e-01]\n",
            " [-8.30258091e-01  8.76057212e-02 -5.78458257e-02 -1.27817570e-01\n",
            "  -1.12682982e+00 -1.42875945e-01]\n",
            " [-9.67948482e-01  8.76057212e-02 -8.46263005e-01 -1.27817570e-01\n",
            "  -1.89371064e+00 -1.42875945e-01]\n",
            " [-9.67948482e-01  8.76057212e-02 -5.78458257e-02 -1.27817570e-01\n",
            "  -2.90232563e-01 -1.42875945e-01]\n",
            " [-4.86032113e-01  8.76057212e-02 -4.52054415e-01 -1.27817570e-01\n",
            "   3.37215380e-01 -1.42875945e-01]\n",
            " [-7.61412895e-01  8.76057212e-02  3.36362764e-01 -1.27817570e-01\n",
            "  -1.12682982e+00 -1.42875945e-01]\n",
            " [ 5.46645818e-01  8.76057212e-02 -1.24047159e+00 -1.27817570e-01\n",
            "   1.10409620e+00 -1.42875945e-01]\n",
            " [ 1.23509777e+00 -1.17666508e+00  1.51898853e+00 -1.27817570e-01\n",
            "   1.24352908e+00 -1.42875945e-01]\n",
            " [-7.29609408e-02  8.76057212e-02  7.30571354e-01 -1.27817570e-01\n",
            "  -4.29665439e-01 -1.42875945e-01]\n",
            " [ 4.08955427e-01 -7.04281288e-02  1.12477994e+00 -1.27817570e-01\n",
            "  -8.10832487e-02 -1.42875945e-01]\n",
            " [-2.79496527e-01  8.76057212e-02  7.30571354e-01 -1.27817570e-01\n",
            "   5.46364694e-01 -1.42875945e-01]\n",
            " [-2.10651332e-01  8.76057212e-02  1.51898853e+00 -1.27817570e-01\n",
            "   7.55514009e-01 -1.42875945e-01]\n",
            " [ 5.46645818e-01 -1.65076663e+00 -1.63468018e+00 -1.27817570e-01\n",
            "   1.10409620e+00 -1.42875945e-01]\n",
            " [ 4.08955427e-01 -7.04281288e-02 -4.52054415e-01 -1.27817570e-01\n",
            "  -8.10832487e-02 -1.42875945e-01]\n",
            " [ 2.71265036e-01  8.76057212e-02 -4.52054415e-01 -1.27817570e-01\n",
            "   1.03437976e+00 -1.42875945e-01]\n",
            " [-1.44986485e+00  8.76057212e-02 -1.24047159e+00 -1.27817570e-01\n",
            "  -1.26626270e+00 -1.42875945e-01]\n",
            " [ 1.71701414e+00 -2.28290203e+00  1.12477994e+00 -1.27817570e-01\n",
            "  -1.13668106e-02 -1.42875945e-01]\n",
            " [-6.92567700e-01  8.76057212e-02  1.51898853e+00 -6.74364842e-02\n",
            "  -9.17680506e-01 -1.42875945e-01]\n",
            " [ 1.37278816e+00  2.45639571e-01  1.12477994e+00 -1.27817570e-01\n",
            "   1.24352908e+00 -1.42875945e-01]\n",
            " [-5.54877309e-01  8.76057212e-02  1.51898853e+00 -1.27817570e-01\n",
            "   3.37215380e-01 -1.42875945e-01]\n",
            " [-3.48341723e-01  8.76057212e-02  3.36362764e-01 -1.27817570e-01\n",
            "   1.10409620e+00 -1.42875945e-01]\n",
            " [ 2.02419841e-01  8.76057212e-02  7.30571354e-01 -1.27817570e-01\n",
            "  -2.20516125e-01 -1.42875945e-01]\n",
            " [ 3.40110232e-01  1.35187652e+00  1.12477994e+00 -1.27817570e-01\n",
            "   6.85797571e-01 -1.42875945e-01]\n",
            " [ 4.08955427e-01  1.66794422e+00 -1.63468018e+00 -1.27817570e-01\n",
            "   9.64663323e-01 -1.42875945e-01]\n",
            " [-8.99103286e-01  8.76057212e-02  3.36362764e-01 -6.74364842e-02\n",
            "   4.76648256e-01  1.67626109e-01]\n",
            " [ 6.84336209e-01  1.66794422e+00  3.36362764e-01 -1.27817570e-01\n",
            "  -1.54512845e+00 -1.42875945e-01]\n",
            " [ 6.84336209e-01  1.66794422e+00  7.30571354e-01 -1.27817570e-01\n",
            "  -1.54512845e+00 -1.42875945e-01]\n",
            " [ 9.59716991e-01  1.98401192e+00 -4.52054415e-01 -1.27817570e-01\n",
            "   1.24352908e+00 -1.42875945e-01]\n",
            " [-6.92567700e-01  8.76057212e-02 -4.52054415e-01 -1.27817570e-01\n",
            "  -1.50799687e-01 -1.42875945e-01]\n",
            " [ 6.47294501e-02  8.76057212e-02 -1.24047159e+00 -1.27817570e-01\n",
            "   5.46364694e-01 -1.42875945e-01]\n",
            " [ 1.09740738e+00 -2.28290203e+00 -4.52054415e-01 -1.27817570e-01\n",
            "   1.24352908e+00 -1.42875945e-01]\n",
            " [-1.58755524e+00 -1.65076663e+00 -1.63468018e+00 -1.27817570e-01\n",
            "  -1.40569557e+00 -1.42875945e-01]\n",
            " [-9.67948482e-01  8.76057212e-02  1.12477994e+00 -6.74364842e-02\n",
            "  -1.68456133e+00  2.71126794e-01]\n",
            " [-4.17186918e-01  8.76057212e-02 -5.78458257e-02 -1.27817570e-01\n",
            "   1.10409620e+00 -1.42875945e-01]\n",
            " [-1.72524563e+00  8.76057212e-02  1.12477994e+00  9.65391830e+00\n",
            "  -6.38814754e-01  9.17218569e+00]\n",
            " [ 1.37278816e+00  2.45639571e-01 -5.78458257e-02 -1.27817570e-01\n",
            "   1.24352908e+00 -1.42875945e-01]\n",
            " [ 7.53181404e-01  1.50991037e+00 -1.63468018e+00 -1.27817570e-01\n",
            "   1.24352908e+00 -1.42875945e-01]\n",
            " [-4.11574538e-03  8.76057212e-02  3.36362764e-01 -1.27817570e-01\n",
            "  -1.05711338e+00 -1.42875945e-01]\n",
            " [ 3.40110232e-01  1.35187652e+00 -4.52054415e-01 -1.27817570e-01\n",
            "   6.85797571e-01 -1.42875945e-01]\n",
            " [ 4.77800623e-01  8.76057212e-02  1.12477994e+00 -1.27817570e-01\n",
            "   1.97782504e-01 -1.42875945e-01]\n",
            " [ 3.40110232e-01  8.76057212e-02  3.36362764e-01 -1.27817570e-01\n",
            "   1.97782504e-01 -1.42875945e-01]\n",
            " [-1.44986485e+00  8.76057212e-02  3.36362764e-01 -1.27817570e-01\n",
            "  -1.40569557e+00 -1.42875945e-01]\n",
            " [-6.92567700e-01  8.76057212e-02 -8.46263005e-01 -1.27817570e-01\n",
            "  -9.87396944e-01 -1.42875945e-01]\n",
            " [ 6.47294501e-02  8.76057212e-02 -5.78458257e-02 -1.27817570e-01\n",
            "  -1.05711338e+00 -1.42875945e-01]\n",
            " [-4.17186918e-01  8.76057212e-02  3.36362764e-01 -1.27817570e-01\n",
            "  -1.50799687e-01 -1.42875945e-01]\n",
            " [-4.11574538e-03  8.76057212e-02  1.51898853e+00 -1.27817570e-01\n",
            "  -4.29665439e-01 -1.42875945e-01]\n",
            " [ 1.23509777e+00  5.61707272e-01  7.30571354e-01 -1.27817570e-01\n",
            "   1.24352908e+00 -1.42875945e-01]\n",
            " [ 1.09740738e+00  1.98401192e+00 -5.78458257e-02 -1.27817570e-01\n",
            "   1.24352908e+00 -1.42875945e-01]\n",
            " [ 2.02419841e-01  8.76057212e-02  1.12477994e+00 -1.27817570e-01\n",
            "   5.83496276e-02 -1.42875945e-01]\n",
            " [-4.11574538e-03  8.76057212e-02 -4.52054415e-01 -1.27817570e-01\n",
            "  -1.05711338e+00 -1.42875945e-01]\n",
            " [ 1.33574646e-01  8.76057212e-02  3.36362764e-01 -1.27817570e-01\n",
            "   5.83496276e-02 -1.42875945e-01]\n",
            " [-1.03679368e+00  8.76057212e-02 -8.46263005e-01 -1.27817570e-01\n",
            "   4.06931818e-01 -1.42875945e-01]\n",
            " [-6.92567700e-01 -1.65076663e+00 -1.63468018e+00 -1.27817570e-01\n",
            "  -4.29665439e-01 -1.42875945e-01]\n",
            " [-7.61412895e-01  8.76057212e-02 -5.78458257e-02 -1.27817570e-01\n",
            "  -1.33597913e+00 -1.42875945e-01]\n",
            " [-1.31217446e+00 -1.65076663e+00 -1.63468018e+00 -1.27817570e-01\n",
            "  -1.12682982e+00 -1.42875945e-01]\n",
            " [ 1.99239492e+00 -1.33469893e+00  1.12477994e+00 -1.27817570e-01\n",
            "   1.24352908e+00 -1.42875945e-01]\n",
            " [-4.86032113e-01  8.76057212e-02  7.30571354e-01 -6.74364842e-02\n",
            "  -9.87396944e-01 -1.42875945e-01]\n",
            " [-6.23722504e-01  8.76057212e-02 -5.78458257e-02 -1.27817570e-01\n",
            "  -9.87396944e-01 -1.42875945e-01]\n",
            " [-1.58755524e+00  8.76057212e-02 -4.52054415e-01 -1.27817570e-01\n",
            "  -1.19654626e+00  6.41254243e-02]\n",
            " [-6.92567700e-01  8.76057212e-02  1.12477994e+00 -6.74364842e-02\n",
            "  -9.17680506e-01 -1.42875945e-01]\n",
            " [ 1.16625258e+00  5.61707272e-01 -4.52054415e-01 -1.27817570e-01\n",
            "   1.24352908e+00 -1.42875945e-01]]\n",
            "[2.000e+00 1.200e+01 5.000e+00 0.000e+00 9.000e+00 3.000e+00 1.500e+01\n",
            " 3.600e+01 5.600e+01 1.000e+00 4.000e+01 5.100e+01 4.000e+00 1.100e+01\n",
            " 1.000e+00 6.000e+00 2.000e+00 1.000e+00 1.000e+00 2.000e+00 1.000e+00\n",
            " 3.000e+01 1.000e+00 1.420e+02 1.000e+00 2.210e+02 1.000e+00 5.000e+00\n",
            " 1.300e+01 7.000e+00 6.900e+01 1.000e+00 1.000e+00 9.000e+00 1.000e+00\n",
            " 1.000e+00 3.000e+00 3.000e+00 5.900e+01 6.000e+00 5.500e+01 4.000e+00\n",
            " 1.680e+02 1.000e+02 1.000e+01 2.000e+00 2.714e+03 4.000e+00 4.800e+01\n",
            " 2.700e+01 1.100e+01 1.000e+00 6.000e+00 1.400e+01 2.400e+01 0.000e+00\n",
            " 2.000e+00 3.000e+00 5.490e+02 5.000e+00 4.000e+00 2.000e+00 4.000e+00\n",
            " 2.000e+00 4.000e+00 1.000e+00 1.000e+00 4.400e+01 1.000e+00 4.600e+01\n",
            " 1.500e+01 4.800e+01 1.500e+01 5.100e+01 2.000e+00 5.000e+00 1.600e+01\n",
            " 7.000e+00 2.700e+01 3.200e+01 1.000e+00 2.000e+00 4.000e+00 2.000e+00\n",
            " 4.000e+00 8.200e+01 7.000e+00 8.700e+01 2.600e+01 9.000e+00 8.000e+00\n",
            " 1.000e+00 6.600e+01 2.000e+00 2.000e+00 2.000e+00 1.900e+01 1.000e+00\n",
            " 4.000e+00 6.000e+00 1.110e+02 1.900e+01 4.586e+03 4.000e+00 2.000e+00\n",
            " 9.000e+00 3.000e+00 6.000e+00 6.000e+00 1.320e+02 8.000e+00 7.000e+00\n",
            " 2.700e+01 2.000e+01 1.000e+00 2.000e+00 1.200e+01 5.000e+00 7.000e+00\n",
            " 1.500e+01 0.000e+00 3.500e+01 2.000e+00 1.000e+00 4.300e+01 2.200e+01\n",
            " 9.800e+01 6.500e+01 1.000e+00]\n"
          ],
          "name": "stdout"
        }
      ]
    },
    {
      "cell_type": "markdown",
      "metadata": {
        "id": "lcO792UVQtfU"
      },
      "source": [
        "# Построим логистическую регрессию с использованием данных для обучения"
      ]
    },
    {
      "cell_type": "code",
      "metadata": {
        "id": "sPK8LsE0CsUe",
        "outputId": "a06d98ec-03bf-4dc1-ae89-1b297654a1c9",
        "colab": {
          "base_uri": "https://localhost:8080/"
        }
      },
      "source": [
        "# Импортируем библиотеки\n",
        "from sklearn.linear_model import LogisticRegression\n",
        "from sklearn import metrics\n",
        "\n",
        "print(X_train.shape)\n",
        "print(y_train.shape)\n",
        "# X_train, X_test, y_train, y_test = train_test_split(X_train, y_train, test_size=0.3, random_state=0)\n",
        "\n",
        "# Создадим экземпляр класса логистической регрессии и передадим в него обучающие выборки\n",
        "logreg = LogisticRegression()\n",
        "logreg.fit(X_train, y_train)\n"
      ],
      "execution_count": 14,
      "outputs": [
        {
          "output_type": "stream",
          "text": [
            "(239, 6)\n",
            "(239,)\n"
          ],
          "name": "stdout"
        },
        {
          "output_type": "stream",
          "text": [
            "/usr/local/lib/python3.6/dist-packages/sklearn/linear_model/_logistic.py:940: ConvergenceWarning: lbfgs failed to converge (status=1):\n",
            "STOP: TOTAL NO. of ITERATIONS REACHED LIMIT.\n",
            "\n",
            "Increase the number of iterations (max_iter) or scale the data as shown in:\n",
            "    https://scikit-learn.org/stable/modules/preprocessing.html\n",
            "Please also refer to the documentation for alternative solver options:\n",
            "    https://scikit-learn.org/stable/modules/linear_model.html#logistic-regression\n",
            "  extra_warning_msg=_LOGISTIC_SOLVER_CONVERGENCE_MSG)\n"
          ],
          "name": "stderr"
        },
        {
          "output_type": "execute_result",
          "data": {
            "text/plain": [
              "LogisticRegression(C=1.0, class_weight=None, dual=False, fit_intercept=True,\n",
              "                   intercept_scaling=1, l1_ratio=None, max_iter=100,\n",
              "                   multi_class='auto', n_jobs=None, penalty='l2',\n",
              "                   random_state=None, solver='lbfgs', tol=0.0001, verbose=0,\n",
              "                   warm_start=False)"
            ]
          },
          "metadata": {
            "tags": []
          },
          "execution_count": 14
        }
      ]
    },
    {
      "cell_type": "code",
      "metadata": {
        "id": "wJz3TEQnCsSX",
        "outputId": "1bcb58ec-f9d3-4785-b7c1-410111a88b96",
        "colab": {
          "base_uri": "https://localhost:8080/"
        }
      },
      "source": [
        "y_pred = logreg.predict(X_test) \n",
        "print('Точность классификатора логистической регрессии на test set: {:.2f}'.format(logreg.score(X_test, y_test)))\n",
        "\n",
        "#Построим confusion matrix что бы увидеть точность по TP TN FP FN\n",
        "from sklearn.metrics import confusion_matrix\n",
        "confusion_matrix = confusion_matrix(y_test, y_pred)\n",
        "print(confusion_matrix, '\\n')\n",
        "\n",
        "# Выведем метрики нашего классификатора\n",
        "from sklearn.metrics import classification_report\n",
        "print(classification_report(y_test, y_pred))"
      ],
      "execution_count": 15,
      "outputs": [
        {
          "output_type": "stream",
          "text": [
            "Точность классификатора логистической регрессии на test set: 0.16\n",
            "[[ 1  2  0 ...  0  0  0]\n",
            " [ 1 17  0 ...  0  0  0]\n",
            " [ 0 14  0 ...  0  0  0]\n",
            " ...\n",
            " [ 0  0  0 ...  0  0  0]\n",
            " [ 0  0  0 ...  0  0  1]\n",
            " [ 0  0  0 ...  0  0  0]] \n",
            "\n",
            "              precision    recall  f1-score   support\n",
            "\n",
            "         0.0       0.50      0.33      0.40         3\n",
            "         1.0       0.21      0.77      0.33        22\n",
            "         2.0       0.00      0.00      0.00        16\n",
            "         3.0       0.00      0.00      0.00         5\n",
            "         4.0       0.00      0.00      0.00        10\n",
            "         5.0       0.08      0.40      0.13         5\n",
            "         6.0       0.00      0.00      0.00         6\n",
            "         7.0       0.00      0.00      0.00         5\n",
            "         8.0       0.00      0.00      0.00         2\n",
            "         9.0       0.00      0.00      0.00         4\n",
            "        10.0       0.00      0.00      0.00         1\n",
            "        11.0       0.00      0.00      0.00         2\n",
            "        12.0       0.00      0.00      0.00         2\n",
            "        13.0       0.00      0.00      0.00         1\n",
            "        14.0       0.00      0.00      0.00         1\n",
            "        15.0       0.00      0.00      0.00         4\n",
            "        16.0       0.00      0.00      0.00         1\n",
            "        19.0       0.00      0.00      0.00         2\n",
            "        20.0       0.00      0.00      0.00         1\n",
            "        22.0       0.00      0.00      0.00         1\n",
            "        24.0       0.00      0.00      0.00         1\n",
            "        26.0       0.00      0.00      0.00         1\n",
            "        27.0       0.00      0.00      0.00         3\n",
            "        30.0       0.00      0.00      0.00         1\n",
            "        32.0       0.00      0.00      0.00         1\n",
            "        35.0       0.00      0.00      0.00         1\n",
            "        36.0       0.00      0.00      0.00         1\n",
            "        40.0       0.00      0.00      0.00         1\n",
            "        43.0       0.00      0.00      0.00         1\n",
            "        44.0       0.00      0.00      0.00         1\n",
            "        46.0       0.00      0.00      0.00         1\n",
            "        48.0       0.00      0.00      0.00         2\n",
            "        51.0       0.00      0.00      0.00         2\n",
            "        55.0       0.00      0.00      0.00         1\n",
            "        56.0       0.00      0.00      0.00         1\n",
            "        59.0       0.00      0.00      0.00         1\n",
            "        65.0       0.00      0.00      0.00         1\n",
            "        66.0       0.00      0.00      0.00         1\n",
            "        69.0       0.00      0.00      0.00         1\n",
            "        82.0       0.00      0.00      0.00         1\n",
            "        87.0       0.00      0.00      0.00         1\n",
            "        98.0       0.00      0.00      0.00         1\n",
            "       100.0       0.00      0.00      0.00         1\n",
            "       101.0       0.00      0.00      0.00         0\n",
            "       111.0       0.00      0.00      0.00         1\n",
            "       132.0       0.00      0.00      0.00         1\n",
            "       142.0       0.00      0.00      0.00         1\n",
            "       168.0       0.00      0.00      0.00         1\n",
            "       221.0       0.00      0.00      0.00         1\n",
            "       549.0       0.00      0.00      0.00         1\n",
            "      1052.0       0.00      0.00      0.00         0\n",
            "      1423.0       0.00      0.00      0.00         0\n",
            "      2714.0       0.00      0.00      0.00         1\n",
            "      4586.0       0.00      0.00      0.00         1\n",
            "      5806.0       0.00      0.00      0.00         0\n",
            "\n",
            "    accuracy                           0.16       129\n",
            "   macro avg       0.01      0.03      0.02       129\n",
            "weighted avg       0.05      0.16      0.07       129\n",
            "\n"
          ],
          "name": "stdout"
        },
        {
          "output_type": "stream",
          "text": [
            "/usr/local/lib/python3.6/dist-packages/sklearn/metrics/_classification.py:1272: UndefinedMetricWarning: Precision and F-score are ill-defined and being set to 0.0 in labels with no predicted samples. Use `zero_division` parameter to control this behavior.\n",
            "  _warn_prf(average, modifier, msg_start, len(result))\n",
            "/usr/local/lib/python3.6/dist-packages/sklearn/metrics/_classification.py:1272: UndefinedMetricWarning: Recall and F-score are ill-defined and being set to 0.0 in labels with no true samples. Use `zero_division` parameter to control this behavior.\n",
            "  _warn_prf(average, modifier, msg_start, len(result))\n"
          ],
          "name": "stderr"
        }
      ]
    },
    {
      "cell_type": "code",
      "metadata": {
        "id": "OXtwg2aFCsQ3",
        "outputId": "f49d0511-167c-4553-e578-05a126112411",
        "colab": {
          "base_uri": "https://localhost:8080/",
          "height": 535
        }
      },
      "source": [
        "# Построим ROC кроивую для оценки модели в целом\n",
        "sns.set(font_scale=1.5)\n",
        "sns.set_color_codes(\"muted\")\n",
        "\n",
        "plt.figure(figsize=(10, 8))\n",
        "# Передадим целевой столбец ответом и результат классификатора\n",
        "fpr, tpr, thresholds = metrics.roc_curve(y_test, y_pred, pos_label=1)\n",
        "lw = 2\n",
        "\n",
        "# Зададим параметры отображения\n",
        "plt.plot(fpr, tpr, lw=lw, label='ROC curve ')\n",
        "plt.plot([0, 1], [0, 1])\n",
        "plt.xlim([0.0, 1.0])\n",
        "plt.ylim([0.0, 1.05])\n",
        "plt.xlabel('False Positive Rate')\n",
        "plt.ylabel('True Positive Rate')\n",
        "plt.title('ROC curve')\n",
        "plt.savefig(\"ROC.png\")\n",
        "plt.show()"
      ],
      "execution_count": 16,
      "outputs": [
        {
          "output_type": "display_data",
          "data": {
            "image/png": "[encoded data removed]",
            "text/plain": [
              "<Figure size 720x576 with 1 Axes>"
            ]
          },
          "metadata": {
            "tags": []
          }
        }
      ]
    },
    {
      "cell_type": "markdown",
      "metadata": {
        "id": "E_AgTCvlT_hB"
      },
      "source": [
        "# Добавим кросс валидацию для лог регрессии\n",
        "\n",
        "### Требуются доработки в плане ReShapeing-а или поиск другого решения"
      ]
    },
    {
      "cell_type": "code",
      "metadata": {
        "id": "KtoQrHk_CsNg",
        "outputId": "2a2ebe04-a993-4d13-ada2-ceec7adb3e41",
        "colab": {
          "base_uri": "https://localhost:8080/",
          "height": 1000
        }
      },
      "source": [
        "from sklearn.linear_model import LogisticRegressionCV\n",
        "\n",
        "# Всё равно, даже после препроцессинга получаю сообщение с просьбой увеличения\n",
        "# итераций хотя из уже 210 или с предложениями препроцессинга. \n",
        "# Increase the number of iterations (max_iter) or scale the data\n",
        "\n",
        "from sklearn import preprocessing\n",
        "X_scaled = preprocessing.scale(X_train)\n",
        "print(X_scaled.shape)\n",
        "\n",
        "# Скормим данные на которых она будет учиться\n",
        "logReg_cv = LogisticRegressionCV(cv=5, random_state=0, max_iter=210).fit(X_scaled, y_train)"
      ],
      "execution_count": null,
      "outputs": [
        {
          "output_type": "stream",
          "text": [
            "(239, 6)\n"
          ],
          "name": "stdout"
        },
        {
          "output_type": "stream",
          "text": [
            "/Users/michaelsalamakha/opt/anaconda3/lib/python3.7/site-packages/sklearn/model_selection/_split.py:667: UserWarning: The least populated class in y has only 1 members, which is less than n_splits=5.\n",
            "  % (min_groups, self.n_splits)), UserWarning)\n",
            "/Users/michaelsalamakha/opt/anaconda3/lib/python3.7/site-packages/sklearn/linear_model/_logistic.py:940: ConvergenceWarning: lbfgs failed to converge (status=1):\n",
            "STOP: TOTAL NO. of ITERATIONS REACHED LIMIT.\n",
            "\n",
            "Increase the number of iterations (max_iter) or scale the data as shown in:\n",
            "    https://scikit-learn.org/stable/modules/preprocessing.html\n",
            "Please also refer to the documentation for alternative solver options:\n",
            "    https://scikit-learn.org/stable/modules/linear_model.html#logistic-regression\n",
            "  extra_warning_msg=_LOGISTIC_SOLVER_CONVERGENCE_MSG)\n",
            "/Users/michaelsalamakha/opt/anaconda3/lib/python3.7/site-packages/sklearn/linear_model/_logistic.py:940: ConvergenceWarning: lbfgs failed to converge (status=1):\n",
            "STOP: TOTAL NO. of ITERATIONS REACHED LIMIT.\n",
            "\n",
            "Increase the number of iterations (max_iter) or scale the data as shown in:\n",
            "    https://scikit-learn.org/stable/modules/preprocessing.html\n",
            "Please also refer to the documentation for alternative solver options:\n",
            "    https://scikit-learn.org/stable/modules/linear_model.html#logistic-regression\n",
            "  extra_warning_msg=_LOGISTIC_SOLVER_CONVERGENCE_MSG)\n",
            "/Users/michaelsalamakha/opt/anaconda3/lib/python3.7/site-packages/sklearn/linear_model/_logistic.py:940: ConvergenceWarning: lbfgs failed to converge (status=1):\n",
            "STOP: TOTAL NO. of ITERATIONS REACHED LIMIT.\n",
            "\n",
            "Increase the number of iterations (max_iter) or scale the data as shown in:\n",
            "    https://scikit-learn.org/stable/modules/preprocessing.html\n",
            "Please also refer to the documentation for alternative solver options:\n",
            "    https://scikit-learn.org/stable/modules/linear_model.html#logistic-regression\n",
            "  extra_warning_msg=_LOGISTIC_SOLVER_CONVERGENCE_MSG)\n",
            "/Users/michaelsalamakha/opt/anaconda3/lib/python3.7/site-packages/sklearn/linear_model/_logistic.py:940: ConvergenceWarning: lbfgs failed to converge (status=1):\n",
            "STOP: TOTAL NO. of ITERATIONS REACHED LIMIT.\n",
            "\n",
            "Increase the number of iterations (max_iter) or scale the data as shown in:\n",
            "    https://scikit-learn.org/stable/modules/preprocessing.html\n",
            "Please also refer to the documentation for alternative solver options:\n",
            "    https://scikit-learn.org/stable/modules/linear_model.html#logistic-regression\n",
            "  extra_warning_msg=_LOGISTIC_SOLVER_CONVERGENCE_MSG)\n",
            "/Users/michaelsalamakha/opt/anaconda3/lib/python3.7/site-packages/sklearn/linear_model/_logistic.py:940: ConvergenceWarning: lbfgs failed to converge (status=1):\n",
            "STOP: TOTAL NO. of ITERATIONS REACHED LIMIT.\n",
            "\n",
            "Increase the number of iterations (max_iter) or scale the data as shown in:\n",
            "    https://scikit-learn.org/stable/modules/preprocessing.html\n",
            "Please also refer to the documentation for alternative solver options:\n",
            "    https://scikit-learn.org/stable/modules/linear_model.html#logistic-regression\n",
            "  extra_warning_msg=_LOGISTIC_SOLVER_CONVERGENCE_MSG)\n"
          ],
          "name": "stderr"
        },
        {
          "output_type": "error",
          "ename": "ValueError",
          "evalue": "could not broadcast input array from shape (10,61,7) into shape (10)",
          "traceback": [
            "\u001b[0;31m---------------------------------------------------------------------------\u001b[0m",
            "\u001b[0;31mValueError\u001b[0m                                Traceback (most recent call last)",
            "\u001b[0;32m<ipython-input-20-20e2e42a9b36>\u001b[0m in \u001b[0;36m<module>\u001b[0;34m\u001b[0m\n\u001b[1;32m     10\u001b[0m \u001b[0;34m\u001b[0m\u001b[0m\n\u001b[1;32m     11\u001b[0m \u001b[0;31m# Скормим данные на которых она будет учиться\u001b[0m\u001b[0;34m\u001b[0m\u001b[0;34m\u001b[0m\u001b[0;34m\u001b[0m\u001b[0m\n\u001b[0;32m---> 12\u001b[0;31m \u001b[0mlogReg_cv\u001b[0m \u001b[0;34m=\u001b[0m \u001b[0mLogisticRegressionCV\u001b[0m\u001b[0;34m(\u001b[0m\u001b[0mcv\u001b[0m\u001b[0;34m=\u001b[0m\u001b[0;36m5\u001b[0m\u001b[0;34m,\u001b[0m \u001b[0mrandom_state\u001b[0m\u001b[0;34m=\u001b[0m\u001b[0;36m0\u001b[0m\u001b[0;34m,\u001b[0m \u001b[0mmax_iter\u001b[0m\u001b[0;34m=\u001b[0m\u001b[0;36m210\u001b[0m\u001b[0;34m)\u001b[0m\u001b[0;34m.\u001b[0m\u001b[0mfit\u001b[0m\u001b[0;34m(\u001b[0m\u001b[0mX_scaled\u001b[0m\u001b[0;34m,\u001b[0m \u001b[0my_train\u001b[0m\u001b[0;34m)\u001b[0m\u001b[0;34m\u001b[0m\u001b[0;34m\u001b[0m\u001b[0m\n\u001b[0m",
            "\u001b[0;32m~/opt/anaconda3/lib/python3.7/site-packages/sklearn/linear_model/_logistic.py\u001b[0m in \u001b[0;36mfit\u001b[0;34m(self, X, y, sample_weight)\u001b[0m\n\u001b[1;32m   2103\u001b[0m             coefs_paths = np.reshape(\n\u001b[1;32m   2104\u001b[0m                 \u001b[0mcoefs_paths\u001b[0m\u001b[0;34m,\u001b[0m\u001b[0;34m\u001b[0m\u001b[0;34m\u001b[0m\u001b[0m\n\u001b[0;32m-> 2105\u001b[0;31m                 \u001b[0;34m(\u001b[0m\u001b[0mlen\u001b[0m\u001b[0;34m(\u001b[0m\u001b[0mfolds\u001b[0m\u001b[0;34m)\u001b[0m\u001b[0;34m,\u001b[0m  \u001b[0mlen\u001b[0m\u001b[0;34m(\u001b[0m\u001b[0ml1_ratios_\u001b[0m\u001b[0;34m)\u001b[0m \u001b[0;34m*\u001b[0m \u001b[0mlen\u001b[0m\u001b[0;34m(\u001b[0m\u001b[0mself\u001b[0m\u001b[0;34m.\u001b[0m\u001b[0mCs_\u001b[0m\u001b[0;34m)\u001b[0m\u001b[0;34m,\u001b[0m \u001b[0mn_classes\u001b[0m\u001b[0;34m,\u001b[0m \u001b[0;34m-\u001b[0m\u001b[0;36m1\u001b[0m\u001b[0;34m)\u001b[0m\u001b[0;34m\u001b[0m\u001b[0;34m\u001b[0m\u001b[0m\n\u001b[0m\u001b[1;32m   2106\u001b[0m             )\n\u001b[1;32m   2107\u001b[0m             \u001b[0;31m# equiv to coefs_paths = np.moveaxis(coefs_paths, (0, 1, 2, 3),\u001b[0m\u001b[0;34m\u001b[0m\u001b[0;34m\u001b[0m\u001b[0;34m\u001b[0m\u001b[0m\n",
            "\u001b[0;32m<__array_function__ internals>\u001b[0m in \u001b[0;36mreshape\u001b[0;34m(*args, **kwargs)\u001b[0m\n",
            "\u001b[0;32m~/opt/anaconda3/lib/python3.7/site-packages/numpy/core/fromnumeric.py\u001b[0m in \u001b[0;36mreshape\u001b[0;34m(a, newshape, order)\u001b[0m\n\u001b[1;32m    299\u001b[0m            [5, 6]])\n\u001b[1;32m    300\u001b[0m     \"\"\"\n\u001b[0;32m--> 301\u001b[0;31m     \u001b[0;32mreturn\u001b[0m \u001b[0m_wrapfunc\u001b[0m\u001b[0;34m(\u001b[0m\u001b[0ma\u001b[0m\u001b[0;34m,\u001b[0m \u001b[0;34m'reshape'\u001b[0m\u001b[0;34m,\u001b[0m \u001b[0mnewshape\u001b[0m\u001b[0;34m,\u001b[0m \u001b[0morder\u001b[0m\u001b[0;34m=\u001b[0m\u001b[0morder\u001b[0m\u001b[0;34m)\u001b[0m\u001b[0;34m\u001b[0m\u001b[0;34m\u001b[0m\u001b[0m\n\u001b[0m\u001b[1;32m    302\u001b[0m \u001b[0;34m\u001b[0m\u001b[0m\n\u001b[1;32m    303\u001b[0m \u001b[0;34m\u001b[0m\u001b[0m\n",
            "\u001b[0;32m~/opt/anaconda3/lib/python3.7/site-packages/numpy/core/fromnumeric.py\u001b[0m in \u001b[0;36m_wrapfunc\u001b[0;34m(obj, method, *args, **kwds)\u001b[0m\n\u001b[1;32m     56\u001b[0m     \u001b[0mbound\u001b[0m \u001b[0;34m=\u001b[0m \u001b[0mgetattr\u001b[0m\u001b[0;34m(\u001b[0m\u001b[0mobj\u001b[0m\u001b[0;34m,\u001b[0m \u001b[0mmethod\u001b[0m\u001b[0;34m,\u001b[0m \u001b[0;32mNone\u001b[0m\u001b[0;34m)\u001b[0m\u001b[0;34m\u001b[0m\u001b[0;34m\u001b[0m\u001b[0m\n\u001b[1;32m     57\u001b[0m     \u001b[0;32mif\u001b[0m \u001b[0mbound\u001b[0m \u001b[0;32mis\u001b[0m \u001b[0;32mNone\u001b[0m\u001b[0;34m:\u001b[0m\u001b[0;34m\u001b[0m\u001b[0;34m\u001b[0m\u001b[0m\n\u001b[0;32m---> 58\u001b[0;31m         \u001b[0;32mreturn\u001b[0m \u001b[0m_wrapit\u001b[0m\u001b[0;34m(\u001b[0m\u001b[0mobj\u001b[0m\u001b[0;34m,\u001b[0m \u001b[0mmethod\u001b[0m\u001b[0;34m,\u001b[0m \u001b[0;34m*\u001b[0m\u001b[0margs\u001b[0m\u001b[0;34m,\u001b[0m \u001b[0;34m**\u001b[0m\u001b[0mkwds\u001b[0m\u001b[0;34m)\u001b[0m\u001b[0;34m\u001b[0m\u001b[0;34m\u001b[0m\u001b[0m\n\u001b[0m\u001b[1;32m     59\u001b[0m \u001b[0;34m\u001b[0m\u001b[0m\n\u001b[1;32m     60\u001b[0m     \u001b[0;32mtry\u001b[0m\u001b[0;34m:\u001b[0m\u001b[0;34m\u001b[0m\u001b[0;34m\u001b[0m\u001b[0m\n",
            "\u001b[0;32m~/opt/anaconda3/lib/python3.7/site-packages/numpy/core/fromnumeric.py\u001b[0m in \u001b[0;36m_wrapit\u001b[0;34m(obj, method, *args, **kwds)\u001b[0m\n\u001b[1;32m     45\u001b[0m     \u001b[0;32mexcept\u001b[0m \u001b[0mAttributeError\u001b[0m\u001b[0;34m:\u001b[0m\u001b[0;34m\u001b[0m\u001b[0;34m\u001b[0m\u001b[0m\n\u001b[1;32m     46\u001b[0m         \u001b[0mwrap\u001b[0m \u001b[0;34m=\u001b[0m \u001b[0;32mNone\u001b[0m\u001b[0;34m\u001b[0m\u001b[0;34m\u001b[0m\u001b[0m\n\u001b[0;32m---> 47\u001b[0;31m     \u001b[0mresult\u001b[0m \u001b[0;34m=\u001b[0m \u001b[0mgetattr\u001b[0m\u001b[0;34m(\u001b[0m\u001b[0masarray\u001b[0m\u001b[0;34m(\u001b[0m\u001b[0mobj\u001b[0m\u001b[0;34m)\u001b[0m\u001b[0;34m,\u001b[0m \u001b[0mmethod\u001b[0m\u001b[0;34m)\u001b[0m\u001b[0;34m(\u001b[0m\u001b[0;34m*\u001b[0m\u001b[0margs\u001b[0m\u001b[0;34m,\u001b[0m \u001b[0;34m**\u001b[0m\u001b[0mkwds\u001b[0m\u001b[0;34m)\u001b[0m\u001b[0;34m\u001b[0m\u001b[0;34m\u001b[0m\u001b[0m\n\u001b[0m\u001b[1;32m     48\u001b[0m     \u001b[0;32mif\u001b[0m \u001b[0mwrap\u001b[0m\u001b[0;34m:\u001b[0m\u001b[0;34m\u001b[0m\u001b[0;34m\u001b[0m\u001b[0m\n\u001b[1;32m     49\u001b[0m         \u001b[0;32mif\u001b[0m \u001b[0;32mnot\u001b[0m \u001b[0misinstance\u001b[0m\u001b[0;34m(\u001b[0m\u001b[0mresult\u001b[0m\u001b[0;34m,\u001b[0m \u001b[0mmu\u001b[0m\u001b[0;34m.\u001b[0m\u001b[0mndarray\u001b[0m\u001b[0;34m)\u001b[0m\u001b[0;34m:\u001b[0m\u001b[0;34m\u001b[0m\u001b[0;34m\u001b[0m\u001b[0m\n",
            "\u001b[0;32m~/opt/anaconda3/lib/python3.7/site-packages/numpy/core/_asarray.py\u001b[0m in \u001b[0;36masarray\u001b[0;34m(a, dtype, order)\u001b[0m\n\u001b[1;32m     83\u001b[0m \u001b[0;34m\u001b[0m\u001b[0m\n\u001b[1;32m     84\u001b[0m     \"\"\"\n\u001b[0;32m---> 85\u001b[0;31m     \u001b[0;32mreturn\u001b[0m \u001b[0marray\u001b[0m\u001b[0;34m(\u001b[0m\u001b[0ma\u001b[0m\u001b[0;34m,\u001b[0m \u001b[0mdtype\u001b[0m\u001b[0;34m,\u001b[0m \u001b[0mcopy\u001b[0m\u001b[0;34m=\u001b[0m\u001b[0;32mFalse\u001b[0m\u001b[0;34m,\u001b[0m \u001b[0morder\u001b[0m\u001b[0;34m=\u001b[0m\u001b[0morder\u001b[0m\u001b[0;34m)\u001b[0m\u001b[0;34m\u001b[0m\u001b[0;34m\u001b[0m\u001b[0m\n\u001b[0m\u001b[1;32m     86\u001b[0m \u001b[0;34m\u001b[0m\u001b[0m\n\u001b[1;32m     87\u001b[0m \u001b[0;34m\u001b[0m\u001b[0m\n",
            "\u001b[0;31mValueError\u001b[0m: could not broadcast input array from shape (10,61,7) into shape (10)"
          ]
        }
      ]
    },
    {
      "cell_type": "code",
      "metadata": {
        "id": "QIFiwNOGCsLb"
      },
      "source": [
        "# Выведем точность классификатора данной модели после кросс валидации\n",
        "\n",
        "print('Оценка логистической регрессии:')\n",
        "y_pred_cv = logReg_cv.predict(X_test)\n",
        "print(logReg_cv.score(X_test, y_test))\n",
        "\n",
        "from sklearn.metrics import confusion_matrix\n",
        "confusion_matrix = confusion_matrix(y_test, y_pred)\n",
        "print(confusion_matrix, '\\n')\n",
        "\n",
        "print(classification_report(y_test, y_pred_cv))\n",
        "\n",
        "print('\\nКак можем видеть точность выше чем у модели без кросс валидации')"
      ],
      "execution_count": null,
      "outputs": []
    },
    {
      "cell_type": "code",
      "metadata": {
        "id": "P6n7pYtwCsJ6"
      },
      "source": [
        "sns.set(font_scale=1.5)\n",
        "sns.set_color_codes(\"muted\")\n",
        "\n",
        "plt.figure(figsize=(10, 8))\n",
        "# Передадим целевой столбец ответом и результат классификатора\n",
        "fpr, tpr, thresholds = metrics.roc_curve(y_test, y_pred_cv, pos_label=1)\n",
        "lw = 2\n",
        "\n",
        "# Зададим параметры отображения\n",
        "plt.plot(fpr, tpr, lw=lw, label='ROC curve after Cross Validation')\n",
        "plt.plot([0, 1], [0, 1])\n",
        "plt.xlim([0.0, 1.0])\n",
        "plt.ylim([0.0, 1.05])\n",
        "plt.xlabel('False Positive Rate')\n",
        "plt.ylabel('True Positive Rate')\n",
        "plt.title('ROC curve')\n",
        "plt.savefig(\"ROC.png\")\n",
        "plt.show()"
      ],
      "execution_count": null,
      "outputs": []
    },
    {
      "cell_type": "markdown",
      "metadata": {
        "id": "RSA6vcbbUS5w"
      },
      "source": [
        "# Воспользуемся решающим деревом"
      ]
    },
    {
      "cell_type": "code",
      "metadata": {
        "id": "RvJvCvqZCsIi",
        "outputId": "713bc498-afef-4330-8adb-9e9c09b6a627",
        "colab": {
          "base_uri": "https://localhost:8080/"
        }
      },
      "source": [
        "from sklearn.tree import DecisionTreeClassifier\n",
        "from sklearn import tree\n",
        "\n",
        "# Создадим экземпляр решающего дерева и обучим его\n",
        "classif_tree = DecisionTreeClassifier(criterion = 'entropy', min_samples_split=50) \n",
        "classif_tree.fit(X_train, y_train)"
      ],
      "execution_count": 17,
      "outputs": [
        {
          "output_type": "execute_result",
          "data": {
            "text/plain": [
              "DecisionTreeClassifier(ccp_alpha=0.0, class_weight=None, criterion='entropy',\n",
              "                       max_depth=None, max_features=None, max_leaf_nodes=None,\n",
              "                       min_impurity_decrease=0.0, min_impurity_split=None,\n",
              "                       min_samples_leaf=1, min_samples_split=50,\n",
              "                       min_weight_fraction_leaf=0.0, presort='deprecated',\n",
              "                       random_state=None, splitter='best')"
            ]
          },
          "metadata": {
            "tags": []
          },
          "execution_count": 17
        }
      ]
    },
    {
      "cell_type": "code",
      "metadata": {
        "id": "p7RpcZ9mCsEX",
        "outputId": "9797ba5a-b386-4658-ce72-2bc7022fbe12",
        "colab": {
          "base_uri": "https://localhost:8080/"
        }
      },
      "source": [
        "from sklearn.metrics import accuracy_score\n",
        "\n",
        "# Предскажем значения\n",
        "y_pred =  classif_tree.predict(X_test)\n",
        "\n",
        "print('Точность модели на тестовых данных: ', accuracy_score(y_true=y_test, y_pred=y_pred))"
      ],
      "execution_count": 18,
      "outputs": [
        {
          "output_type": "stream",
          "text": [
            "Точность модели на тестовых данных:  0.17054263565891473\n"
          ],
          "name": "stdout"
        }
      ]
    },
    {
      "cell_type": "code",
      "metadata": {
        "id": "jWMvhu93CsCD",
        "outputId": "4b489575-fbe4-4297-9191-50c25227c4f6",
        "colab": {
          "base_uri": "https://localhost:8080/"
        }
      },
      "source": [
        "# Используем кросс валидацию для поиска оптимальной глубины 'max_depth'\n",
        "from sklearn.model_selection import GridSearchCV\n",
        "\n",
        "parameters = {'max_depth':range(3,20)}\n",
        "classif_tree_cv = GridSearchCV(tree.DecisionTreeClassifier(), parameters, n_jobs=4)\n",
        "classif_tree_cv.fit(X_train, y_train)\n",
        "tree_model = classif_tree_cv.best_estimator_\n",
        "print (classif_tree_cv.best_score_, classif_tree_cv.best_params_) \n",
        "\n",
        "y_pred_tree_cv = classif_tree_cv.predict(X_test)\n",
        "print('Точность модели на тестовых данных: ', accuracy_score(y_true=y_test, y_pred=y_pred_tree_cv))\n",
        "print('Точность при кросс валидации имеет немного лучшие показатели чем просто на разделённой выборке')"
      ],
      "execution_count": 19,
      "outputs": [
        {
          "output_type": "stream",
          "text": [
            "/usr/local/lib/python3.6/dist-packages/sklearn/model_selection/_split.py:667: UserWarning: The least populated class in y has only 1 members, which is less than n_splits=5.\n",
            "  % (min_groups, self.n_splits)), UserWarning)\n"
          ],
          "name": "stderr"
        },
        {
          "output_type": "stream",
          "text": [
            "0.24281914893617024 {'max_depth': 8}\n",
            "Точность модели на тестовых данных:  0.23255813953488372\n",
            "Точность при кросс валидации имеет немного лучшие показатели чем просто на разделённой выборке\n"
          ],
          "name": "stdout"
        }
      ]
    },
    {
      "cell_type": "markdown",
      "metadata": {
        "id": "CPNf6qAqUg_h"
      },
      "source": [
        "# Подход с использованием Bagging\n",
        "\n"
      ]
    },
    {
      "cell_type": "code",
      "metadata": {
        "id": "du4x-1HyCr_u",
        "outputId": "a124b250-72e2-4399-d860-a27f373f6ab5",
        "colab": {
          "base_uri": "https://localhost:8080/",
          "height": 1000
        }
      },
      "source": [
        "from sklearn.svm import SVC\n",
        "from sklearn.ensemble import BaggingClassifier\n",
        "from sklearn.tree import DecisionTreeClassifier\n",
        "from sklearn.naive_bayes import GaussianNB, BernoulliNB\n",
        "from sklearn.datasets import make_classification\n",
        "# X, y = make_classification(n_samples=100, n_features=4,\n",
        "#                             n_informative=2, n_redundant=0,\n",
        "#                             random_state=0, shuffle=False)\n",
        "\n",
        "# clf = BaggingClassifier(base_estimator=SVC(),\n",
        "#                          n_estimators=10, random_state=0).fit(X, y)\n",
        "\n",
        "\n",
        "# Зададим параметры решающего дерева\n",
        "dtc = DecisionTreeClassifier(criterion=\"entropy\", min_samples_split=50)\n",
        "bag_model=BaggingClassifier(base_estimator=dtc, n_estimators=100, bootstrap=True)\n",
        "bag_model=bag_model.fit(X_train, y_train)\n",
        "y_test_pred=bag_model.predict(X_test) # предсказание\n",
        "print(bag_model.score(X_test, y_test))\n",
        "# print(confusion_matrix(y_test, y_test_pred)) \n",
        "\n",
        "# Используем разные методы\n",
        "lr = LogisticRegression();\n",
        "bnb = BernoulliNB()\n",
        "# gnb = GaussianNB()\n",
        "\n",
        "base_methods=[lr, bnb, dtc] #gnb, \n",
        "scores = []\n",
        "output_method_names = []\n",
        "\n",
        "# Пройдёмся по разным методам и отобразим из точность\n",
        "for bm  in base_methods:\n",
        " print(\"\\nМетод: \", bm)\n",
        " bag_model=BaggingClassifier(base_estimator=bm, n_estimators=100, bootstrap=True)\n",
        " bag_model=bag_model.fit(X_train, y_train)\n",
        " y_test_pred=bag_model.predict(X_test)\n",
        " print('\\n',classification_report(y_test, y_test_pred))\n",
        " model_score = bag_model.score(X_test, y_test)\n",
        " print('Score: ', model_score)\n",
        " scores.append(model_score)\n",
        "\n",
        "#  print(confusion_matrix(y_test, y_test_pred)) \n",
        "\n",
        "for bm in base_methods:\n",
        "  name, _ = str(bm).split('(')\n",
        "  output_method_names.append(name)\n",
        "\n",
        "scores_df = pd.DataFrame(list(zip(output_method_names, scores)), \n",
        "                         columns=['method', 'score'])\n",
        "\n",
        "print(scores_df) #Наш датафрейм для красивого отображения\n",
        "    \n",
        "# Отобразим график алгоритма к его оценке\n",
        "chart = sns.catplot(x='method', y='score', kind=\"bar\", data=scores_df);\n",
        "\n",
        "chart.set_xticklabels(rotation=65, horizontalalignment='right')\n"
      ],
      "execution_count": 20,
      "outputs": [
        {
          "output_type": "stream",
          "text": [
            "0.16279069767441862\n",
            "\n",
            "Метод:  LogisticRegression(C=1.0, class_weight=None, dual=False, fit_intercept=True,\n",
            "                   intercept_scaling=1, l1_ratio=None, max_iter=100,\n",
            "                   multi_class='auto', n_jobs=None, penalty='l2',\n",
            "                   random_state=None, solver='lbfgs', tol=0.0001, verbose=0,\n",
            "                   warm_start=False)\n"
          ],
          "name": "stdout"
        },
        {
          "output_type": "stream",
          "text": [
            "/usr/local/lib/python3.6/dist-packages/sklearn/linear_model/_logistic.py:940: ConvergenceWarning: lbfgs failed to converge (status=1):\n",
            "STOP: TOTAL NO. of ITERATIONS REACHED LIMIT.\n",
            "\n",
            "Increase the number of iterations (max_iter) or scale the data as shown in:\n",
            "    https://scikit-learn.org/stable/modules/preprocessing.html\n",
            "Please also refer to the documentation for alternative solver options:\n",
            "    https://scikit-learn.org/stable/modules/linear_model.html#logistic-regression\n",
            "  extra_warning_msg=_LOGISTIC_SOLVER_CONVERGENCE_MSG)\n",
            "/usr/local/lib/python3.6/dist-packages/sklearn/linear_model/_logistic.py:940: ConvergenceWarning: lbfgs failed to converge (status=1):\n",
            "STOP: TOTAL NO. of ITERATIONS REACHED LIMIT.\n",
            "\n",
            "Increase the number of iterations (max_iter) or scale the data as shown in:\n",
            "    https://scikit-learn.org/stable/modules/preprocessing.html\n",
            "Please also refer to the documentation for alternative solver options:\n",
            "    https://scikit-learn.org/stable/modules/linear_model.html#logistic-regression\n",
            "  extra_warning_msg=_LOGISTIC_SOLVER_CONVERGENCE_MSG)\n",
            "/usr/local/lib/python3.6/dist-packages/sklearn/linear_model/_logistic.py:940: ConvergenceWarning: lbfgs failed to converge (status=1):\n",
            "STOP: TOTAL NO. of ITERATIONS REACHED LIMIT.\n",
            "\n",
            "Increase the number of iterations (max_iter) or scale the data as shown in:\n",
            "    https://scikit-learn.org/stable/modules/preprocessing.html\n",
            "Please also refer to the documentation for alternative solver options:\n",
            "    https://scikit-learn.org/stable/modules/linear_model.html#logistic-regression\n",
            "  extra_warning_msg=_LOGISTIC_SOLVER_CONVERGENCE_MSG)\n",
            "/usr/local/lib/python3.6/dist-packages/sklearn/linear_model/_logistic.py:940: ConvergenceWarning: lbfgs failed to converge (status=1):\n",
            "STOP: TOTAL NO. of ITERATIONS REACHED LIMIT.\n",
            "\n",
            "Increase the number of iterations (max_iter) or scale the data as shown in:\n",
            "    https://scikit-learn.org/stable/modules/preprocessing.html\n",
            "Please also refer to the documentation for alternative solver options:\n",
            "    https://scikit-learn.org/stable/modules/linear_model.html#logistic-regression\n",
            "  extra_warning_msg=_LOGISTIC_SOLVER_CONVERGENCE_MSG)\n",
            "/usr/local/lib/python3.6/dist-packages/sklearn/linear_model/_logistic.py:940: ConvergenceWarning: lbfgs failed to converge (status=1):\n",
            "STOP: TOTAL NO. of ITERATIONS REACHED LIMIT.\n",
            "\n",
            "Increase the number of iterations (max_iter) or scale the data as shown in:\n",
            "    https://scikit-learn.org/stable/modules/preprocessing.html\n",
            "Please also refer to the documentation for alternative solver options:\n",
            "    https://scikit-learn.org/stable/modules/linear_model.html#logistic-regression\n",
            "  extra_warning_msg=_LOGISTIC_SOLVER_CONVERGENCE_MSG)\n",
            "/usr/local/lib/python3.6/dist-packages/sklearn/linear_model/_logistic.py:940: ConvergenceWarning: lbfgs failed to converge (status=1):\n",
            "STOP: TOTAL NO. of ITERATIONS REACHED LIMIT.\n",
            "\n",
            "Increase the number of iterations (max_iter) or scale the data as shown in:\n",
            "    https://scikit-learn.org/stable/modules/preprocessing.html\n",
            "Please also refer to the documentation for alternative solver options:\n",
            "    https://scikit-learn.org/stable/modules/linear_model.html#logistic-regression\n",
            "  extra_warning_msg=_LOGISTIC_SOLVER_CONVERGENCE_MSG)\n",
            "/usr/local/lib/python3.6/dist-packages/sklearn/linear_model/_logistic.py:940: ConvergenceWarning: lbfgs failed to converge (status=1):\n",
            "STOP: TOTAL NO. of ITERATIONS REACHED LIMIT.\n",
            "\n",
            "Increase the number of iterations (max_iter) or scale the data as shown in:\n",
            "    https://scikit-learn.org/stable/modules/preprocessing.html\n",
            "Please also refer to the documentation for alternative solver options:\n",
            "    https://scikit-learn.org/stable/modules/linear_model.html#logistic-regression\n",
            "  extra_warning_msg=_LOGISTIC_SOLVER_CONVERGENCE_MSG)\n",
            "/usr/local/lib/python3.6/dist-packages/sklearn/linear_model/_logistic.py:940: ConvergenceWarning: lbfgs failed to converge (status=1):\n",
            "STOP: TOTAL NO. of ITERATIONS REACHED LIMIT.\n",
            "\n",
            "Increase the number of iterations (max_iter) or scale the data as shown in:\n",
            "    https://scikit-learn.org/stable/modules/preprocessing.html\n",
            "Please also refer to the documentation for alternative solver options:\n",
            "    https://scikit-learn.org/stable/modules/linear_model.html#logistic-regression\n",
            "  extra_warning_msg=_LOGISTIC_SOLVER_CONVERGENCE_MSG)\n",
            "/usr/local/lib/python3.6/dist-packages/sklearn/linear_model/_logistic.py:940: ConvergenceWarning: lbfgs failed to converge (status=1):\n",
            "STOP: TOTAL NO. of ITERATIONS REACHED LIMIT.\n",
            "\n",
            "Increase the number of iterations (max_iter) or scale the data as shown in:\n",
            "    https://scikit-learn.org/stable/modules/preprocessing.html\n",
            "Please also refer to the documentation for alternative solver options:\n",
            "    https://scikit-learn.org/stable/modules/linear_model.html#logistic-regression\n",
            "  extra_warning_msg=_LOGISTIC_SOLVER_CONVERGENCE_MSG)\n",
            "/usr/local/lib/python3.6/dist-packages/sklearn/linear_model/_logistic.py:940: ConvergenceWarning: lbfgs failed to converge (status=1):\n",
            "STOP: TOTAL NO. of ITERATIONS REACHED LIMIT.\n",
            "\n",
            "Increase the number of iterations (max_iter) or scale the data as shown in:\n",
            "    https://scikit-learn.org/stable/modules/preprocessing.html\n",
            "Please also refer to the documentation for alternative solver options:\n",
            "    https://scikit-learn.org/stable/modules/linear_model.html#logistic-regression\n",
            "  extra_warning_msg=_LOGISTIC_SOLVER_CONVERGENCE_MSG)\n",
            "/usr/local/lib/python3.6/dist-packages/sklearn/linear_model/_logistic.py:940: ConvergenceWarning: lbfgs failed to converge (status=1):\n",
            "STOP: TOTAL NO. of ITERATIONS REACHED LIMIT.\n",
            "\n",
            "Increase the number of iterations (max_iter) or scale the data as shown in:\n",
            "    https://scikit-learn.org/stable/modules/preprocessing.html\n",
            "Please also refer to the documentation for alternative solver options:\n",
            "    https://scikit-learn.org/stable/modules/linear_model.html#logistic-regression\n",
            "  extra_warning_msg=_LOGISTIC_SOLVER_CONVERGENCE_MSG)\n",
            "/usr/local/lib/python3.6/dist-packages/sklearn/linear_model/_logistic.py:940: ConvergenceWarning: lbfgs failed to converge (status=1):\n",
            "STOP: TOTAL NO. of ITERATIONS REACHED LIMIT.\n",
            "\n",
            "Increase the number of iterations (max_iter) or scale the data as shown in:\n",
            "    https://scikit-learn.org/stable/modules/preprocessing.html\n",
            "Please also refer to the documentation for alternative solver options:\n",
            "    https://scikit-learn.org/stable/modules/linear_model.html#logistic-regression\n",
            "  extra_warning_msg=_LOGISTIC_SOLVER_CONVERGENCE_MSG)\n",
            "/usr/local/lib/python3.6/dist-packages/sklearn/linear_model/_logistic.py:940: ConvergenceWarning: lbfgs failed to converge (status=1):\n",
            "STOP: TOTAL NO. of ITERATIONS REACHED LIMIT.\n",
            "\n",
            "Increase the number of iterations (max_iter) or scale the data as shown in:\n",
            "    https://scikit-learn.org/stable/modules/preprocessing.html\n",
            "Please also refer to the documentation for alternative solver options:\n",
            "    https://scikit-learn.org/stable/modules/linear_model.html#logistic-regression\n",
            "  extra_warning_msg=_LOGISTIC_SOLVER_CONVERGENCE_MSG)\n",
            "/usr/local/lib/python3.6/dist-packages/sklearn/linear_model/_logistic.py:940: ConvergenceWarning: lbfgs failed to converge (status=1):\n",
            "STOP: TOTAL NO. of ITERATIONS REACHED LIMIT.\n",
            "\n",
            "Increase the number of iterations (max_iter) or scale the data as shown in:\n",
            "    https://scikit-learn.org/stable/modules/preprocessing.html\n",
            "Please also refer to the documentation for alternative solver options:\n",
            "    https://scikit-learn.org/stable/modules/linear_model.html#logistic-regression\n",
            "  extra_warning_msg=_LOGISTIC_SOLVER_CONVERGENCE_MSG)\n",
            "/usr/local/lib/python3.6/dist-packages/sklearn/linear_model/_logistic.py:940: ConvergenceWarning: lbfgs failed to converge (status=1):\n",
            "STOP: TOTAL NO. of ITERATIONS REACHED LIMIT.\n",
            "\n",
            "Increase the number of iterations (max_iter) or scale the data as shown in:\n",
            "    https://scikit-learn.org/stable/modules/preprocessing.html\n",
            "Please also refer to the documentation for alternative solver options:\n",
            "    https://scikit-learn.org/stable/modules/linear_model.html#logistic-regression\n",
            "  extra_warning_msg=_LOGISTIC_SOLVER_CONVERGENCE_MSG)\n",
            "/usr/local/lib/python3.6/dist-packages/sklearn/linear_model/_logistic.py:940: ConvergenceWarning: lbfgs failed to converge (status=1):\n",
            "STOP: TOTAL NO. of ITERATIONS REACHED LIMIT.\n",
            "\n",
            "Increase the number of iterations (max_iter) or scale the data as shown in:\n",
            "    https://scikit-learn.org/stable/modules/preprocessing.html\n",
            "Please also refer to the documentation for alternative solver options:\n",
            "    https://scikit-learn.org/stable/modules/linear_model.html#logistic-regression\n",
            "  extra_warning_msg=_LOGISTIC_SOLVER_CONVERGENCE_MSG)\n",
            "/usr/local/lib/python3.6/dist-packages/sklearn/linear_model/_logistic.py:940: ConvergenceWarning: lbfgs failed to converge (status=1):\n",
            "STOP: TOTAL NO. of ITERATIONS REACHED LIMIT.\n",
            "\n",
            "Increase the number of iterations (max_iter) or scale the data as shown in:\n",
            "    https://scikit-learn.org/stable/modules/preprocessing.html\n",
            "Please also refer to the documentation for alternative solver options:\n",
            "    https://scikit-learn.org/stable/modules/linear_model.html#logistic-regression\n",
            "  extra_warning_msg=_LOGISTIC_SOLVER_CONVERGENCE_MSG)\n",
            "/usr/local/lib/python3.6/dist-packages/sklearn/linear_model/_logistic.py:940: ConvergenceWarning: lbfgs failed to converge (status=1):\n",
            "STOP: TOTAL NO. of ITERATIONS REACHED LIMIT.\n",
            "\n",
            "Increase the number of iterations (max_iter) or scale the data as shown in:\n",
            "    https://scikit-learn.org/stable/modules/preprocessing.html\n",
            "Please also refer to the documentation for alternative solver options:\n",
            "    https://scikit-learn.org/stable/modules/linear_model.html#logistic-regression\n",
            "  extra_warning_msg=_LOGISTIC_SOLVER_CONVERGENCE_MSG)\n",
            "/usr/local/lib/python3.6/dist-packages/sklearn/linear_model/_logistic.py:940: ConvergenceWarning: lbfgs failed to converge (status=1):\n",
            "STOP: TOTAL NO. of ITERATIONS REACHED LIMIT.\n",
            "\n",
            "Increase the number of iterations (max_iter) or scale the data as shown in:\n",
            "    https://scikit-learn.org/stable/modules/preprocessing.html\n",
            "Please also refer to the documentation for alternative solver options:\n",
            "    https://scikit-learn.org/stable/modules/linear_model.html#logistic-regression\n",
            "  extra_warning_msg=_LOGISTIC_SOLVER_CONVERGENCE_MSG)\n",
            "/usr/local/lib/python3.6/dist-packages/sklearn/linear_model/_logistic.py:940: ConvergenceWarning: lbfgs failed to converge (status=1):\n",
            "STOP: TOTAL NO. of ITERATIONS REACHED LIMIT.\n",
            "\n",
            "Increase the number of iterations (max_iter) or scale the data as shown in:\n",
            "    https://scikit-learn.org/stable/modules/preprocessing.html\n",
            "Please also refer to the documentation for alternative solver options:\n",
            "    https://scikit-learn.org/stable/modules/linear_model.html#logistic-regression\n",
            "  extra_warning_msg=_LOGISTIC_SOLVER_CONVERGENCE_MSG)\n",
            "/usr/local/lib/python3.6/dist-packages/sklearn/linear_model/_logistic.py:940: ConvergenceWarning: lbfgs failed to converge (status=1):\n",
            "STOP: TOTAL NO. of ITERATIONS REACHED LIMIT.\n",
            "\n",
            "Increase the number of iterations (max_iter) or scale the data as shown in:\n",
            "    https://scikit-learn.org/stable/modules/preprocessing.html\n",
            "Please also refer to the documentation for alternative solver options:\n",
            "    https://scikit-learn.org/stable/modules/linear_model.html#logistic-regression\n",
            "  extra_warning_msg=_LOGISTIC_SOLVER_CONVERGENCE_MSG)\n",
            "/usr/local/lib/python3.6/dist-packages/sklearn/linear_model/_logistic.py:940: ConvergenceWarning: lbfgs failed to converge (status=1):\n",
            "STOP: TOTAL NO. of ITERATIONS REACHED LIMIT.\n",
            "\n",
            "Increase the number of iterations (max_iter) or scale the data as shown in:\n",
            "    https://scikit-learn.org/stable/modules/preprocessing.html\n",
            "Please also refer to the documentation for alternative solver options:\n",
            "    https://scikit-learn.org/stable/modules/linear_model.html#logistic-regression\n",
            "  extra_warning_msg=_LOGISTIC_SOLVER_CONVERGENCE_MSG)\n",
            "/usr/local/lib/python3.6/dist-packages/sklearn/linear_model/_logistic.py:940: ConvergenceWarning: lbfgs failed to converge (status=1):\n",
            "STOP: TOTAL NO. of ITERATIONS REACHED LIMIT.\n",
            "\n",
            "Increase the number of iterations (max_iter) or scale the data as shown in:\n",
            "    https://scikit-learn.org/stable/modules/preprocessing.html\n",
            "Please also refer to the documentation for alternative solver options:\n",
            "    https://scikit-learn.org/stable/modules/linear_model.html#logistic-regression\n",
            "  extra_warning_msg=_LOGISTIC_SOLVER_CONVERGENCE_MSG)\n",
            "/usr/local/lib/python3.6/dist-packages/sklearn/linear_model/_logistic.py:940: ConvergenceWarning: lbfgs failed to converge (status=1):\n",
            "STOP: TOTAL NO. of ITERATIONS REACHED LIMIT.\n",
            "\n",
            "Increase the number of iterations (max_iter) or scale the data as shown in:\n",
            "    https://scikit-learn.org/stable/modules/preprocessing.html\n",
            "Please also refer to the documentation for alternative solver options:\n",
            "    https://scikit-learn.org/stable/modules/linear_model.html#logistic-regression\n",
            "  extra_warning_msg=_LOGISTIC_SOLVER_CONVERGENCE_MSG)\n",
            "/usr/local/lib/python3.6/dist-packages/sklearn/linear_model/_logistic.py:940: ConvergenceWarning: lbfgs failed to converge (status=1):\n",
            "STOP: TOTAL NO. of ITERATIONS REACHED LIMIT.\n",
            "\n",
            "Increase the number of iterations (max_iter) or scale the data as shown in:\n",
            "    https://scikit-learn.org/stable/modules/preprocessing.html\n",
            "Please also refer to the documentation for alternative solver options:\n",
            "    https://scikit-learn.org/stable/modules/linear_model.html#logistic-regression\n",
            "  extra_warning_msg=_LOGISTIC_SOLVER_CONVERGENCE_MSG)\n",
            "/usr/local/lib/python3.6/dist-packages/sklearn/linear_model/_logistic.py:940: ConvergenceWarning: lbfgs failed to converge (status=1):\n",
            "STOP: TOTAL NO. of ITERATIONS REACHED LIMIT.\n",
            "\n",
            "Increase the number of iterations (max_iter) or scale the data as shown in:\n",
            "    https://scikit-learn.org/stable/modules/preprocessing.html\n",
            "Please also refer to the documentation for alternative solver options:\n",
            "    https://scikit-learn.org/stable/modules/linear_model.html#logistic-regression\n",
            "  extra_warning_msg=_LOGISTIC_SOLVER_CONVERGENCE_MSG)\n",
            "/usr/local/lib/python3.6/dist-packages/sklearn/linear_model/_logistic.py:940: ConvergenceWarning: lbfgs failed to converge (status=1):\n",
            "STOP: TOTAL NO. of ITERATIONS REACHED LIMIT.\n",
            "\n",
            "Increase the number of iterations (max_iter) or scale the data as shown in:\n",
            "    https://scikit-learn.org/stable/modules/preprocessing.html\n",
            "Please also refer to the documentation for alternative solver options:\n",
            "    https://scikit-learn.org/stable/modules/linear_model.html#logistic-regression\n",
            "  extra_warning_msg=_LOGISTIC_SOLVER_CONVERGENCE_MSG)\n",
            "/usr/local/lib/python3.6/dist-packages/sklearn/linear_model/_logistic.py:940: ConvergenceWarning: lbfgs failed to converge (status=1):\n",
            "STOP: TOTAL NO. of ITERATIONS REACHED LIMIT.\n",
            "\n",
            "Increase the number of iterations (max_iter) or scale the data as shown in:\n",
            "    https://scikit-learn.org/stable/modules/preprocessing.html\n",
            "Please also refer to the documentation for alternative solver options:\n",
            "    https://scikit-learn.org/stable/modules/linear_model.html#logistic-regression\n",
            "  extra_warning_msg=_LOGISTIC_SOLVER_CONVERGENCE_MSG)\n",
            "/usr/local/lib/python3.6/dist-packages/sklearn/linear_model/_logistic.py:940: ConvergenceWarning: lbfgs failed to converge (status=1):\n",
            "STOP: TOTAL NO. of ITERATIONS REACHED LIMIT.\n",
            "\n",
            "Increase the number of iterations (max_iter) or scale the data as shown in:\n",
            "    https://scikit-learn.org/stable/modules/preprocessing.html\n",
            "Please also refer to the documentation for alternative solver options:\n",
            "    https://scikit-learn.org/stable/modules/linear_model.html#logistic-regression\n",
            "  extra_warning_msg=_LOGISTIC_SOLVER_CONVERGENCE_MSG)\n",
            "/usr/local/lib/python3.6/dist-packages/sklearn/linear_model/_logistic.py:940: ConvergenceWarning: lbfgs failed to converge (status=1):\n",
            "STOP: TOTAL NO. of ITERATIONS REACHED LIMIT.\n",
            "\n",
            "Increase the number of iterations (max_iter) or scale the data as shown in:\n",
            "    https://scikit-learn.org/stable/modules/preprocessing.html\n",
            "Please also refer to the documentation for alternative solver options:\n",
            "    https://scikit-learn.org/stable/modules/linear_model.html#logistic-regression\n",
            "  extra_warning_msg=_LOGISTIC_SOLVER_CONVERGENCE_MSG)\n",
            "/usr/local/lib/python3.6/dist-packages/sklearn/linear_model/_logistic.py:940: ConvergenceWarning: lbfgs failed to converge (status=1):\n",
            "STOP: TOTAL NO. of ITERATIONS REACHED LIMIT.\n",
            "\n",
            "Increase the number of iterations (max_iter) or scale the data as shown in:\n",
            "    https://scikit-learn.org/stable/modules/preprocessing.html\n",
            "Please also refer to the documentation for alternative solver options:\n",
            "    https://scikit-learn.org/stable/modules/linear_model.html#logistic-regression\n",
            "  extra_warning_msg=_LOGISTIC_SOLVER_CONVERGENCE_MSG)\n",
            "/usr/local/lib/python3.6/dist-packages/sklearn/linear_model/_logistic.py:940: ConvergenceWarning: lbfgs failed to converge (status=1):\n",
            "STOP: TOTAL NO. of ITERATIONS REACHED LIMIT.\n",
            "\n",
            "Increase the number of iterations (max_iter) or scale the data as shown in:\n",
            "    https://scikit-learn.org/stable/modules/preprocessing.html\n",
            "Please also refer to the documentation for alternative solver options:\n",
            "    https://scikit-learn.org/stable/modules/linear_model.html#logistic-regression\n",
            "  extra_warning_msg=_LOGISTIC_SOLVER_CONVERGENCE_MSG)\n",
            "/usr/local/lib/python3.6/dist-packages/sklearn/linear_model/_logistic.py:940: ConvergenceWarning: lbfgs failed to converge (status=1):\n",
            "STOP: TOTAL NO. of ITERATIONS REACHED LIMIT.\n",
            "\n",
            "Increase the number of iterations (max_iter) or scale the data as shown in:\n",
            "    https://scikit-learn.org/stable/modules/preprocessing.html\n",
            "Please also refer to the documentation for alternative solver options:\n",
            "    https://scikit-learn.org/stable/modules/linear_model.html#logistic-regression\n",
            "  extra_warning_msg=_LOGISTIC_SOLVER_CONVERGENCE_MSG)\n",
            "/usr/local/lib/python3.6/dist-packages/sklearn/linear_model/_logistic.py:940: ConvergenceWarning: lbfgs failed to converge (status=1):\n",
            "STOP: TOTAL NO. of ITERATIONS REACHED LIMIT.\n",
            "\n",
            "Increase the number of iterations (max_iter) or scale the data as shown in:\n",
            "    https://scikit-learn.org/stable/modules/preprocessing.html\n",
            "Please also refer to the documentation for alternative solver options:\n",
            "    https://scikit-learn.org/stable/modules/linear_model.html#logistic-regression\n",
            "  extra_warning_msg=_LOGISTIC_SOLVER_CONVERGENCE_MSG)\n",
            "/usr/local/lib/python3.6/dist-packages/sklearn/linear_model/_logistic.py:940: ConvergenceWarning: lbfgs failed to converge (status=1):\n",
            "STOP: TOTAL NO. of ITERATIONS REACHED LIMIT.\n",
            "\n",
            "Increase the number of iterations (max_iter) or scale the data as shown in:\n",
            "    https://scikit-learn.org/stable/modules/preprocessing.html\n",
            "Please also refer to the documentation for alternative solver options:\n",
            "    https://scikit-learn.org/stable/modules/linear_model.html#logistic-regression\n",
            "  extra_warning_msg=_LOGISTIC_SOLVER_CONVERGENCE_MSG)\n",
            "/usr/local/lib/python3.6/dist-packages/sklearn/linear_model/_logistic.py:940: ConvergenceWarning: lbfgs failed to converge (status=1):\n",
            "STOP: TOTAL NO. of ITERATIONS REACHED LIMIT.\n",
            "\n",
            "Increase the number of iterations (max_iter) or scale the data as shown in:\n",
            "    https://scikit-learn.org/stable/modules/preprocessing.html\n",
            "Please also refer to the documentation for alternative solver options:\n",
            "    https://scikit-learn.org/stable/modules/linear_model.html#logistic-regression\n",
            "  extra_warning_msg=_LOGISTIC_SOLVER_CONVERGENCE_MSG)\n",
            "/usr/local/lib/python3.6/dist-packages/sklearn/linear_model/_logistic.py:940: ConvergenceWarning: lbfgs failed to converge (status=1):\n",
            "STOP: TOTAL NO. of ITERATIONS REACHED LIMIT.\n",
            "\n",
            "Increase the number of iterations (max_iter) or scale the data as shown in:\n",
            "    https://scikit-learn.org/stable/modules/preprocessing.html\n",
            "Please also refer to the documentation for alternative solver options:\n",
            "    https://scikit-learn.org/stable/modules/linear_model.html#logistic-regression\n",
            "  extra_warning_msg=_LOGISTIC_SOLVER_CONVERGENCE_MSG)\n",
            "/usr/local/lib/python3.6/dist-packages/sklearn/linear_model/_logistic.py:940: ConvergenceWarning: lbfgs failed to converge (status=1):\n",
            "STOP: TOTAL NO. of ITERATIONS REACHED LIMIT.\n",
            "\n",
            "Increase the number of iterations (max_iter) or scale the data as shown in:\n",
            "    https://scikit-learn.org/stable/modules/preprocessing.html\n",
            "Please also refer to the documentation for alternative solver options:\n",
            "    https://scikit-learn.org/stable/modules/linear_model.html#logistic-regression\n",
            "  extra_warning_msg=_LOGISTIC_SOLVER_CONVERGENCE_MSG)\n",
            "/usr/local/lib/python3.6/dist-packages/sklearn/linear_model/_logistic.py:940: ConvergenceWarning: lbfgs failed to converge (status=1):\n",
            "STOP: TOTAL NO. of ITERATIONS REACHED LIMIT.\n",
            "\n",
            "Increase the number of iterations (max_iter) or scale the data as shown in:\n",
            "    https://scikit-learn.org/stable/modules/preprocessing.html\n",
            "Please also refer to the documentation for alternative solver options:\n",
            "    https://scikit-learn.org/stable/modules/linear_model.html#logistic-regression\n",
            "  extra_warning_msg=_LOGISTIC_SOLVER_CONVERGENCE_MSG)\n",
            "/usr/local/lib/python3.6/dist-packages/sklearn/linear_model/_logistic.py:940: ConvergenceWarning: lbfgs failed to converge (status=1):\n",
            "STOP: TOTAL NO. of ITERATIONS REACHED LIMIT.\n",
            "\n",
            "Increase the number of iterations (max_iter) or scale the data as shown in:\n",
            "    https://scikit-learn.org/stable/modules/preprocessing.html\n",
            "Please also refer to the documentation for alternative solver options:\n",
            "    https://scikit-learn.org/stable/modules/linear_model.html#logistic-regression\n",
            "  extra_warning_msg=_LOGISTIC_SOLVER_CONVERGENCE_MSG)\n",
            "/usr/local/lib/python3.6/dist-packages/sklearn/linear_model/_logistic.py:940: ConvergenceWarning: lbfgs failed to converge (status=1):\n",
            "STOP: TOTAL NO. of ITERATIONS REACHED LIMIT.\n",
            "\n",
            "Increase the number of iterations (max_iter) or scale the data as shown in:\n",
            "    https://scikit-learn.org/stable/modules/preprocessing.html\n",
            "Please also refer to the documentation for alternative solver options:\n",
            "    https://scikit-learn.org/stable/modules/linear_model.html#logistic-regression\n",
            "  extra_warning_msg=_LOGISTIC_SOLVER_CONVERGENCE_MSG)\n",
            "/usr/local/lib/python3.6/dist-packages/sklearn/linear_model/_logistic.py:940: ConvergenceWarning: lbfgs failed to converge (status=1):\n",
            "STOP: TOTAL NO. of ITERATIONS REACHED LIMIT.\n",
            "\n",
            "Increase the number of iterations (max_iter) or scale the data as shown in:\n",
            "    https://scikit-learn.org/stable/modules/preprocessing.html\n",
            "Please also refer to the documentation for alternative solver options:\n",
            "    https://scikit-learn.org/stable/modules/linear_model.html#logistic-regression\n",
            "  extra_warning_msg=_LOGISTIC_SOLVER_CONVERGENCE_MSG)\n",
            "/usr/local/lib/python3.6/dist-packages/sklearn/linear_model/_logistic.py:940: ConvergenceWarning: lbfgs failed to converge (status=1):\n",
            "STOP: TOTAL NO. of ITERATIONS REACHED LIMIT.\n",
            "\n",
            "Increase the number of iterations (max_iter) or scale the data as shown in:\n",
            "    https://scikit-learn.org/stable/modules/preprocessing.html\n",
            "Please also refer to the documentation for alternative solver options:\n",
            "    https://scikit-learn.org/stable/modules/linear_model.html#logistic-regression\n",
            "  extra_warning_msg=_LOGISTIC_SOLVER_CONVERGENCE_MSG)\n",
            "/usr/local/lib/python3.6/dist-packages/sklearn/linear_model/_logistic.py:940: ConvergenceWarning: lbfgs failed to converge (status=1):\n",
            "STOP: TOTAL NO. of ITERATIONS REACHED LIMIT.\n",
            "\n",
            "Increase the number of iterations (max_iter) or scale the data as shown in:\n",
            "    https://scikit-learn.org/stable/modules/preprocessing.html\n",
            "Please also refer to the documentation for alternative solver options:\n",
            "    https://scikit-learn.org/stable/modules/linear_model.html#logistic-regression\n",
            "  extra_warning_msg=_LOGISTIC_SOLVER_CONVERGENCE_MSG)\n",
            "/usr/local/lib/python3.6/dist-packages/sklearn/linear_model/_logistic.py:940: ConvergenceWarning: lbfgs failed to converge (status=1):\n",
            "STOP: TOTAL NO. of ITERATIONS REACHED LIMIT.\n",
            "\n",
            "Increase the number of iterations (max_iter) or scale the data as shown in:\n",
            "    https://scikit-learn.org/stable/modules/preprocessing.html\n",
            "Please also refer to the documentation for alternative solver options:\n",
            "    https://scikit-learn.org/stable/modules/linear_model.html#logistic-regression\n",
            "  extra_warning_msg=_LOGISTIC_SOLVER_CONVERGENCE_MSG)\n",
            "/usr/local/lib/python3.6/dist-packages/sklearn/linear_model/_logistic.py:940: ConvergenceWarning: lbfgs failed to converge (status=1):\n",
            "STOP: TOTAL NO. of ITERATIONS REACHED LIMIT.\n",
            "\n",
            "Increase the number of iterations (max_iter) or scale the data as shown in:\n",
            "    https://scikit-learn.org/stable/modules/preprocessing.html\n",
            "Please also refer to the documentation for alternative solver options:\n",
            "    https://scikit-learn.org/stable/modules/linear_model.html#logistic-regression\n",
            "  extra_warning_msg=_LOGISTIC_SOLVER_CONVERGENCE_MSG)\n",
            "/usr/local/lib/python3.6/dist-packages/sklearn/linear_model/_logistic.py:940: ConvergenceWarning: lbfgs failed to converge (status=1):\n",
            "STOP: TOTAL NO. of ITERATIONS REACHED LIMIT.\n",
            "\n",
            "Increase the number of iterations (max_iter) or scale the data as shown in:\n",
            "    https://scikit-learn.org/stable/modules/preprocessing.html\n",
            "Please also refer to the documentation for alternative solver options:\n",
            "    https://scikit-learn.org/stable/modules/linear_model.html#logistic-regression\n",
            "  extra_warning_msg=_LOGISTIC_SOLVER_CONVERGENCE_MSG)\n",
            "/usr/local/lib/python3.6/dist-packages/sklearn/linear_model/_logistic.py:940: ConvergenceWarning: lbfgs failed to converge (status=1):\n",
            "STOP: TOTAL NO. of ITERATIONS REACHED LIMIT.\n",
            "\n",
            "Increase the number of iterations (max_iter) or scale the data as shown in:\n",
            "    https://scikit-learn.org/stable/modules/preprocessing.html\n",
            "Please also refer to the documentation for alternative solver options:\n",
            "    https://scikit-learn.org/stable/modules/linear_model.html#logistic-regression\n",
            "  extra_warning_msg=_LOGISTIC_SOLVER_CONVERGENCE_MSG)\n",
            "/usr/local/lib/python3.6/dist-packages/sklearn/linear_model/_logistic.py:940: ConvergenceWarning: lbfgs failed to converge (status=1):\n",
            "STOP: TOTAL NO. of ITERATIONS REACHED LIMIT.\n",
            "\n",
            "Increase the number of iterations (max_iter) or scale the data as shown in:\n",
            "    https://scikit-learn.org/stable/modules/preprocessing.html\n",
            "Please also refer to the documentation for alternative solver options:\n",
            "    https://scikit-learn.org/stable/modules/linear_model.html#logistic-regression\n",
            "  extra_warning_msg=_LOGISTIC_SOLVER_CONVERGENCE_MSG)\n",
            "/usr/local/lib/python3.6/dist-packages/sklearn/linear_model/_logistic.py:940: ConvergenceWarning: lbfgs failed to converge (status=1):\n",
            "STOP: TOTAL NO. of ITERATIONS REACHED LIMIT.\n",
            "\n",
            "Increase the number of iterations (max_iter) or scale the data as shown in:\n",
            "    https://scikit-learn.org/stable/modules/preprocessing.html\n",
            "Please also refer to the documentation for alternative solver options:\n",
            "    https://scikit-learn.org/stable/modules/linear_model.html#logistic-regression\n",
            "  extra_warning_msg=_LOGISTIC_SOLVER_CONVERGENCE_MSG)\n",
            "/usr/local/lib/python3.6/dist-packages/sklearn/linear_model/_logistic.py:940: ConvergenceWarning: lbfgs failed to converge (status=1):\n",
            "STOP: TOTAL NO. of ITERATIONS REACHED LIMIT.\n",
            "\n",
            "Increase the number of iterations (max_iter) or scale the data as shown in:\n",
            "    https://scikit-learn.org/stable/modules/preprocessing.html\n",
            "Please also refer to the documentation for alternative solver options:\n",
            "    https://scikit-learn.org/stable/modules/linear_model.html#logistic-regression\n",
            "  extra_warning_msg=_LOGISTIC_SOLVER_CONVERGENCE_MSG)\n",
            "/usr/local/lib/python3.6/dist-packages/sklearn/linear_model/_logistic.py:940: ConvergenceWarning: lbfgs failed to converge (status=1):\n",
            "STOP: TOTAL NO. of ITERATIONS REACHED LIMIT.\n",
            "\n",
            "Increase the number of iterations (max_iter) or scale the data as shown in:\n",
            "    https://scikit-learn.org/stable/modules/preprocessing.html\n",
            "Please also refer to the documentation for alternative solver options:\n",
            "    https://scikit-learn.org/stable/modules/linear_model.html#logistic-regression\n",
            "  extra_warning_msg=_LOGISTIC_SOLVER_CONVERGENCE_MSG)\n",
            "/usr/local/lib/python3.6/dist-packages/sklearn/linear_model/_logistic.py:940: ConvergenceWarning: lbfgs failed to converge (status=1):\n",
            "STOP: TOTAL NO. of ITERATIONS REACHED LIMIT.\n",
            "\n",
            "Increase the number of iterations (max_iter) or scale the data as shown in:\n",
            "    https://scikit-learn.org/stable/modules/preprocessing.html\n",
            "Please also refer to the documentation for alternative solver options:\n",
            "    https://scikit-learn.org/stable/modules/linear_model.html#logistic-regression\n",
            "  extra_warning_msg=_LOGISTIC_SOLVER_CONVERGENCE_MSG)\n",
            "/usr/local/lib/python3.6/dist-packages/sklearn/linear_model/_logistic.py:940: ConvergenceWarning: lbfgs failed to converge (status=1):\n",
            "STOP: TOTAL NO. of ITERATIONS REACHED LIMIT.\n",
            "\n",
            "Increase the number of iterations (max_iter) or scale the data as shown in:\n",
            "    https://scikit-learn.org/stable/modules/preprocessing.html\n",
            "Please also refer to the documentation for alternative solver options:\n",
            "    https://scikit-learn.org/stable/modules/linear_model.html#logistic-regression\n",
            "  extra_warning_msg=_LOGISTIC_SOLVER_CONVERGENCE_MSG)\n",
            "/usr/local/lib/python3.6/dist-packages/sklearn/linear_model/_logistic.py:940: ConvergenceWarning: lbfgs failed to converge (status=1):\n",
            "STOP: TOTAL NO. of ITERATIONS REACHED LIMIT.\n",
            "\n",
            "Increase the number of iterations (max_iter) or scale the data as shown in:\n",
            "    https://scikit-learn.org/stable/modules/preprocessing.html\n",
            "Please also refer to the documentation for alternative solver options:\n",
            "    https://scikit-learn.org/stable/modules/linear_model.html#logistic-regression\n",
            "  extra_warning_msg=_LOGISTIC_SOLVER_CONVERGENCE_MSG)\n",
            "/usr/local/lib/python3.6/dist-packages/sklearn/linear_model/_logistic.py:940: ConvergenceWarning: lbfgs failed to converge (status=1):\n",
            "STOP: TOTAL NO. of ITERATIONS REACHED LIMIT.\n",
            "\n",
            "Increase the number of iterations (max_iter) or scale the data as shown in:\n",
            "    https://scikit-learn.org/stable/modules/preprocessing.html\n",
            "Please also refer to the documentation for alternative solver options:\n",
            "    https://scikit-learn.org/stable/modules/linear_model.html#logistic-regression\n",
            "  extra_warning_msg=_LOGISTIC_SOLVER_CONVERGENCE_MSG)\n",
            "/usr/local/lib/python3.6/dist-packages/sklearn/linear_model/_logistic.py:940: ConvergenceWarning: lbfgs failed to converge (status=1):\n",
            "STOP: TOTAL NO. of ITERATIONS REACHED LIMIT.\n",
            "\n",
            "Increase the number of iterations (max_iter) or scale the data as shown in:\n",
            "    https://scikit-learn.org/stable/modules/preprocessing.html\n",
            "Please also refer to the documentation for alternative solver options:\n",
            "    https://scikit-learn.org/stable/modules/linear_model.html#logistic-regression\n",
            "  extra_warning_msg=_LOGISTIC_SOLVER_CONVERGENCE_MSG)\n",
            "/usr/local/lib/python3.6/dist-packages/sklearn/linear_model/_logistic.py:940: ConvergenceWarning: lbfgs failed to converge (status=1):\n",
            "STOP: TOTAL NO. of ITERATIONS REACHED LIMIT.\n",
            "\n",
            "Increase the number of iterations (max_iter) or scale the data as shown in:\n",
            "    https://scikit-learn.org/stable/modules/preprocessing.html\n",
            "Please also refer to the documentation for alternative solver options:\n",
            "    https://scikit-learn.org/stable/modules/linear_model.html#logistic-regression\n",
            "  extra_warning_msg=_LOGISTIC_SOLVER_CONVERGENCE_MSG)\n",
            "/usr/local/lib/python3.6/dist-packages/sklearn/linear_model/_logistic.py:940: ConvergenceWarning: lbfgs failed to converge (status=1):\n",
            "STOP: TOTAL NO. of ITERATIONS REACHED LIMIT.\n",
            "\n",
            "Increase the number of iterations (max_iter) or scale the data as shown in:\n",
            "    https://scikit-learn.org/stable/modules/preprocessing.html\n",
            "Please also refer to the documentation for alternative solver options:\n",
            "    https://scikit-learn.org/stable/modules/linear_model.html#logistic-regression\n",
            "  extra_warning_msg=_LOGISTIC_SOLVER_CONVERGENCE_MSG)\n",
            "/usr/local/lib/python3.6/dist-packages/sklearn/linear_model/_logistic.py:940: ConvergenceWarning: lbfgs failed to converge (status=1):\n",
            "STOP: TOTAL NO. of ITERATIONS REACHED LIMIT.\n",
            "\n",
            "Increase the number of iterations (max_iter) or scale the data as shown in:\n",
            "    https://scikit-learn.org/stable/modules/preprocessing.html\n",
            "Please also refer to the documentation for alternative solver options:\n",
            "    https://scikit-learn.org/stable/modules/linear_model.html#logistic-regression\n",
            "  extra_warning_msg=_LOGISTIC_SOLVER_CONVERGENCE_MSG)\n",
            "/usr/local/lib/python3.6/dist-packages/sklearn/linear_model/_logistic.py:940: ConvergenceWarning: lbfgs failed to converge (status=1):\n",
            "STOP: TOTAL NO. of ITERATIONS REACHED LIMIT.\n",
            "\n",
            "Increase the number of iterations (max_iter) or scale the data as shown in:\n",
            "    https://scikit-learn.org/stable/modules/preprocessing.html\n",
            "Please also refer to the documentation for alternative solver options:\n",
            "    https://scikit-learn.org/stable/modules/linear_model.html#logistic-regression\n",
            "  extra_warning_msg=_LOGISTIC_SOLVER_CONVERGENCE_MSG)\n",
            "/usr/local/lib/python3.6/dist-packages/sklearn/linear_model/_logistic.py:940: ConvergenceWarning: lbfgs failed to converge (status=1):\n",
            "STOP: TOTAL NO. of ITERATIONS REACHED LIMIT.\n",
            "\n",
            "Increase the number of iterations (max_iter) or scale the data as shown in:\n",
            "    https://scikit-learn.org/stable/modules/preprocessing.html\n",
            "Please also refer to the documentation for alternative solver options:\n",
            "    https://scikit-learn.org/stable/modules/linear_model.html#logistic-regression\n",
            "  extra_warning_msg=_LOGISTIC_SOLVER_CONVERGENCE_MSG)\n",
            "/usr/local/lib/python3.6/dist-packages/sklearn/linear_model/_logistic.py:940: ConvergenceWarning: lbfgs failed to converge (status=1):\n",
            "STOP: TOTAL NO. of ITERATIONS REACHED LIMIT.\n",
            "\n",
            "Increase the number of iterations (max_iter) or scale the data as shown in:\n",
            "    https://scikit-learn.org/stable/modules/preprocessing.html\n",
            "Please also refer to the documentation for alternative solver options:\n",
            "    https://scikit-learn.org/stable/modules/linear_model.html#logistic-regression\n",
            "  extra_warning_msg=_LOGISTIC_SOLVER_CONVERGENCE_MSG)\n",
            "/usr/local/lib/python3.6/dist-packages/sklearn/linear_model/_logistic.py:940: ConvergenceWarning: lbfgs failed to converge (status=1):\n",
            "STOP: TOTAL NO. of ITERATIONS REACHED LIMIT.\n",
            "\n",
            "Increase the number of iterations (max_iter) or scale the data as shown in:\n",
            "    https://scikit-learn.org/stable/modules/preprocessing.html\n",
            "Please also refer to the documentation for alternative solver options:\n",
            "    https://scikit-learn.org/stable/modules/linear_model.html#logistic-regression\n",
            "  extra_warning_msg=_LOGISTIC_SOLVER_CONVERGENCE_MSG)\n",
            "/usr/local/lib/python3.6/dist-packages/sklearn/linear_model/_logistic.py:940: ConvergenceWarning: lbfgs failed to converge (status=1):\n",
            "STOP: TOTAL NO. of ITERATIONS REACHED LIMIT.\n",
            "\n",
            "Increase the number of iterations (max_iter) or scale the data as shown in:\n",
            "    https://scikit-learn.org/stable/modules/preprocessing.html\n",
            "Please also refer to the documentation for alternative solver options:\n",
            "    https://scikit-learn.org/stable/modules/linear_model.html#logistic-regression\n",
            "  extra_warning_msg=_LOGISTIC_SOLVER_CONVERGENCE_MSG)\n",
            "/usr/local/lib/python3.6/dist-packages/sklearn/linear_model/_logistic.py:940: ConvergenceWarning: lbfgs failed to converge (status=1):\n",
            "STOP: TOTAL NO. of ITERATIONS REACHED LIMIT.\n",
            "\n",
            "Increase the number of iterations (max_iter) or scale the data as shown in:\n",
            "    https://scikit-learn.org/stable/modules/preprocessing.html\n",
            "Please also refer to the documentation for alternative solver options:\n",
            "    https://scikit-learn.org/stable/modules/linear_model.html#logistic-regression\n",
            "  extra_warning_msg=_LOGISTIC_SOLVER_CONVERGENCE_MSG)\n",
            "/usr/local/lib/python3.6/dist-packages/sklearn/linear_model/_logistic.py:940: ConvergenceWarning: lbfgs failed to converge (status=1):\n",
            "STOP: TOTAL NO. of ITERATIONS REACHED LIMIT.\n",
            "\n",
            "Increase the number of iterations (max_iter) or scale the data as shown in:\n",
            "    https://scikit-learn.org/stable/modules/preprocessing.html\n",
            "Please also refer to the documentation for alternative solver options:\n",
            "    https://scikit-learn.org/stable/modules/linear_model.html#logistic-regression\n",
            "  extra_warning_msg=_LOGISTIC_SOLVER_CONVERGENCE_MSG)\n",
            "/usr/local/lib/python3.6/dist-packages/sklearn/linear_model/_logistic.py:940: ConvergenceWarning: lbfgs failed to converge (status=1):\n",
            "STOP: TOTAL NO. of ITERATIONS REACHED LIMIT.\n",
            "\n",
            "Increase the number of iterations (max_iter) or scale the data as shown in:\n",
            "    https://scikit-learn.org/stable/modules/preprocessing.html\n",
            "Please also refer to the documentation for alternative solver options:\n",
            "    https://scikit-learn.org/stable/modules/linear_model.html#logistic-regression\n",
            "  extra_warning_msg=_LOGISTIC_SOLVER_CONVERGENCE_MSG)\n",
            "/usr/local/lib/python3.6/dist-packages/sklearn/linear_model/_logistic.py:940: ConvergenceWarning: lbfgs failed to converge (status=1):\n",
            "STOP: TOTAL NO. of ITERATIONS REACHED LIMIT.\n",
            "\n",
            "Increase the number of iterations (max_iter) or scale the data as shown in:\n",
            "    https://scikit-learn.org/stable/modules/preprocessing.html\n",
            "Please also refer to the documentation for alternative solver options:\n",
            "    https://scikit-learn.org/stable/modules/linear_model.html#logistic-regression\n",
            "  extra_warning_msg=_LOGISTIC_SOLVER_CONVERGENCE_MSG)\n",
            "/usr/local/lib/python3.6/dist-packages/sklearn/linear_model/_logistic.py:940: ConvergenceWarning: lbfgs failed to converge (status=1):\n",
            "STOP: TOTAL NO. of ITERATIONS REACHED LIMIT.\n",
            "\n",
            "Increase the number of iterations (max_iter) or scale the data as shown in:\n",
            "    https://scikit-learn.org/stable/modules/preprocessing.html\n",
            "Please also refer to the documentation for alternative solver options:\n",
            "    https://scikit-learn.org/stable/modules/linear_model.html#logistic-regression\n",
            "  extra_warning_msg=_LOGISTIC_SOLVER_CONVERGENCE_MSG)\n",
            "/usr/local/lib/python3.6/dist-packages/sklearn/linear_model/_logistic.py:940: ConvergenceWarning: lbfgs failed to converge (status=1):\n",
            "STOP: TOTAL NO. of ITERATIONS REACHED LIMIT.\n",
            "\n",
            "Increase the number of iterations (max_iter) or scale the data as shown in:\n",
            "    https://scikit-learn.org/stable/modules/preprocessing.html\n",
            "Please also refer to the documentation for alternative solver options:\n",
            "    https://scikit-learn.org/stable/modules/linear_model.html#logistic-regression\n",
            "  extra_warning_msg=_LOGISTIC_SOLVER_CONVERGENCE_MSG)\n",
            "/usr/local/lib/python3.6/dist-packages/sklearn/linear_model/_logistic.py:940: ConvergenceWarning: lbfgs failed to converge (status=1):\n",
            "STOP: TOTAL NO. of ITERATIONS REACHED LIMIT.\n",
            "\n",
            "Increase the number of iterations (max_iter) or scale the data as shown in:\n",
            "    https://scikit-learn.org/stable/modules/preprocessing.html\n",
            "Please also refer to the documentation for alternative solver options:\n",
            "    https://scikit-learn.org/stable/modules/linear_model.html#logistic-regression\n",
            "  extra_warning_msg=_LOGISTIC_SOLVER_CONVERGENCE_MSG)\n",
            "/usr/local/lib/python3.6/dist-packages/sklearn/linear_model/_logistic.py:940: ConvergenceWarning: lbfgs failed to converge (status=1):\n",
            "STOP: TOTAL NO. of ITERATIONS REACHED LIMIT.\n",
            "\n",
            "Increase the number of iterations (max_iter) or scale the data as shown in:\n",
            "    https://scikit-learn.org/stable/modules/preprocessing.html\n",
            "Please also refer to the documentation for alternative solver options:\n",
            "    https://scikit-learn.org/stable/modules/linear_model.html#logistic-regression\n",
            "  extra_warning_msg=_LOGISTIC_SOLVER_CONVERGENCE_MSG)\n",
            "/usr/local/lib/python3.6/dist-packages/sklearn/linear_model/_logistic.py:940: ConvergenceWarning: lbfgs failed to converge (status=1):\n",
            "STOP: TOTAL NO. of ITERATIONS REACHED LIMIT.\n",
            "\n",
            "Increase the number of iterations (max_iter) or scale the data as shown in:\n",
            "    https://scikit-learn.org/stable/modules/preprocessing.html\n",
            "Please also refer to the documentation for alternative solver options:\n",
            "    https://scikit-learn.org/stable/modules/linear_model.html#logistic-regression\n",
            "  extra_warning_msg=_LOGISTIC_SOLVER_CONVERGENCE_MSG)\n",
            "/usr/local/lib/python3.6/dist-packages/sklearn/linear_model/_logistic.py:940: ConvergenceWarning: lbfgs failed to converge (status=1):\n",
            "STOP: TOTAL NO. of ITERATIONS REACHED LIMIT.\n",
            "\n",
            "Increase the number of iterations (max_iter) or scale the data as shown in:\n",
            "    https://scikit-learn.org/stable/modules/preprocessing.html\n",
            "Please also refer to the documentation for alternative solver options:\n",
            "    https://scikit-learn.org/stable/modules/linear_model.html#logistic-regression\n",
            "  extra_warning_msg=_LOGISTIC_SOLVER_CONVERGENCE_MSG)\n",
            "/usr/local/lib/python3.6/dist-packages/sklearn/linear_model/_logistic.py:940: ConvergenceWarning: lbfgs failed to converge (status=1):\n",
            "STOP: TOTAL NO. of ITERATIONS REACHED LIMIT.\n",
            "\n",
            "Increase the number of iterations (max_iter) or scale the data as shown in:\n",
            "    https://scikit-learn.org/stable/modules/preprocessing.html\n",
            "Please also refer to the documentation for alternative solver options:\n",
            "    https://scikit-learn.org/stable/modules/linear_model.html#logistic-regression\n",
            "  extra_warning_msg=_LOGISTIC_SOLVER_CONVERGENCE_MSG)\n",
            "/usr/local/lib/python3.6/dist-packages/sklearn/linear_model/_logistic.py:940: ConvergenceWarning: lbfgs failed to converge (status=1):\n",
            "STOP: TOTAL NO. of ITERATIONS REACHED LIMIT.\n",
            "\n",
            "Increase the number of iterations (max_iter) or scale the data as shown in:\n",
            "    https://scikit-learn.org/stable/modules/preprocessing.html\n",
            "Please also refer to the documentation for alternative solver options:\n",
            "    https://scikit-learn.org/stable/modules/linear_model.html#logistic-regression\n",
            "  extra_warning_msg=_LOGISTIC_SOLVER_CONVERGENCE_MSG)\n",
            "/usr/local/lib/python3.6/dist-packages/sklearn/linear_model/_logistic.py:940: ConvergenceWarning: lbfgs failed to converge (status=1):\n",
            "STOP: TOTAL NO. of ITERATIONS REACHED LIMIT.\n",
            "\n",
            "Increase the number of iterations (max_iter) or scale the data as shown in:\n",
            "    https://scikit-learn.org/stable/modules/preprocessing.html\n",
            "Please also refer to the documentation for alternative solver options:\n",
            "    https://scikit-learn.org/stable/modules/linear_model.html#logistic-regression\n",
            "  extra_warning_msg=_LOGISTIC_SOLVER_CONVERGENCE_MSG)\n",
            "/usr/local/lib/python3.6/dist-packages/sklearn/linear_model/_logistic.py:940: ConvergenceWarning: lbfgs failed to converge (status=1):\n",
            "STOP: TOTAL NO. of ITERATIONS REACHED LIMIT.\n",
            "\n",
            "Increase the number of iterations (max_iter) or scale the data as shown in:\n",
            "    https://scikit-learn.org/stable/modules/preprocessing.html\n",
            "Please also refer to the documentation for alternative solver options:\n",
            "    https://scikit-learn.org/stable/modules/linear_model.html#logistic-regression\n",
            "  extra_warning_msg=_LOGISTIC_SOLVER_CONVERGENCE_MSG)\n",
            "/usr/local/lib/python3.6/dist-packages/sklearn/linear_model/_logistic.py:940: ConvergenceWarning: lbfgs failed to converge (status=1):\n",
            "STOP: TOTAL NO. of ITERATIONS REACHED LIMIT.\n",
            "\n",
            "Increase the number of iterations (max_iter) or scale the data as shown in:\n",
            "    https://scikit-learn.org/stable/modules/preprocessing.html\n",
            "Please also refer to the documentation for alternative solver options:\n",
            "    https://scikit-learn.org/stable/modules/linear_model.html#logistic-regression\n",
            "  extra_warning_msg=_LOGISTIC_SOLVER_CONVERGENCE_MSG)\n",
            "/usr/local/lib/python3.6/dist-packages/sklearn/linear_model/_logistic.py:940: ConvergenceWarning: lbfgs failed to converge (status=1):\n",
            "STOP: TOTAL NO. of ITERATIONS REACHED LIMIT.\n",
            "\n",
            "Increase the number of iterations (max_iter) or scale the data as shown in:\n",
            "    https://scikit-learn.org/stable/modules/preprocessing.html\n",
            "Please also refer to the documentation for alternative solver options:\n",
            "    https://scikit-learn.org/stable/modules/linear_model.html#logistic-regression\n",
            "  extra_warning_msg=_LOGISTIC_SOLVER_CONVERGENCE_MSG)\n",
            "/usr/local/lib/python3.6/dist-packages/sklearn/linear_model/_logistic.py:940: ConvergenceWarning: lbfgs failed to converge (status=1):\n",
            "STOP: TOTAL NO. of ITERATIONS REACHED LIMIT.\n",
            "\n",
            "Increase the number of iterations (max_iter) or scale the data as shown in:\n",
            "    https://scikit-learn.org/stable/modules/preprocessing.html\n",
            "Please also refer to the documentation for alternative solver options:\n",
            "    https://scikit-learn.org/stable/modules/linear_model.html#logistic-regression\n",
            "  extra_warning_msg=_LOGISTIC_SOLVER_CONVERGENCE_MSG)\n",
            "/usr/local/lib/python3.6/dist-packages/sklearn/linear_model/_logistic.py:940: ConvergenceWarning: lbfgs failed to converge (status=1):\n",
            "STOP: TOTAL NO. of ITERATIONS REACHED LIMIT.\n",
            "\n",
            "Increase the number of iterations (max_iter) or scale the data as shown in:\n",
            "    https://scikit-learn.org/stable/modules/preprocessing.html\n",
            "Please also refer to the documentation for alternative solver options:\n",
            "    https://scikit-learn.org/stable/modules/linear_model.html#logistic-regression\n",
            "  extra_warning_msg=_LOGISTIC_SOLVER_CONVERGENCE_MSG)\n",
            "/usr/local/lib/python3.6/dist-packages/sklearn/linear_model/_logistic.py:940: ConvergenceWarning: lbfgs failed to converge (status=1):\n",
            "STOP: TOTAL NO. of ITERATIONS REACHED LIMIT.\n",
            "\n",
            "Increase the number of iterations (max_iter) or scale the data as shown in:\n",
            "    https://scikit-learn.org/stable/modules/preprocessing.html\n",
            "Please also refer to the documentation for alternative solver options:\n",
            "    https://scikit-learn.org/stable/modules/linear_model.html#logistic-regression\n",
            "  extra_warning_msg=_LOGISTIC_SOLVER_CONVERGENCE_MSG)\n",
            "/usr/local/lib/python3.6/dist-packages/sklearn/linear_model/_logistic.py:940: ConvergenceWarning: lbfgs failed to converge (status=1):\n",
            "STOP: TOTAL NO. of ITERATIONS REACHED LIMIT.\n",
            "\n",
            "Increase the number of iterations (max_iter) or scale the data as shown in:\n",
            "    https://scikit-learn.org/stable/modules/preprocessing.html\n",
            "Please also refer to the documentation for alternative solver options:\n",
            "    https://scikit-learn.org/stable/modules/linear_model.html#logistic-regression\n",
            "  extra_warning_msg=_LOGISTIC_SOLVER_CONVERGENCE_MSG)\n",
            "/usr/local/lib/python3.6/dist-packages/sklearn/linear_model/_logistic.py:940: ConvergenceWarning: lbfgs failed to converge (status=1):\n",
            "STOP: TOTAL NO. of ITERATIONS REACHED LIMIT.\n",
            "\n",
            "Increase the number of iterations (max_iter) or scale the data as shown in:\n",
            "    https://scikit-learn.org/stable/modules/preprocessing.html\n",
            "Please also refer to the documentation for alternative solver options:\n",
            "    https://scikit-learn.org/stable/modules/linear_model.html#logistic-regression\n",
            "  extra_warning_msg=_LOGISTIC_SOLVER_CONVERGENCE_MSG)\n",
            "/usr/local/lib/python3.6/dist-packages/sklearn/linear_model/_logistic.py:940: ConvergenceWarning: lbfgs failed to converge (status=1):\n",
            "STOP: TOTAL NO. of ITERATIONS REACHED LIMIT.\n",
            "\n",
            "Increase the number of iterations (max_iter) or scale the data as shown in:\n",
            "    https://scikit-learn.org/stable/modules/preprocessing.html\n",
            "Please also refer to the documentation for alternative solver options:\n",
            "    https://scikit-learn.org/stable/modules/linear_model.html#logistic-regression\n",
            "  extra_warning_msg=_LOGISTIC_SOLVER_CONVERGENCE_MSG)\n",
            "/usr/local/lib/python3.6/dist-packages/sklearn/linear_model/_logistic.py:940: ConvergenceWarning: lbfgs failed to converge (status=1):\n",
            "STOP: TOTAL NO. of ITERATIONS REACHED LIMIT.\n",
            "\n",
            "Increase the number of iterations (max_iter) or scale the data as shown in:\n",
            "    https://scikit-learn.org/stable/modules/preprocessing.html\n",
            "Please also refer to the documentation for alternative solver options:\n",
            "    https://scikit-learn.org/stable/modules/linear_model.html#logistic-regression\n",
            "  extra_warning_msg=_LOGISTIC_SOLVER_CONVERGENCE_MSG)\n",
            "/usr/local/lib/python3.6/dist-packages/sklearn/linear_model/_logistic.py:940: ConvergenceWarning: lbfgs failed to converge (status=1):\n",
            "STOP: TOTAL NO. of ITERATIONS REACHED LIMIT.\n",
            "\n",
            "Increase the number of iterations (max_iter) or scale the data as shown in:\n",
            "    https://scikit-learn.org/stable/modules/preprocessing.html\n",
            "Please also refer to the documentation for alternative solver options:\n",
            "    https://scikit-learn.org/stable/modules/linear_model.html#logistic-regression\n",
            "  extra_warning_msg=_LOGISTIC_SOLVER_CONVERGENCE_MSG)\n",
            "/usr/local/lib/python3.6/dist-packages/sklearn/linear_model/_logistic.py:940: ConvergenceWarning: lbfgs failed to converge (status=1):\n",
            "STOP: TOTAL NO. of ITERATIONS REACHED LIMIT.\n",
            "\n",
            "Increase the number of iterations (max_iter) or scale the data as shown in:\n",
            "    https://scikit-learn.org/stable/modules/preprocessing.html\n",
            "Please also refer to the documentation for alternative solver options:\n",
            "    https://scikit-learn.org/stable/modules/linear_model.html#logistic-regression\n",
            "  extra_warning_msg=_LOGISTIC_SOLVER_CONVERGENCE_MSG)\n",
            "/usr/local/lib/python3.6/dist-packages/sklearn/linear_model/_logistic.py:940: ConvergenceWarning: lbfgs failed to converge (status=1):\n",
            "STOP: TOTAL NO. of ITERATIONS REACHED LIMIT.\n",
            "\n",
            "Increase the number of iterations (max_iter) or scale the data as shown in:\n",
            "    https://scikit-learn.org/stable/modules/preprocessing.html\n",
            "Please also refer to the documentation for alternative solver options:\n",
            "    https://scikit-learn.org/stable/modules/linear_model.html#logistic-regression\n",
            "  extra_warning_msg=_LOGISTIC_SOLVER_CONVERGENCE_MSG)\n",
            "/usr/local/lib/python3.6/dist-packages/sklearn/linear_model/_logistic.py:940: ConvergenceWarning: lbfgs failed to converge (status=1):\n",
            "STOP: TOTAL NO. of ITERATIONS REACHED LIMIT.\n",
            "\n",
            "Increase the number of iterations (max_iter) or scale the data as shown in:\n",
            "    https://scikit-learn.org/stable/modules/preprocessing.html\n",
            "Please also refer to the documentation for alternative solver options:\n",
            "    https://scikit-learn.org/stable/modules/linear_model.html#logistic-regression\n",
            "  extra_warning_msg=_LOGISTIC_SOLVER_CONVERGENCE_MSG)\n",
            "/usr/local/lib/python3.6/dist-packages/sklearn/linear_model/_logistic.py:940: ConvergenceWarning: lbfgs failed to converge (status=1):\n",
            "STOP: TOTAL NO. of ITERATIONS REACHED LIMIT.\n",
            "\n",
            "Increase the number of iterations (max_iter) or scale the data as shown in:\n",
            "    https://scikit-learn.org/stable/modules/preprocessing.html\n",
            "Please also refer to the documentation for alternative solver options:\n",
            "    https://scikit-learn.org/stable/modules/linear_model.html#logistic-regression\n",
            "  extra_warning_msg=_LOGISTIC_SOLVER_CONVERGENCE_MSG)\n",
            "/usr/local/lib/python3.6/dist-packages/sklearn/linear_model/_logistic.py:940: ConvergenceWarning: lbfgs failed to converge (status=1):\n",
            "STOP: TOTAL NO. of ITERATIONS REACHED LIMIT.\n",
            "\n",
            "Increase the number of iterations (max_iter) or scale the data as shown in:\n",
            "    https://scikit-learn.org/stable/modules/preprocessing.html\n",
            "Please also refer to the documentation for alternative solver options:\n",
            "    https://scikit-learn.org/stable/modules/linear_model.html#logistic-regression\n",
            "  extra_warning_msg=_LOGISTIC_SOLVER_CONVERGENCE_MSG)\n",
            "/usr/local/lib/python3.6/dist-packages/sklearn/linear_model/_logistic.py:940: ConvergenceWarning: lbfgs failed to converge (status=1):\n",
            "STOP: TOTAL NO. of ITERATIONS REACHED LIMIT.\n",
            "\n",
            "Increase the number of iterations (max_iter) or scale the data as shown in:\n",
            "    https://scikit-learn.org/stable/modules/preprocessing.html\n",
            "Please also refer to the documentation for alternative solver options:\n",
            "    https://scikit-learn.org/stable/modules/linear_model.html#logistic-regression\n",
            "  extra_warning_msg=_LOGISTIC_SOLVER_CONVERGENCE_MSG)\n",
            "/usr/local/lib/python3.6/dist-packages/sklearn/linear_model/_logistic.py:940: ConvergenceWarning: lbfgs failed to converge (status=1):\n",
            "STOP: TOTAL NO. of ITERATIONS REACHED LIMIT.\n",
            "\n",
            "Increase the number of iterations (max_iter) or scale the data as shown in:\n",
            "    https://scikit-learn.org/stable/modules/preprocessing.html\n",
            "Please also refer to the documentation for alternative solver options:\n",
            "    https://scikit-learn.org/stable/modules/linear_model.html#logistic-regression\n",
            "  extra_warning_msg=_LOGISTIC_SOLVER_CONVERGENCE_MSG)\n",
            "/usr/local/lib/python3.6/dist-packages/sklearn/linear_model/_logistic.py:940: ConvergenceWarning: lbfgs failed to converge (status=1):\n",
            "STOP: TOTAL NO. of ITERATIONS REACHED LIMIT.\n",
            "\n",
            "Increase the number of iterations (max_iter) or scale the data as shown in:\n",
            "    https://scikit-learn.org/stable/modules/preprocessing.html\n",
            "Please also refer to the documentation for alternative solver options:\n",
            "    https://scikit-learn.org/stable/modules/linear_model.html#logistic-regression\n",
            "  extra_warning_msg=_LOGISTIC_SOLVER_CONVERGENCE_MSG)\n",
            "/usr/local/lib/python3.6/dist-packages/sklearn/linear_model/_logistic.py:940: ConvergenceWarning: lbfgs failed to converge (status=1):\n",
            "STOP: TOTAL NO. of ITERATIONS REACHED LIMIT.\n",
            "\n",
            "Increase the number of iterations (max_iter) or scale the data as shown in:\n",
            "    https://scikit-learn.org/stable/modules/preprocessing.html\n",
            "Please also refer to the documentation for alternative solver options:\n",
            "    https://scikit-learn.org/stable/modules/linear_model.html#logistic-regression\n",
            "  extra_warning_msg=_LOGISTIC_SOLVER_CONVERGENCE_MSG)\n",
            "/usr/local/lib/python3.6/dist-packages/sklearn/linear_model/_logistic.py:940: ConvergenceWarning: lbfgs failed to converge (status=1):\n",
            "STOP: TOTAL NO. of ITERATIONS REACHED LIMIT.\n",
            "\n",
            "Increase the number of iterations (max_iter) or scale the data as shown in:\n",
            "    https://scikit-learn.org/stable/modules/preprocessing.html\n",
            "Please also refer to the documentation for alternative solver options:\n",
            "    https://scikit-learn.org/stable/modules/linear_model.html#logistic-regression\n",
            "  extra_warning_msg=_LOGISTIC_SOLVER_CONVERGENCE_MSG)\n",
            "/usr/local/lib/python3.6/dist-packages/sklearn/linear_model/_logistic.py:940: ConvergenceWarning: lbfgs failed to converge (status=1):\n",
            "STOP: TOTAL NO. of ITERATIONS REACHED LIMIT.\n",
            "\n",
            "Increase the number of iterations (max_iter) or scale the data as shown in:\n",
            "    https://scikit-learn.org/stable/modules/preprocessing.html\n",
            "Please also refer to the documentation for alternative solver options:\n",
            "    https://scikit-learn.org/stable/modules/linear_model.html#logistic-regression\n",
            "  extra_warning_msg=_LOGISTIC_SOLVER_CONVERGENCE_MSG)\n",
            "/usr/local/lib/python3.6/dist-packages/sklearn/metrics/_classification.py:1272: UndefinedMetricWarning: Precision and F-score are ill-defined and being set to 0.0 in labels with no predicted samples. Use `zero_division` parameter to control this behavior.\n",
            "  _warn_prf(average, modifier, msg_start, len(result))\n",
            "/usr/local/lib/python3.6/dist-packages/sklearn/metrics/_classification.py:1272: UndefinedMetricWarning: Recall and F-score are ill-defined and being set to 0.0 in labels with no true samples. Use `zero_division` parameter to control this behavior.\n",
            "  _warn_prf(average, modifier, msg_start, len(result))\n"
          ],
          "name": "stderr"
        },
        {
          "output_type": "stream",
          "text": [
            "\n",
            "               precision    recall  f1-score   support\n",
            "\n",
            "         0.0       0.50      0.67      0.57         3\n",
            "         1.0       0.20      0.73      0.32        22\n",
            "         2.0       0.00      0.00      0.00        16\n",
            "         3.0       0.00      0.00      0.00         5\n",
            "         4.0       0.00      0.00      0.00        10\n",
            "         5.0       0.09      0.40      0.14         5\n",
            "         6.0       0.00      0.00      0.00         6\n",
            "         7.0       0.00      0.00      0.00         5\n",
            "         8.0       0.00      0.00      0.00         2\n",
            "         9.0       0.00      0.00      0.00         4\n",
            "        10.0       0.00      0.00      0.00         1\n",
            "        11.0       0.00      0.00      0.00         2\n",
            "        12.0       0.00      0.00      0.00         2\n",
            "        13.0       0.00      0.00      0.00         1\n",
            "        14.0       0.00      0.00      0.00         1\n",
            "        15.0       0.00      0.00      0.00         4\n",
            "        16.0       0.00      0.00      0.00         1\n",
            "        19.0       0.00      0.00      0.00         2\n",
            "        20.0       0.00      0.00      0.00         1\n",
            "        22.0       0.00      0.00      0.00         1\n",
            "        24.0       0.00      0.00      0.00         1\n",
            "        26.0       0.00      0.00      0.00         1\n",
            "        27.0       0.00      0.00      0.00         3\n",
            "        30.0       0.00      0.00      0.00         1\n",
            "        32.0       0.00      0.00      0.00         1\n",
            "        35.0       0.00      0.00      0.00         1\n",
            "        36.0       0.00      0.00      0.00         1\n",
            "        40.0       0.00      0.00      0.00         1\n",
            "        43.0       0.00      0.00      0.00         1\n",
            "        44.0       0.00      0.00      0.00         1\n",
            "        46.0       0.00      0.00      0.00         1\n",
            "        48.0       0.00      0.00      0.00         2\n",
            "        51.0       0.00      0.00      0.00         2\n",
            "        55.0       0.00      0.00      0.00         1\n",
            "        56.0       0.00      0.00      0.00         1\n",
            "        59.0       0.00      0.00      0.00         1\n",
            "        65.0       0.00      0.00      0.00         1\n",
            "        66.0       0.00      0.00      0.00         1\n",
            "        69.0       0.00      0.00      0.00         1\n",
            "        82.0       0.00      0.00      0.00         1\n",
            "        87.0       0.00      0.00      0.00         1\n",
            "        98.0       0.00      0.00      0.00         1\n",
            "       100.0       0.00      0.00      0.00         1\n",
            "       101.0       0.00      0.00      0.00         0\n",
            "       111.0       0.00      0.00      0.00         1\n",
            "       128.0       0.00      0.00      0.00         0\n",
            "       132.0       0.00      0.00      0.00         1\n",
            "       142.0       0.00      0.00      0.00         1\n",
            "       168.0       0.00      0.00      0.00         1\n",
            "       221.0       0.00      0.00      0.00         1\n",
            "       549.0       0.00      0.00      0.00         1\n",
            "      1052.0       0.00      0.00      0.00         0\n",
            "      1423.0       0.00      0.00      0.00         0\n",
            "      2714.0       0.00      0.00      0.00         1\n",
            "      4586.0       0.00      0.00      0.00         1\n",
            "      5806.0       0.00      0.00      0.00         0\n",
            "\n",
            "    accuracy                           0.16       129\n",
            "   macro avg       0.01      0.03      0.02       129\n",
            "weighted avg       0.05      0.16      0.07       129\n",
            "\n",
            "Score:  0.15503875968992248\n",
            "\n",
            "Метод:  BernoulliNB(alpha=1.0, binarize=0.0, class_prior=None, fit_prior=True)\n"
          ],
          "name": "stdout"
        },
        {
          "output_type": "stream",
          "text": [
            "/usr/local/lib/python3.6/dist-packages/sklearn/metrics/_classification.py:1272: UndefinedMetricWarning: Precision and F-score are ill-defined and being set to 0.0 in labels with no predicted samples. Use `zero_division` parameter to control this behavior.\n",
            "  _warn_prf(average, modifier, msg_start, len(result))\n",
            "/usr/local/lib/python3.6/dist-packages/sklearn/metrics/_classification.py:1272: UndefinedMetricWarning: Recall and F-score are ill-defined and being set to 0.0 in labels with no true samples. Use `zero_division` parameter to control this behavior.\n",
            "  _warn_prf(average, modifier, msg_start, len(result))\n"
          ],
          "name": "stderr"
        },
        {
          "output_type": "stream",
          "text": [
            "\n",
            "               precision    recall  f1-score   support\n",
            "\n",
            "         0.0       0.00      0.00      0.00         3\n",
            "         1.0       0.20      0.77      0.32        22\n",
            "         2.0       0.25      0.12      0.17        16\n",
            "         3.0       0.00      0.00      0.00         5\n",
            "         4.0       0.00      0.00      0.00        10\n",
            "         5.0       0.12      0.40      0.19         5\n",
            "         6.0       0.00      0.00      0.00         6\n",
            "         7.0       0.00      0.00      0.00         5\n",
            "         8.0       0.00      0.00      0.00         2\n",
            "         9.0       0.00      0.00      0.00         4\n",
            "        10.0       0.00      0.00      0.00         1\n",
            "        11.0       0.00      0.00      0.00         2\n",
            "        12.0       0.00      0.00      0.00         2\n",
            "        13.0       0.00      0.00      0.00         1\n",
            "        14.0       0.00      0.00      0.00         1\n",
            "        15.0       0.00      0.00      0.00         4\n",
            "        16.0       0.00      0.00      0.00         1\n",
            "        19.0       0.00      0.00      0.00         2\n",
            "        20.0       0.00      0.00      0.00         1\n",
            "        22.0       0.00      0.00      0.00         1\n",
            "        24.0       0.00      0.00      0.00         1\n",
            "        26.0       0.00      0.00      0.00         1\n",
            "        27.0       0.00      0.00      0.00         3\n",
            "        30.0       0.00      0.00      0.00         1\n",
            "        32.0       0.00      0.00      0.00         1\n",
            "        35.0       0.00      0.00      0.00         1\n",
            "        36.0       0.00      0.00      0.00         1\n",
            "        40.0       0.00      0.00      0.00         1\n",
            "        43.0       0.00      0.00      0.00         1\n",
            "        44.0       0.00      0.00      0.00         1\n",
            "        46.0       0.00      0.00      0.00         1\n",
            "        48.0       0.00      0.00      0.00         2\n",
            "        51.0       0.00      0.00      0.00         2\n",
            "        53.0       0.00      0.00      0.00         0\n",
            "        55.0       0.00      0.00      0.00         1\n",
            "        56.0       0.00      0.00      0.00         1\n",
            "        59.0       0.00      0.00      0.00         1\n",
            "        65.0       0.00      0.00      0.00         1\n",
            "        66.0       0.00      0.00      0.00         1\n",
            "        69.0       0.00      0.00      0.00         1\n",
            "        80.0       0.00      0.00      0.00         0\n",
            "        82.0       0.00      0.00      0.00         1\n",
            "        87.0       0.00      0.00      0.00         1\n",
            "        98.0       0.00      0.00      0.00         1\n",
            "       100.0       0.00      0.00      0.00         1\n",
            "       101.0       0.00      0.00      0.00         0\n",
            "       111.0       0.00      0.00      0.00         1\n",
            "       132.0       0.00      0.00      0.00         1\n",
            "       142.0       0.00      0.00      0.00         1\n",
            "       168.0       0.00      0.00      0.00         1\n",
            "       221.0       0.00      0.00      0.00         1\n",
            "       549.0       0.00      0.00      0.00         1\n",
            "      1423.0       0.00      0.00      0.00         0\n",
            "      2714.0       0.00      0.00      0.00         1\n",
            "      3554.0       0.00      0.00      0.00         0\n",
            "      4586.0       0.00      0.00      0.00         1\n",
            "\n",
            "    accuracy                           0.16       129\n",
            "   macro avg       0.01      0.02      0.01       129\n",
            "weighted avg       0.07      0.16      0.08       129\n",
            "\n",
            "Score:  0.16279069767441862\n",
            "\n",
            "Метод:  DecisionTreeClassifier(ccp_alpha=0.0, class_weight=None, criterion='entropy',\n",
            "                       max_depth=None, max_features=None, max_leaf_nodes=None,\n",
            "                       min_impurity_decrease=0.0, min_impurity_split=None,\n",
            "                       min_samples_leaf=1, min_samples_split=50,\n",
            "                       min_weight_fraction_leaf=0.0, presort='deprecated',\n",
            "                       random_state=None, splitter='best')\n"
          ],
          "name": "stdout"
        },
        {
          "output_type": "stream",
          "text": [
            "/usr/local/lib/python3.6/dist-packages/sklearn/metrics/_classification.py:1272: UndefinedMetricWarning: Precision and F-score are ill-defined and being set to 0.0 in labels with no predicted samples. Use `zero_division` parameter to control this behavior.\n",
            "  _warn_prf(average, modifier, msg_start, len(result))\n",
            "/usr/local/lib/python3.6/dist-packages/sklearn/metrics/_classification.py:1272: UndefinedMetricWarning: Recall and F-score are ill-defined and being set to 0.0 in labels with no true samples. Use `zero_division` parameter to control this behavior.\n",
            "  _warn_prf(average, modifier, msg_start, len(result))\n"
          ],
          "name": "stderr"
        },
        {
          "output_type": "stream",
          "text": [
            "\n",
            "               precision    recall  f1-score   support\n",
            "\n",
            "         0.0       0.00      0.00      0.00         3\n",
            "         1.0       0.29      0.73      0.41        22\n",
            "         2.0       0.10      0.06      0.08        16\n",
            "         3.0       0.00      0.00      0.00         5\n",
            "         4.0       0.50      0.10      0.17        10\n",
            "         5.0       0.07      0.40      0.12         5\n",
            "         6.0       0.00      0.00      0.00         6\n",
            "         7.0       0.00      0.00      0.00         5\n",
            "         8.0       0.00      0.00      0.00         2\n",
            "         9.0       0.00      0.00      0.00         4\n",
            "        10.0       0.00      0.00      0.00         1\n",
            "        11.0       0.00      0.00      0.00         2\n",
            "        12.0       0.00      0.00      0.00         2\n",
            "        13.0       0.00      0.00      0.00         1\n",
            "        14.0       0.00      0.00      0.00         1\n",
            "        15.0       0.00      0.00      0.00         4\n",
            "        16.0       0.00      0.00      0.00         1\n",
            "        19.0       0.00      0.00      0.00         2\n",
            "        20.0       0.00      0.00      0.00         1\n",
            "        22.0       0.00      0.00      0.00         1\n",
            "        24.0       0.00      0.00      0.00         1\n",
            "        26.0       0.00      0.00      0.00         1\n",
            "        27.0       0.00      0.00      0.00         3\n",
            "        30.0       0.00      0.00      0.00         1\n",
            "        32.0       0.00      0.00      0.00         1\n",
            "        35.0       0.00      0.00      0.00         1\n",
            "        36.0       0.00      0.00      0.00         1\n",
            "        40.0       0.00      0.00      0.00         1\n",
            "        43.0       0.00      0.00      0.00         1\n",
            "        44.0       0.00      0.00      0.00         1\n",
            "        46.0       0.00      0.00      0.00         1\n",
            "        48.0       0.00      0.00      0.00         2\n",
            "        51.0       0.00      0.00      0.00         2\n",
            "        55.0       0.00      0.00      0.00         1\n",
            "        56.0       0.00      0.00      0.00         1\n",
            "        59.0       0.00      0.00      0.00         1\n",
            "        65.0       0.00      0.00      0.00         1\n",
            "        66.0       0.00      0.00      0.00         1\n",
            "        69.0       0.00      0.00      0.00         1\n",
            "        82.0       0.00      0.00      0.00         1\n",
            "        87.0       0.00      0.00      0.00         1\n",
            "        98.0       0.00      0.00      0.00         1\n",
            "       100.0       0.00      0.00      0.00         1\n",
            "       101.0       0.00      0.00      0.00         0\n",
            "       111.0       0.00      0.00      0.00         1\n",
            "       132.0       0.00      0.00      0.00         1\n",
            "       142.0       0.00      0.00      0.00         1\n",
            "       168.0       0.00      0.00      0.00         1\n",
            "       221.0       0.00      0.00      0.00         1\n",
            "       549.0       0.00      0.00      0.00         1\n",
            "      2714.0       0.00      0.00      0.00         1\n",
            "      4586.0       0.00      0.00      0.00         1\n",
            "\n",
            "    accuracy                           0.16       129\n",
            "   macro avg       0.02      0.02      0.01       129\n",
            "weighted avg       0.10      0.16      0.10       129\n",
            "\n",
            "Score:  0.15503875968992248\n",
            "                   method     score\n",
            "0      LogisticRegression  0.155039\n",
            "1             BernoulliNB  0.162791\n",
            "2  DecisionTreeClassifier  0.155039\n"
          ],
          "name": "stdout"
        },
        {
          "output_type": "execute_result",
          "data": {
            "text/plain": [
              "<seaborn.axisgrid.FacetGrid at 0x7f21e78bec18>"
            ]
          },
          "metadata": {
            "tags": []
          },
          "execution_count": 20
        },
        {
          "output_type": "display_data",
          "data": {
            "image/png": "[encoded data removed]",
            "text/plain": [
              "<Figure size 360x360 with 1 Axes>"
            ]
          },
          "metadata": {
            "tags": []
          }
        }
      ]
    },
    {
      "cell_type": "markdown",
      "metadata": {
        "id": "W6ffu98fUwKs"
      },
      "source": [
        "### Как можем наблюдать все ветоды имеют близкие значения, но Бернули регрессор чуть вырывается вперёд\n",
        "\n",
        "# Реализуем подход с использованием случайного леса"
      ]
    },
    {
      "cell_type": "code",
      "metadata": {
        "id": "XukRbuuxCr7l"
      },
      "source": [
        "# Импорт модели, которую будем использовать\n",
        "from sklearn.ensemble import RandomForestRegressor\n",
        "# Инстанциируем модель с 1000 деревьями решений\n",
        "rf = RandomForestRegressor(n_estimators = 1000, random_state = 42)\n",
        "# Натренируем модель на train данных\n",
        "rf.fit(X_train, y_train);"
      ],
      "execution_count": 21,
      "outputs": []
    },
    {
      "cell_type": "code",
      "metadata": {
        "id": "kyvVFVezCr4K",
        "outputId": "e9cd4eb1-ee7d-4d02-eb06-f0ddce8a65fc",
        "colab": {
          "base_uri": "https://localhost:8080/"
        }
      },
      "source": [
        "# Используем метод предсказания 'леса' на тестовых данных\n",
        "predictions = rf.predict(X_test)\n",
        "# Высчитаем абсолютные ошибки\n",
        "errors = abs(predictions - y_test)\n",
        "# Высчитаем среднюю абсолютную ошибку (mae)\n",
        "print('Average Absolute Error:', round(np.mean(errors), 2), 'degrees.')"
      ],
      "execution_count": 22,
      "outputs": [
        {
          "output_type": "stream",
          "text": [
            "Average Absolute Error: 18.2 degrees.\n"
          ],
          "name": "stdout"
        }
      ]
    },
    {
      "cell_type": "code",
      "metadata": {
        "id": "isO2zhpYCrrH",
        "outputId": "f09f5969-fcf3-4de2-9db1-685e0a9aa289",
        "colab": {
          "base_uri": "https://localhost:8080/"
        }
      },
      "source": [
        "# Высчитаем среднюю абсолютную ошибку (MAPE)\n",
        "mape = 100 * (errors / y_test)\n",
        "# Высчитаем и отобразим точность\n",
        "accuracy = 100 - np.mean(mape)\n",
        "print(mape)\n",
        "print(accuracy)\n",
        "# Выкинем nan\n",
        "print('Accuracy:', round(accuracy, 2), '%.')"
      ],
      "execution_count": 23,
      "outputs": [
        {
          "output_type": "stream",
          "text": [
            "[8.20500000e+01 9.50000000e+00 1.98000000e+00            inf\n",
            " 1.10088889e+02 4.38666667e+01 5.77066667e+01 2.24388889e+01\n",
            " 2.26482143e+01 1.17300000e+03 1.85850000e+01 1.38980392e+01\n",
            " 6.97000000e+01 2.53090909e+01 3.33000000e+01 1.86666667e+00\n",
            " 1.06900000e+02 3.39000000e+01 5.44000000e+01 6.63000000e+01\n",
            " 7.40000000e+00 7.58333333e+00 3.39000000e+01 5.23239437e-01\n",
            " 7.55000000e+01 1.66018100e+01 2.61000000e+02 2.73600000e+01\n",
            " 4.20769231e+00 2.08714286e+01 2.57420290e+01 1.09000000e+01\n",
            " 7.38200000e+02 5.01155556e+02 6.15300000e+02 1.66840000e+03\n",
            " 1.50000000e+00 8.76666667e+00 8.31796610e+01 2.86500000e+01\n",
            " 9.13272727e+00 1.30750000e+01 2.39517857e+01 1.60800000e+00\n",
            " 8.23600000e+01 2.07500000e+01 3.86655859e+01 7.35750000e+01\n",
            " 1.26437500e+01 9.34703704e+01 1.90000000e+00 1.44400000e+02\n",
            " 1.81666667e+00 1.04142857e+01 1.22745833e+02            inf\n",
            " 3.65000000e+01 2.36666667e+00 1.77225865e+01 7.21800000e+01\n",
            " 1.82000000e+01 1.24500000e+02 1.36350000e+02 2.30000000e+01\n",
            " 9.17500000e+00 1.08800000e+02 1.79100000e+02 1.07363636e+01\n",
            " 5.20000000e+00 4.88782609e+01 2.49200000e+01 2.39604167e+01\n",
            " 8.67333333e+00 2.15509804e+01 2.26000000e+01 2.25000000e+01\n",
            " 8.50000000e-01 3.14285714e-01 1.11444444e+01 1.00593750e+01\n",
            " 4.75000000e+01 2.35500000e+01 5.50000000e+00 5.68250000e+02\n",
            " 6.12000000e+01 3.15341463e+01 1.87571429e+01 4.23160920e+01\n",
            " 1.27653846e+01 1.13222222e+01 3.86250000e+00 2.10000000e+00\n",
            " 1.20515152e+01 2.17000000e+01 2.29000000e+01 5.02000000e+01\n",
            " 9.50526316e+00 6.13300000e+02 6.77500000e+00 1.81833333e+01\n",
            " 4.50450450e-02 2.15473684e+01 1.08051461e+01 6.42500000e+00\n",
            " 5.09500000e+01 2.52666667e+01 1.37666667e+01 1.22333333e+01\n",
            " 1.95500000e+01 1.11318182e+01 1.64375000e+01 1.32142857e+01\n",
            " 1.34296296e+01 2.20100000e+01 1.77500000e+02 9.30000000e+01\n",
            " 2.03166667e+01 6.05600000e+01 5.75714286e+00 4.33733333e+01\n",
            "            inf 1.16200000e+01 3.93750000e+02 3.83000000e+01\n",
            " 1.42302326e+01 4.31363636e+00 2.48897959e+01 2.26415385e+01\n",
            " 1.29200000e+02]\n",
            "-inf\n",
            "Accuracy: -inf %.\n"
          ],
          "name": "stdout"
        },
        {
          "output_type": "stream",
          "text": [
            "/usr/local/lib/python3.6/dist-packages/ipykernel_launcher.py:2: RuntimeWarning: divide by zero encountered in true_divide\n",
            "  \n"
          ],
          "name": "stderr"
        }
      ]
    },
    {
      "cell_type": "code",
      "metadata": {
        "id": "q04SprkjCrOy",
        "outputId": "ac801ddf-3497-4aaf-cf1a-cb061a86c017",
        "colab": {
          "base_uri": "https://localhost:8080/"
        }
      },
      "source": [
        "from sklearn.ensemble import RandomForestRegressor\n",
        "# from sklearn.metrics import classification_report, confusion_matrix, accuracy_score\n",
        "\n",
        "regressor = RandomForestRegressor(n_estimators=1200, random_state=100)\n",
        "regressor.fit(X_train, y_train)\n",
        "y_pred = regressor.predict(X_test)\n",
        "\n",
        "errors = abs(y_pred - y_test)\n",
        "# Отобразим обученную на расширенных данных\n",
        "print('Average absolute error: ', round(np.mean(errors), 2), 'degrees.')\n",
        "print('Mean Asolute Percentage Error')\n",
        "mape = np.mean(100 * (errors / y_test))\n",
        "\n",
        "\n",
        "# Отобразим наши метрики\n",
        "print('Mean Absolute Error:', metrics.mean_absolute_error(y_test, y_pred))\n",
        "print('Mean Squared Error:', metrics.mean_squared_error(y_test, y_pred))\n",
        "print('Root Mean Squared Error:', np.sqrt(metrics.mean_squared_error(y_test, y_pred)))\n",
        "\n",
        "# print(confusion_matrix(y_test,y_pred))\n",
        "# print(classification_report(y_test,y_pred))\n",
        "# print(accuracy_score(y_test, y_pred))"
      ],
      "execution_count": 24,
      "outputs": [
        {
          "output_type": "stream",
          "text": [
            "Average absolute error:  18.62 degrees.\n",
            "Mean Asolute Percentage Error\n",
            "Mean Absolute Error: 18.623171834625325\n",
            "Mean Squared Error: 11249.154811740958\n",
            "Root Mean Squared Error: 106.06203284748486\n"
          ],
          "name": "stdout"
        },
        {
          "output_type": "stream",
          "text": [
            "/usr/local/lib/python3.6/dist-packages/ipykernel_launcher.py:12: RuntimeWarning: divide by zero encountered in true_divide\n",
            "  if sys.path[0] == '':\n"
          ],
          "name": "stderr"
        }
      ]
    },
    {
      "cell_type": "markdown",
      "metadata": {
        "id": "hi3t7Kb7U81I"
      },
      "source": [
        "# Построим knn классификатор"
      ]
    },
    {
      "cell_type": "code",
      "metadata": {
        "id": "3OkToaQEU9pR",
        "outputId": "f60922ef-9923-4a23-ecd0-663b5f2dc85c",
        "colab": {
          "base_uri": "https://localhost:8080/"
        }
      },
      "source": [
        "from sklearn.model_selection import GridSearchCV\n",
        "from sklearn.neighbors import KNeighborsClassifier\n",
        "\n",
        "# Объявем кнн классификатор\n",
        "knn = KNeighborsClassifier()\n",
        "knn_grid = {'n_neighbors': np.array(np.linspace(1, 60), dtype='int')} \n",
        "\n",
        "#Зададим параметры кросс валидации\n",
        "gs = GridSearchCV(knn, knn_grid, cv=24)\n",
        "gs.fit(X, y)"
      ],
      "execution_count": 25,
      "outputs": [
        {
          "output_type": "stream",
          "text": [
            "/usr/local/lib/python3.6/dist-packages/sklearn/model_selection/_split.py:667: UserWarning: The least populated class in y has only 1 members, which is less than n_splits=24.\n",
            "  % (min_groups, self.n_splits)), UserWarning)\n"
          ],
          "name": "stderr"
        },
        {
          "output_type": "execute_result",
          "data": {
            "text/plain": [
              "GridSearchCV(cv=24, error_score=nan,\n",
              "             estimator=KNeighborsClassifier(algorithm='auto', leaf_size=30,\n",
              "                                            metric='minkowski',\n",
              "                                            metric_params=None, n_jobs=None,\n",
              "                                            n_neighbors=5, p=2,\n",
              "                                            weights='uniform'),\n",
              "             iid='deprecated', n_jobs=None,\n",
              "             param_grid={'n_neighbors': array([ 1,  2,  3,  4,  5,  7,  8,  9, 10, 11, 13, 14, 15, 16, 17, 19, 20,\n",
              "       21, 22, 23, 25, 26, 27, 28, 29, 31, 32, 33, 34, 35, 37, 38, 39, 40,\n",
              "       41, 43, 44, 45, 46, 47, 49, 50, 51, 52, 53, 55, 56, 57, 58, 60])},\n",
              "             pre_dispatch='2*n_jobs', refit=True, return_train_score=False,\n",
              "             scoring=None, verbose=0)"
            ]
          },
          "metadata": {
            "tags": []
          },
          "execution_count": 25
        }
      ]
    },
    {
      "cell_type": "code",
      "metadata": {
        "id": "LrpmcZS-VAyJ"
      },
      "source": [
        "# Зададим функцию отрисовки\n",
        "def grid_plot(x, y, x_label, title, y_label='roc_auc'):\n",
        "    plt.figure(figsize=(12, 6))\n",
        "    plt.grid(True)\n",
        "    plt.plot(x, y, 'go-')\n",
        "    plt.xlabel(x_label)\n",
        "    plt.ylabel(y_label)\n",
        "    plt.title(title)"
      ],
      "execution_count": 26,
      "outputs": []
    },
    {
      "cell_type": "code",
      "metadata": {
        "id": "eTrKwuwDVAv9",
        "outputId": "a518b14c-f853-4580-aa99-fff95f390d3f",
        "colab": {
          "base_uri": "https://localhost:8080/",
          "height": 427
        }
      },
      "source": [
        "grid_plot(knn_grid['n_neighbors'], gs.cv_results_['mean_test_score'], 'n_neighbors', 'KNeighborsClassifier')"
      ],
      "execution_count": 27,
      "outputs": [
        {
          "output_type": "display_data",
          "data": {
            "image/png": "[encoded data removed]",
            "text/plain": [
              "<Figure size 864x432 with 1 Axes>"
            ]
          },
          "metadata": {
            "tags": []
          }
        }
      ]
    },
    {
      "cell_type": "code",
      "metadata": {
        "id": "grnayj1iVAtr",
        "outputId": "c1326f93-23ec-4ca2-d535-834318630a01",
        "colab": {
          "base_uri": "https://localhost:8080/"
        }
      },
      "source": [
        "print(gs.best_params_, gs.best_score_)"
      ],
      "execution_count": 28,
      "outputs": [
        {
          "output_type": "stream",
          "text": [
            "{'n_neighbors': 3} 0.2767361111111111\n"
          ],
          "name": "stdout"
        }
      ]
    },
    {
      "cell_type": "code",
      "metadata": {
        "id": "pg2qV4-FVArc",
        "outputId": "713b8668-bab8-4159-d82d-b6b3bc566019",
        "colab": {
          "base_uri": "https://localhost:8080/"
        }
      },
      "source": [
        "knn = KNeighborsClassifier(n_neighbors=3) #gs.best_model\n",
        "clf_knn = knn.fit(X_train, y_train)\n",
        "\n",
        "y_knn = clf_knn.predict(X_test)\n",
        "y_knn"
      ],
      "execution_count": 29,
      "outputs": [
        {
          "output_type": "execute_result",
          "data": {
            "text/plain": [
              "array([2.000e+00, 6.000e+00, 2.000e+00, 0.000e+00, 5.000e+00, 2.000e+00,\n",
              "       8.000e+00, 6.000e+00, 3.500e+01, 2.000e+00, 3.900e+01, 3.600e+01,\n",
              "       1.000e+00, 6.000e+00, 1.000e+00, 1.000e+01, 1.000e+00, 1.000e+00,\n",
              "       1.000e+00, 1.000e+00, 1.000e+00, 3.300e+01, 1.000e+00, 1.080e+02,\n",
              "       2.000e+00, 2.060e+02, 1.000e+00, 1.000e+00, 8.000e+00, 7.000e+00,\n",
              "       3.600e+01, 1.000e+00, 0.000e+00, 5.000e+00, 2.000e+00, 5.000e+00,\n",
              "       1.000e+00, 1.000e+00, 4.300e+01, 3.000e+00, 2.700e+01, 4.000e+00,\n",
              "       1.000e+02, 1.000e+02, 0.000e+00, 1.000e+00, 1.052e+03, 1.000e+00,\n",
              "       3.300e+01, 0.000e+00, 6.000e+00, 1.000e+00, 6.000e+00, 1.300e+01,\n",
              "       9.000e+00, 3.000e+00, 1.000e+00, 3.000e+00, 5.300e+01, 8.000e+00,\n",
              "       1.000e+00, 1.000e+00, 0.000e+00, 2.000e+00, 1.000e+00, 1.000e+00,\n",
              "       3.000e+00, 2.000e+01, 1.000e+00, 1.900e+01, 1.000e+01, 2.300e+01,\n",
              "       5.000e+00, 3.300e+01, 0.000e+00, 1.000e+00, 6.000e+00, 6.000e+00,\n",
              "       2.000e+01, 1.700e+01, 0.000e+00, 4.000e+00, 2.000e+00, 5.000e+00,\n",
              "       2.000e+00, 4.300e+01, 1.000e+00, 2.700e+01, 1.300e+01, 6.000e+00,\n",
              "       1.000e+00, 1.000e+00, 3.500e+01, 1.000e+00, 1.000e+00, 2.000e+00,\n",
              "       2.300e+01, 4.000e+00, 1.000e+00, 0.000e+00, 9.100e+01, 1.100e+01,\n",
              "       1.423e+03, 1.000e+00, 1.000e+00, 9.000e+00, 1.000e+00, 6.000e+00,\n",
              "       4.000e+00, 8.000e+01, 9.000e+00, 7.000e+00, 6.000e+00, 1.600e+01,\n",
              "       7.000e+00, 1.000e+00, 6.000e+00, 2.000e+00, 6.000e+00, 8.000e+00,\n",
              "       2.000e+00, 1.900e+01, 0.000e+00, 1.000e+00, 3.300e+01, 1.800e+01,\n",
              "       2.700e+01, 4.300e+01, 1.000e+00])"
            ]
          },
          "metadata": {
            "tags": []
          },
          "execution_count": 29
        }
      ]
    },
    {
      "cell_type": "code",
      "metadata": {
        "id": "l6Z-KIMwVApP",
        "outputId": "0606eddd-0a65-443f-befb-67d6d0bb645f",
        "colab": {
          "base_uri": "https://localhost:8080/"
        }
      },
      "source": [
        "print ('knn =', metrics.accuracy_score(y_test, y_knn), '\\n')\n",
        "print(metrics.classification_report(y_test, y_knn))"
      ],
      "execution_count": 30,
      "outputs": [
        {
          "output_type": "stream",
          "text": [
            "knn = 0.1937984496124031 \n",
            "\n",
            "              precision    recall  f1-score   support\n",
            "\n",
            "         0.0       0.11      0.33      0.17         3\n",
            "         1.0       0.37      0.59      0.46        22\n",
            "         2.0       0.25      0.19      0.21        16\n",
            "         3.0       0.25      0.20      0.22         5\n",
            "         4.0       0.25      0.10      0.14        10\n",
            "         5.0       0.00      0.00      0.00         5\n",
            "         6.0       0.17      0.33      0.22         6\n",
            "         7.0       0.67      0.40      0.50         5\n",
            "         8.0       0.00      0.00      0.00         2\n",
            "         9.0       0.33      0.25      0.29         4\n",
            "        10.0       0.00      0.00      0.00         1\n",
            "        11.0       0.00      0.00      0.00         2\n",
            "        12.0       0.00      0.00      0.00         2\n",
            "        13.0       0.00      0.00      0.00         1\n",
            "        14.0       0.00      0.00      0.00         1\n",
            "        15.0       0.00      0.00      0.00         4\n",
            "        16.0       0.00      0.00      0.00         1\n",
            "        17.0       0.00      0.00      0.00         0\n",
            "        18.0       0.00      0.00      0.00         0\n",
            "        19.0       0.00      0.00      0.00         2\n",
            "        20.0       0.00      0.00      0.00         1\n",
            "        22.0       0.00      0.00      0.00         1\n",
            "        23.0       0.00      0.00      0.00         0\n",
            "        24.0       0.00      0.00      0.00         1\n",
            "        26.0       0.00      0.00      0.00         1\n",
            "        27.0       0.00      0.00      0.00         3\n",
            "        30.0       0.00      0.00      0.00         1\n",
            "        32.0       0.00      0.00      0.00         1\n",
            "        33.0       0.00      0.00      0.00         0\n",
            "        35.0       0.00      0.00      0.00         1\n",
            "        36.0       0.00      0.00      0.00         1\n",
            "        39.0       0.00      0.00      0.00         0\n",
            "        40.0       0.00      0.00      0.00         1\n",
            "        43.0       0.00      0.00      0.00         1\n",
            "        44.0       0.00      0.00      0.00         1\n",
            "        46.0       0.00      0.00      0.00         1\n",
            "        48.0       0.00      0.00      0.00         2\n",
            "        51.0       0.00      0.00      0.00         2\n",
            "        53.0       0.00      0.00      0.00         0\n",
            "        55.0       0.00      0.00      0.00         1\n",
            "        56.0       0.00      0.00      0.00         1\n",
            "        59.0       0.00      0.00      0.00         1\n",
            "        65.0       0.00      0.00      0.00         1\n",
            "        66.0       0.00      0.00      0.00         1\n",
            "        69.0       0.00      0.00      0.00         1\n",
            "        80.0       0.00      0.00      0.00         0\n",
            "        82.0       0.00      0.00      0.00         1\n",
            "        87.0       0.00      0.00      0.00         1\n",
            "        91.0       0.00      0.00      0.00         0\n",
            "        98.0       0.00      0.00      0.00         1\n",
            "       100.0       0.50      1.00      0.67         1\n",
            "       108.0       0.00      0.00      0.00         0\n",
            "       111.0       0.00      0.00      0.00         1\n",
            "       132.0       0.00      0.00      0.00         1\n",
            "       142.0       0.00      0.00      0.00         1\n",
            "       168.0       0.00      0.00      0.00         1\n",
            "       206.0       0.00      0.00      0.00         0\n",
            "       221.0       0.00      0.00      0.00         1\n",
            "       549.0       0.00      0.00      0.00         1\n",
            "      1052.0       0.00      0.00      0.00         0\n",
            "      1423.0       0.00      0.00      0.00         0\n",
            "      2714.0       0.00      0.00      0.00         1\n",
            "      4586.0       0.00      0.00      0.00         1\n",
            "\n",
            "    accuracy                           0.19       129\n",
            "   macro avg       0.05      0.05      0.05       129\n",
            "weighted avg       0.17      0.19      0.17       129\n",
            "\n"
          ],
          "name": "stdout"
        },
        {
          "output_type": "stream",
          "text": [
            "/usr/local/lib/python3.6/dist-packages/sklearn/metrics/_classification.py:1272: UndefinedMetricWarning: Precision and F-score are ill-defined and being set to 0.0 in labels with no predicted samples. Use `zero_division` parameter to control this behavior.\n",
            "  _warn_prf(average, modifier, msg_start, len(result))\n",
            "/usr/local/lib/python3.6/dist-packages/sklearn/metrics/_classification.py:1272: UndefinedMetricWarning: Recall and F-score are ill-defined and being set to 0.0 in labels with no true samples. Use `zero_division` parameter to control this behavior.\n",
            "  _warn_prf(average, modifier, msg_start, len(result))\n"
          ],
          "name": "stderr"
        }
      ]
    },
    {
      "cell_type": "code",
      "metadata": {
        "id": "6jJ0H-ofVAmX",
        "outputId": "d350358d-5781-483e-8c99-d19715a46049",
        "colab": {
          "base_uri": "https://localhost:8080/"
        }
      },
      "source": [
        "# Параметры f1 метрики\n",
        "print('macro = ', metrics.f1_score(y_test, y_knn, average='macro'), ', micro = ', metrics.f1_score(y_test, y_knn, average='micro'))"
      ],
      "execution_count": 31,
      "outputs": [
        {
          "output_type": "stream",
          "text": [
            "macro =  0.04566309954781133 , micro =  0.1937984496124031\n"
          ],
          "name": "stdout"
        }
      ]
    },
    {
      "cell_type": "markdown",
      "metadata": {
        "id": "i58PO4xTVUvP"
      },
      "source": [
        "### Точность довольно слабая\n",
        "\n",
        "# Преступим к нейросетевому подходу"
      ]
    },
    {
      "cell_type": "code",
      "metadata": {
        "id": "7KhMVV9iSRx8",
        "outputId": "a0162008-433b-4a16-b330-b27e14ae2d89",
        "colab": {
          "base_uri": "https://localhost:8080/",
          "height": 238
        }
      },
      "source": [
        "!pip install git+git://github.com/keras-team/keras.git --upgrade --no-deps"
      ],
      "execution_count": null,
      "outputs": [
        {
          "output_type": "stream",
          "text": [
            "Collecting git+git://github.com/keras-team/keras.git\n",
            "  Cloning git://github.com/keras-team/keras.git to /private/var/folders/z6/tnsj6yl12dl3fz942rdsfbk00000gn/T/pip-req-build-79ctl2fm\n",
            "  Running command git clone -q git://github.com/keras-team/keras.git /private/var/folders/z6/tnsj6yl12dl3fz942rdsfbk00000gn/T/pip-req-build-79ctl2fm\n",
            "\u001b[31m    ERROR: Command errored out with exit status 1:\n",
            "     command: /Users/michaelsalamakha/opt/anaconda3/bin/python -c 'import sys, setuptools, tokenize; sys.argv[0] = '\"'\"'/private/var/folders/z6/tnsj6yl12dl3fz942rdsfbk00000gn/T/pip-req-build-79ctl2fm/setup.py'\"'\"'; __file__='\"'\"'/private/var/folders/z6/tnsj6yl12dl3fz942rdsfbk00000gn/T/pip-req-build-79ctl2fm/setup.py'\"'\"';f=getattr(tokenize, '\"'\"'open'\"'\"', open)(__file__);code=f.read().replace('\"'\"'\\r\\n'\"'\"', '\"'\"'\\n'\"'\"');f.close();exec(compile(code, __file__, '\"'\"'exec'\"'\"'))' egg_info --egg-base /private/var/folders/z6/tnsj6yl12dl3fz942rdsfbk00000gn/T/pip-req-build-79ctl2fm/pip-egg-info\n",
            "         cwd: /private/var/folders/z6/tnsj6yl12dl3fz942rdsfbk00000gn/T/pip-req-build-79ctl2fm/\n",
            "    Complete output (5 lines):\n",
            "    Traceback (most recent call last):\n",
            "      File \"<string>\", line 1, in <module>\n",
            "      File \"/Users/michaelsalamakha/opt/anaconda3/lib/python3.7/tokenize.py\", line 447, in open\n",
            "        buffer = _builtin_open(filename, 'rb')\n",
            "    FileNotFoundError: [Errno 2] No such file or directory: '/private/var/folders/z6/tnsj6yl12dl3fz942rdsfbk00000gn/T/pip-req-build-79ctl2fm/setup.py'\n",
            "    ----------------------------------------\u001b[0m\n",
            "\u001b[31mERROR: Command errored out with exit status 1: python setup.py egg_info Check the logs for full command output.\u001b[0m\n"
          ],
          "name": "stdout"
        }
      ]
    },
    {
      "cell_type": "code",
      "metadata": {
        "id": "ZgspJc1vVVmB"
      },
      "source": [
        "from __future__ import absolute_import, division, print_function, unicode_literals\n",
        "\n",
        "import tensorflow.compat.v1 as tf\n",
        "from tensorflow import keras\n",
        "from tensorflow.keras import layers\n",
        "\n",
        "from keras.models import Sequential\n",
        "from keras.layers import Dense\n",
        "\n",
        "\n",
        "tf.keras.backend.clear_session()  # Для чистого/простого сброса состояния notebook."
      ],
      "execution_count": 32,
      "outputs": []
    },
    {
      "cell_type": "code",
      "metadata": {
        "id": "QiV2hMvAMy2R"
      },
      "source": [
        "tf.disable_v2_behavior()\n",
        "\n",
        "#настройка tf конфига\n",
        "config = tf.ConfigProto(\n",
        "    device_count={'GPU': 1},\n",
        "    intra_op_parallelism_threads=1,\n",
        "    allow_soft_placement=True\n",
        ")\n",
        "\n",
        "config.gpu_options.allow_growth = True\n",
        "config.gpu_options.per_process_gpu_memory_fraction = 0.6\n",
        "\n",
        "session = tf.Session(config=config)\n",
        "\n",
        "tf.keras.backend.set_session(session)\n"
      ],
      "execution_count": 34,
      "outputs": []
    },
    {
      "cell_type": "code",
      "metadata": {
        "id": "pV9F8DTUVVhc"
      },
      "source": [
        "# Подготовим данные для модели\n",
        "inputs = keras.Input(shape=(6), name='digits')\n",
        "x = layers.Dense(64, activation='relu', name='dense_1')(inputs)\n",
        "x = layers.Dense(64, activation='relu', name='dense_2')(x)\n",
        "outputs = layers.Dense(12000, activation='softmax', name='predictions')(x)\n",
        "\n",
        "# Поместим данные в модель\n",
        "model = keras.Model(inputs=inputs, outputs=outputs)\n"
      ],
      "execution_count": 35,
      "outputs": []
    },
    {
      "cell_type": "code",
      "metadata": {
        "id": "f5TIz3_FNFRE",
        "outputId": "6d121817-2d2a-4ec1-9616-bb296c032b32",
        "colab": {
          "base_uri": "https://localhost:8080/"
        }
      },
      "source": [
        "print(X,'\\n\\n', X.shape)"
      ],
      "execution_count": 36,
      "outputs": [
        {
          "output_type": "stream",
          "text": [
            "[[ 0.8220266   1.03580882 -1.63468018 -0.12781757  1.24352908 -0.14287595]\n",
            " [-0.6925677  -1.65076663 -1.63468018 -0.12781757 -0.42966544 -0.14287595]\n",
            " [-0.7614129  -1.65076663 -1.63468018 -0.12781757 -0.56909832 -0.14287595]\n",
            " ...\n",
            " [ 0.40895543  0.08760572  1.51898853 -0.12781757  0.1977825  -0.14287595]\n",
            " [ 0.27126504 -0.86059738  1.51898853 -0.12781757 -0.70853119 -0.14287595]\n",
            " [-1.72524563  0.08760572  1.51898853 12.18992389 -0.63881475 11.8632035 ]] \n",
            "\n",
            " (368, 6)\n"
          ],
          "name": "stdout"
        }
      ]
    },
    {
      "cell_type": "code",
      "metadata": {
        "id": "g5RCxPCVVVeh",
        "outputId": "6fce348c-8a20-44da-af78-65548850116c",
        "colab": {
          "base_uri": "https://localhost:8080/"
        }
      },
      "source": [
        "# Специфицируем обучающую конфигурацию метрики, потери, оптимизатор\n",
        "model.compile(optimizer=keras.optimizers.RMSprop(),  # Optimizer\n",
        "              # Loss function to minimize\n",
        "              loss=keras.losses.SparseCategoricalCrossentropy(),\n",
        "              # List of metrics to monitor\n",
        "              metrics=[keras.metrics.SparseCategoricalAccuracy()])\n",
        "\n",
        "# Train the model by slicing the data into \"batches\"\n",
        "# of size \"batch_size\", and repeatedly iterating over\n",
        "# the entire dataset for a given number of \"epochs\"\n",
        "print('# Fit model on training data')\n",
        "# history = model.fit(X_train, y_train,\n",
        "#                     batch_size=64,\n",
        "#                     epochs=3,\n",
        "                    # Добавил валидацию для мониторинга потерь и метрик в конце эпох\n",
        "                    # validation_data=(x_val, y_val))\n",
        "history = model.fit(x=X, y=y, batch_size=None, epochs=1,\n",
        "                   verbose=1, callbacks=None, validation_split=0.0,\n",
        "                   validation_data=None, shuffle=True, class_weight=None, \n",
        "                   sample_weight=None, initial_epoch=0, steps_per_epoch=None, \n",
        "                   validation_steps=None, validation_freq=1, max_queue_size=10,\n",
        "                   workers=1, use_multiprocessing=False)\n",
        "\n",
        "\n",
        "# Возвращённый объект \"Истории\" имеет записи значний\n",
        "# потерь и метрики значения в ходе обучения\n",
        "print('\\nhistory dict:', history.history)\n",
        "\n",
        "# Оценим модель на тестовых данных используя `evaluate`\n",
        "print('\\n# Evaluate on test data')\n",
        "results = model.evaluate(X, y, batch_size=128)\n",
        "print('test loss, test acc:', results)\n",
        "\n",
        "# Генерируем предсказания (вероятность -- вывод последнего слоя)\n",
        "# используем `predict` на новых данных\n",
        "print('\\n# Generate predictions for 3 samples')\n",
        "predictions = model.predict(X_test[:4])\n",
        "print('predictions shape:', predictions.shape)\n"
      ],
      "execution_count": 37,
      "outputs": [
        {
          "output_type": "stream",
          "text": [
            "# Fit model on training data\n",
            "Train on 368 samples\n",
            "368/368 [==============================] - 0s 590us/sample - loss: 9.2533 - sparse_categorical_accuracy: 0.0788\n",
            "\n",
            "history dict: {'loss': [9.253332552702531], 'sparse_categorical_accuracy': [0.07880435]}\n",
            "\n",
            "# Evaluate on test data\n",
            "WARNING:tensorflow:From /usr/local/lib/python3.6/dist-packages/tensorflow/python/keras/engine/training_v1.py:2048: Model.state_updates (from tensorflow.python.keras.engine.training) is deprecated and will be removed in a future version.\n",
            "Instructions for updating:\n",
            "This property should not be used in TensorFlow 2.0, as updates are applied automatically.\n",
            "test loss, test acc: [8.94314778369406, 0.12228261]\n",
            "\n",
            "# Generate predictions for 3 samples\n",
            "predictions shape: (4, 12000)\n"
          ],
          "name": "stdout"
        }
      ]
    },
    {
      "cell_type": "code",
      "metadata": {
        "id": "tQ3jroQrVVbu"
      },
      "source": [
        "model = Sequential()\n",
        "model.add(Dense(12, input_dim=6, activation='relu'))\n",
        "model.add(Dense(8, activation='relu'))\n",
        "model.add(Dense(1, activation='sigmoid'))\n",
        "\n",
        "# скомпилируем keras model\n",
        "model.compile(loss='mean_squared_error', optimizer='adam', metrics=['accuracy'])  #binary_crossentropy\n",
        "# model.compile(loss='mean_squared_error', optimizer='sgd', metrics=['accuracy'])\n"
      ],
      "execution_count": 38,
      "outputs": []
    },
    {
      "cell_type": "code",
      "metadata": {
        "id": "t61iMSOjVAcy",
        "outputId": "306dd70a-a70e-425b-9cf8-983920921c2e",
        "colab": {
          "base_uri": "https://localhost:8080/"
        }
      },
      "source": [
        "# Скормим keras модели наши данные\n",
        "\n",
        "X_train_keras, X_test_keras, y_train_keras, y_test_keras = train_test_split(X, y, test_size=0.35, random_state=42)\n",
        "model.fit(X_train_keras, y_train_keras, epochs=40, batch_size=10) # Сделаем колличество эпох обучения 400 что бы лучше обучить модель"
      ],
      "execution_count": 39,
      "outputs": [
        {
          "output_type": "stream",
          "text": [
            "Train on 239 samples\n",
            "Epoch 1/40\n",
            "239/239 [==============================] - 0s 94us/sample - loss: 276900.1257 - acc: 0.0460\n",
            "Epoch 2/40\n",
            "239/239 [==============================] - 0s 95us/sample - loss: 276861.2482 - acc: 0.0711\n",
            "Epoch 3/40\n",
            "239/239 [==============================] - 0s 93us/sample - loss: 276821.9613 - acc: 0.1172\n",
            "Epoch 4/40\n",
            "239/239 [==============================] - 0s 100us/sample - loss: 276795.9845 - acc: 0.1297\n",
            "Epoch 5/40\n",
            "239/239 [==============================] - 0s 96us/sample - loss: 276790.1139 - acc: 0.1297\n",
            "Epoch 6/40\n",
            "239/239 [==============================] - 0s 94us/sample - loss: 276785.7936 - acc: 0.1339\n",
            "Epoch 7/40\n",
            "239/239 [==============================] - 0s 92us/sample - loss: 276782.5715 - acc: 0.1799\n",
            "Epoch 8/40\n",
            "239/239 [==============================] - 0s 92us/sample - loss: 276779.5512 - acc: 0.1967\n",
            "Epoch 9/40\n",
            "239/239 [==============================] - 0s 106us/sample - loss: 276777.1172 - acc: 0.1967\n",
            "Epoch 10/40\n",
            "239/239 [==============================] - 0s 92us/sample - loss: 276774.6542 - acc: 0.1967\n",
            "Epoch 11/40\n",
            "239/239 [==============================] - 0s 96us/sample - loss: 276772.7198 - acc: 0.1967\n",
            "Epoch 12/40\n",
            "239/239 [==============================] - 0s 106us/sample - loss: 276770.9622 - acc: 0.1967\n",
            "Epoch 13/40\n",
            "239/239 [==============================] - 0s 93us/sample - loss: 276769.3075 - acc: 0.1967\n",
            "Epoch 14/40\n",
            "239/239 [==============================] - 0s 103us/sample - loss: 276767.7748 - acc: 0.1967\n",
            "Epoch 15/40\n",
            "239/239 [==============================] - 0s 102us/sample - loss: 276766.5068 - acc: 0.1967\n",
            "Epoch 16/40\n",
            "239/239 [==============================] - 0s 98us/sample - loss: 276765.5912 - acc: 0.1967\n",
            "Epoch 17/40\n",
            "239/239 [==============================] - 0s 126us/sample - loss: 276764.9008 - acc: 0.1967\n",
            "Epoch 18/40\n",
            "239/239 [==============================] - 0s 92us/sample - loss: 276764.4033 - acc: 0.1967\n",
            "Epoch 19/40\n",
            "239/239 [==============================] - 0s 107us/sample - loss: 276764.0883 - acc: 0.1967\n",
            "Epoch 20/40\n",
            "239/239 [==============================] - 0s 125us/sample - loss: 276763.7194 - acc: 0.1967\n",
            "Epoch 21/40\n",
            "239/239 [==============================] - 0s 130us/sample - loss: 276763.5128 - acc: 0.1967\n",
            "Epoch 22/40\n",
            "239/239 [==============================] - 0s 103us/sample - loss: 276763.3415 - acc: 0.1967\n",
            "Epoch 23/40\n",
            "239/239 [==============================] - 0s 92us/sample - loss: 276763.2327 - acc: 0.1967\n",
            "Epoch 24/40\n",
            "239/239 [==============================] - 0s 109us/sample - loss: 276763.1098 - acc: 0.1967\n",
            "Epoch 25/40\n",
            "239/239 [==============================] - 0s 98us/sample - loss: 276763.0084 - acc: 0.1967\n",
            "Epoch 26/40\n",
            "239/239 [==============================] - 0s 98us/sample - loss: 276762.9367 - acc: 0.1967\n",
            "Epoch 27/40\n",
            "239/239 [==============================] - 0s 92us/sample - loss: 276762.8676 - acc: 0.1967\n",
            "Epoch 28/40\n",
            "239/239 [==============================] - 0s 97us/sample - loss: 276762.8226 - acc: 0.1967\n",
            "Epoch 29/40\n",
            "239/239 [==============================] - 0s 98us/sample - loss: 276762.7580 - acc: 0.1967\n",
            "Epoch 30/40\n",
            "239/239 [==============================] - 0s 110us/sample - loss: 276762.7284 - acc: 0.1967\n",
            "Epoch 31/40\n",
            "239/239 [==============================] - 0s 102us/sample - loss: 276762.6898 - acc: 0.1967\n",
            "Epoch 32/40\n",
            "239/239 [==============================] - 0s 88us/sample - loss: 276762.6330 - acc: 0.1967\n",
            "Epoch 33/40\n",
            "239/239 [==============================] - 0s 145us/sample - loss: 276762.6244 - acc: 0.1967\n",
            "Epoch 34/40\n",
            "239/239 [==============================] - 0s 102us/sample - loss: 276762.6148 - acc: 0.1967\n",
            "Epoch 35/40\n",
            "239/239 [==============================] - 0s 93us/sample - loss: 276762.5919 - acc: 0.1967\n",
            "Epoch 36/40\n",
            "239/239 [==============================] - 0s 94us/sample - loss: 276762.5783 - acc: 0.1967\n",
            "Epoch 37/40\n",
            "239/239 [==============================] - 0s 100us/sample - loss: 276762.5610 - acc: 0.1967\n",
            "Epoch 38/40\n",
            "239/239 [==============================] - 0s 93us/sample - loss: 276762.5468 - acc: 0.1967\n",
            "Epoch 39/40\n",
            "239/239 [==============================] - 0s 101us/sample - loss: 276762.5442 - acc: 0.1967\n",
            "Epoch 40/40\n",
            "239/239 [==============================] - 0s 100us/sample - loss: 276762.5125 - acc: 0.1967\n"
          ],
          "name": "stdout"
        },
        {
          "output_type": "execute_result",
          "data": {
            "text/plain": [
              "<tensorflow.python.keras.callbacks.History at 0x7f21a9defe48>"
            ]
          },
          "metadata": {
            "tags": []
          },
          "execution_count": 39
        }
      ]
    },
    {
      "cell_type": "code",
      "metadata": {
        "id": "A01GmsV7VAZ0",
        "outputId": "b5e4846e-a118-4db7-e3f7-64f8590f2a02",
        "colab": {
          "base_uri": "https://localhost:8080/"
        }
      },
      "source": [
        "# Отобразим точность модели\n",
        "_, accuracy = model.evaluate(X, y)\n",
        "print('Accuracy: %.2f' % (accuracy*100))"
      ],
      "execution_count": 40,
      "outputs": [
        {
          "output_type": "stream",
          "text": [
            "Accuracy: 19.57\n"
          ],
          "name": "stdout"
        }
      ]
    },
    {
      "cell_type": "markdown",
      "metadata": {
        "id": "iVm2BxiczBj5"
      },
      "source": [
        "Воспользуемся другой моделью"
      ]
    },
    {
      "cell_type": "code",
      "metadata": {
        "id": "D8skjfmwHowq"
      },
      "source": [
        "model = Sequential([\n",
        "  Dense(32, activation='relu', input_shape=(6,)), # , kernel_initializer='normal'\n",
        "  Dense(32, activation='relu'),\n",
        "  Dense(1, activation='sigmoid'),\n",
        "])"
      ],
      "execution_count": null,
      "outputs": []
    },
    {
      "cell_type": "code",
      "metadata": {
        "id": "xFlOh-KkzMtk"
      },
      "source": [
        "# Скомпилируем модель\n",
        "model.compile(optimizer='adam', #sgd\n",
        "              loss='mean_squared_error', #binary_crossentropy\n",
        "              metrics=['accuracy'])"
      ],
      "execution_count": null,
      "outputs": []
    },
    {
      "cell_type": "code",
      "metadata": {
        "id": "bWVMevyH0PrH",
        "outputId": "cea360b4-1163-4494-f87d-98785c547072",
        "colab": {
          "base_uri": "https://localhost:8080/",
          "height": 34
        }
      },
      "source": [
        "X_val, X_val_test, y_val, y_val_test = train_test_split(X_test, y_test, test_size=0.5)\n",
        "print(X_train.shape, X_val_test.shape, X_test.shape, y_train.shape, y_val.shape, y_val_test.shape)\n",
        "# print(X_val, X_val.shape, y_val, y_val.shape)"
      ],
      "execution_count": null,
      "outputs": [
        {
          "output_type": "stream",
          "text": [
            "(239, 6) (65, 6) (129, 6) (239,) (64,) (65,)\n"
          ],
          "name": "stdout"
        }
      ]
    },
    {
      "cell_type": "code",
      "metadata": {
        "id": "VucxkuHRI05j"
      },
      "source": [
        "# from keras.wrappers.scikit_learn import KerasRegressor\n",
        "# from sklearn.model_selection import KFold, cross_val_score\n",
        "\n",
        "# estimator = KerasRegressor(build_fn=model, epochs=120, batch_size=5, verbose=0)\n",
        "# folds = KFold(n_splits=10)\n",
        "# result = cross_val_score(estimator, X, y, cv=folds)\n",
        "# print(f'Baseline: {result.mean()},   {result.std()}')"
      ],
      "execution_count": null,
      "outputs": []
    },
    {
      "cell_type": "code",
      "metadata": {
        "id": "EtEqZDlUzo64",
        "outputId": "899db83a-d9cc-4c27-ad08-7f6bbdc1aadf",
        "colab": {
          "base_uri": "https://localhost:8080/",
          "height": 1000
        }
      },
      "source": [
        "hist = model.fit(X_train, y_train,\n",
        "          batch_size=32, epochs=120,\n",
        "          validation_data=(X_val, y_val))"
      ],
      "execution_count": null,
      "outputs": [
        {
          "output_type": "stream",
          "text": [
            "Train on 239 samples, validate on 64 samples\n",
            "Epoch 1/120\n",
            "239/239 [==============================] - 0s 493us/step - loss: 211292.9834 - accuracy: 0.0335 - val_loss: 6328.6558 - val_accuracy: 0.0625\n",
            "Epoch 2/120\n",
            "239/239 [==============================] - 0s 71us/step - loss: 211276.7961 - accuracy: 0.1130 - val_loss: 6325.5667 - val_accuracy: 0.1094\n",
            "Epoch 3/120\n",
            "239/239 [==============================] - 0s 70us/step - loss: 211250.2512 - accuracy: 0.2008 - val_loss: 6322.9735 - val_accuracy: 0.1562\n",
            "Epoch 4/120\n",
            "239/239 [==============================] - 0s 83us/step - loss: 211240.2593 - accuracy: 0.2092 - val_loss: 6320.1572 - val_accuracy: 0.1562\n",
            "Epoch 5/120\n",
            "239/239 [==============================] - 0s 74us/step - loss: 211228.1512 - accuracy: 0.2092 - val_loss: 6317.7509 - val_accuracy: 0.1562\n",
            "Epoch 6/120\n",
            "239/239 [==============================] - 0s 66us/step - loss: 211222.2586 - accuracy: 0.2092 - val_loss: 6315.3094 - val_accuracy: 0.1562\n",
            "Epoch 7/120\n",
            "239/239 [==============================] - 0s 75us/step - loss: 211216.4589 - accuracy: 0.2092 - val_loss: 6312.9745 - val_accuracy: 0.1562\n",
            "Epoch 8/120\n",
            "239/239 [==============================] - 0s 74us/step - loss: 211212.6233 - accuracy: 0.2092 - val_loss: 6310.5065 - val_accuracy: 0.1562\n",
            "Epoch 9/120\n",
            "239/239 [==============================] - 0s 67us/step - loss: 211209.5973 - accuracy: 0.2092 - val_loss: 6308.0321 - val_accuracy: 0.1562\n",
            "Epoch 10/120\n",
            "239/239 [==============================] - 0s 74us/step - loss: 211206.4401 - accuracy: 0.2092 - val_loss: 6305.5844 - val_accuracy: 0.1562\n",
            "Epoch 11/120\n",
            "239/239 [==============================] - 0s 76us/step - loss: 211203.7619 - accuracy: 0.2092 - val_loss: 6303.1589 - val_accuracy: 0.1562\n",
            "Epoch 12/120\n",
            "239/239 [==============================] - 0s 69us/step - loss: 211201.1556 - accuracy: 0.2092 - val_loss: 6300.8593 - val_accuracy: 0.1562\n",
            "Epoch 13/120\n",
            "239/239 [==============================] - 0s 68us/step - loss: 211198.9421 - accuracy: 0.2092 - val_loss: 6298.9734 - val_accuracy: 0.1562\n",
            "Epoch 14/120\n",
            "239/239 [==============================] - 0s 76us/step - loss: 211197.2541 - accuracy: 0.2092 - val_loss: 6297.4411 - val_accuracy: 0.1562\n",
            "Epoch 15/120\n",
            "239/239 [==============================] - 0s 96us/step - loss: 211195.8965 - accuracy: 0.2092 - val_loss: 6296.2819 - val_accuracy: 0.1562\n",
            "Epoch 16/120\n",
            "239/239 [==============================] - 0s 92us/step - loss: 211194.8998 - accuracy: 0.2092 - val_loss: 6295.4248 - val_accuracy: 0.1562\n",
            "Epoch 17/120\n",
            "239/239 [==============================] - 0s 71us/step - loss: 211194.1392 - accuracy: 0.2092 - val_loss: 6294.7650 - val_accuracy: 0.1562\n",
            "Epoch 18/120\n",
            "239/239 [==============================] - 0s 70us/step - loss: 211193.5765 - accuracy: 0.2092 - val_loss: 6294.2735 - val_accuracy: 0.1562\n",
            "Epoch 19/120\n",
            "239/239 [==============================] - 0s 73us/step - loss: 211193.1723 - accuracy: 0.2092 - val_loss: 6293.8970 - val_accuracy: 0.1562\n",
            "Epoch 20/120\n",
            "239/239 [==============================] - 0s 87us/step - loss: 211192.8401 - accuracy: 0.2092 - val_loss: 6293.5930 - val_accuracy: 0.1562\n",
            "Epoch 21/120\n",
            "239/239 [==============================] - 0s 75us/step - loss: 211192.5691 - accuracy: 0.2092 - val_loss: 6293.3551 - val_accuracy: 0.1562\n",
            "Epoch 22/120\n",
            "239/239 [==============================] - 0s 80us/step - loss: 211192.3750 - accuracy: 0.2092 - val_loss: 6293.1690 - val_accuracy: 0.1562\n",
            "Epoch 23/120\n",
            "239/239 [==============================] - 0s 68us/step - loss: 211192.2397 - accuracy: 0.2092 - val_loss: 6293.0085 - val_accuracy: 0.1562\n",
            "Epoch 24/120\n",
            "239/239 [==============================] - 0s 67us/step - loss: 211192.1017 - accuracy: 0.2092 - val_loss: 6292.8819 - val_accuracy: 0.1562\n",
            "Epoch 25/120\n",
            "239/239 [==============================] - 0s 65us/step - loss: 211191.9983 - accuracy: 0.2092 - val_loss: 6292.7738 - val_accuracy: 0.1562\n",
            "Epoch 26/120\n",
            "239/239 [==============================] - 0s 66us/step - loss: 211191.8982 - accuracy: 0.2092 - val_loss: 6292.6860 - val_accuracy: 0.1562\n",
            "Epoch 27/120\n",
            "239/239 [==============================] - 0s 61us/step - loss: 211191.8264 - accuracy: 0.2092 - val_loss: 6292.6129 - val_accuracy: 0.1562\n",
            "Epoch 28/120\n",
            "239/239 [==============================] - 0s 86us/step - loss: 211191.7535 - accuracy: 0.2092 - val_loss: 6292.5475 - val_accuracy: 0.1562\n",
            "Epoch 29/120\n",
            "239/239 [==============================] - 0s 66us/step - loss: 211191.7343 - accuracy: 0.2092 - val_loss: 6292.4905 - val_accuracy: 0.1562\n",
            "Epoch 30/120\n",
            "239/239 [==============================] - 0s 61us/step - loss: 211191.6899 - accuracy: 0.2092 - val_loss: 6292.4414 - val_accuracy: 0.1562\n",
            "Epoch 31/120\n",
            "239/239 [==============================] - 0s 65us/step - loss: 211191.6270 - accuracy: 0.2092 - val_loss: 6292.3978 - val_accuracy: 0.1562\n",
            "Epoch 32/120\n",
            "239/239 [==============================] - 0s 87us/step - loss: 211191.5739 - accuracy: 0.2092 - val_loss: 6292.3597 - val_accuracy: 0.1562\n",
            "Epoch 33/120\n",
            "239/239 [==============================] - 0s 66us/step - loss: 211191.5582 - accuracy: 0.2092 - val_loss: 6292.3256 - val_accuracy: 0.1562\n",
            "Epoch 34/120\n",
            "239/239 [==============================] - 0s 66us/step - loss: 211191.5101 - accuracy: 0.2092 - val_loss: 6292.2958 - val_accuracy: 0.1562\n",
            "Epoch 35/120\n",
            "239/239 [==============================] - 0s 83us/step - loss: 211191.5079 - accuracy: 0.2092 - val_loss: 6292.2687 - val_accuracy: 0.1562\n",
            "Epoch 36/120\n",
            "239/239 [==============================] - 0s 88us/step - loss: 211191.4746 - accuracy: 0.2092 - val_loss: 6292.2444 - val_accuracy: 0.1562\n",
            "Epoch 37/120\n",
            "239/239 [==============================] - 0s 78us/step - loss: 211191.4399 - accuracy: 0.2092 - val_loss: 6292.2236 - val_accuracy: 0.1562\n",
            "Epoch 38/120\n",
            "239/239 [==============================] - 0s 72us/step - loss: 211191.4410 - accuracy: 0.2092 - val_loss: 6292.2024 - val_accuracy: 0.1562\n",
            "Epoch 39/120\n",
            "239/239 [==============================] - 0s 91us/step - loss: 211191.4190 - accuracy: 0.2092 - val_loss: 6292.1841 - val_accuracy: 0.1562\n",
            "Epoch 40/120\n",
            "239/239 [==============================] - 0s 72us/step - loss: 211191.4138 - accuracy: 0.2092 - val_loss: 6292.1672 - val_accuracy: 0.1562\n",
            "Epoch 41/120\n",
            "239/239 [==============================] - 0s 66us/step - loss: 211191.3864 - accuracy: 0.2092 - val_loss: 6292.1531 - val_accuracy: 0.1562\n",
            "Epoch 42/120\n",
            "239/239 [==============================] - 0s 89us/step - loss: 211191.3868 - accuracy: 0.2092 - val_loss: 6292.1401 - val_accuracy: 0.1562\n",
            "Epoch 43/120\n",
            "239/239 [==============================] - 0s 73us/step - loss: 211191.3757 - accuracy: 0.2092 - val_loss: 6292.1285 - val_accuracy: 0.1562\n",
            "Epoch 44/120\n",
            "239/239 [==============================] - 0s 73us/step - loss: 211191.3684 - accuracy: 0.2092 - val_loss: 6292.1165 - val_accuracy: 0.1562\n",
            "Epoch 45/120\n",
            "239/239 [==============================] - 0s 75us/step - loss: 211191.3592 - accuracy: 0.2092 - val_loss: 6292.1053 - val_accuracy: 0.1562\n",
            "Epoch 46/120\n",
            "239/239 [==============================] - 0s 73us/step - loss: 211191.3415 - accuracy: 0.2092 - val_loss: 6292.0950 - val_accuracy: 0.1562\n",
            "Epoch 47/120\n",
            "239/239 [==============================] - 0s 62us/step - loss: 211191.3425 - accuracy: 0.2092 - val_loss: 6292.0857 - val_accuracy: 0.1562\n",
            "Epoch 48/120\n",
            "239/239 [==============================] - 0s 63us/step - loss: 211191.3436 - accuracy: 0.2092 - val_loss: 6292.0767 - val_accuracy: 0.1562\n",
            "Epoch 49/120\n",
            "239/239 [==============================] - 0s 73us/step - loss: 211191.3129 - accuracy: 0.2092 - val_loss: 6292.0690 - val_accuracy: 0.1562\n",
            "Epoch 50/120\n",
            "239/239 [==============================] - 0s 71us/step - loss: 211191.3150 - accuracy: 0.2092 - val_loss: 6292.0609 - val_accuracy: 0.1562\n",
            "Epoch 51/120\n",
            "239/239 [==============================] - 0s 73us/step - loss: 211191.3278 - accuracy: 0.2092 - val_loss: 6292.0546 - val_accuracy: 0.1562\n",
            "Epoch 52/120\n",
            "239/239 [==============================] - 0s 77us/step - loss: 211191.3121 - accuracy: 0.2092 - val_loss: 6292.0483 - val_accuracy: 0.1562\n",
            "Epoch 53/120\n",
            "239/239 [==============================] - 0s 83us/step - loss: 211191.3021 - accuracy: 0.2092 - val_loss: 6292.0421 - val_accuracy: 0.1562\n",
            "Epoch 54/120\n",
            "239/239 [==============================] - 0s 73us/step - loss: 211191.2722 - accuracy: 0.2092 - val_loss: 6292.0358 - val_accuracy: 0.1562\n",
            "Epoch 55/120\n",
            "239/239 [==============================] - 0s 73us/step - loss: 211191.3026 - accuracy: 0.2092 - val_loss: 6292.0308 - val_accuracy: 0.1562\n",
            "Epoch 56/120\n",
            "239/239 [==============================] - 0s 68us/step - loss: 211191.2690 - accuracy: 0.2092 - val_loss: 6292.0255 - val_accuracy: 0.1562\n",
            "Epoch 57/120\n",
            "239/239 [==============================] - 0s 63us/step - loss: 211191.2847 - accuracy: 0.2092 - val_loss: 6292.0206 - val_accuracy: 0.1562\n",
            "Epoch 58/120\n",
            "239/239 [==============================] - 0s 60us/step - loss: 211191.2654 - accuracy: 0.2092 - val_loss: 6292.0161 - val_accuracy: 0.1562\n",
            "Epoch 59/120\n",
            "239/239 [==============================] - 0s 82us/step - loss: 211191.2785 - accuracy: 0.2092 - val_loss: 6292.0111 - val_accuracy: 0.1562\n",
            "Epoch 60/120\n",
            "239/239 [==============================] - 0s 66us/step - loss: 211191.2382 - accuracy: 0.2092 - val_loss: 6292.0072 - val_accuracy: 0.1562\n",
            "Epoch 61/120\n",
            "239/239 [==============================] - 0s 73us/step - loss: 211191.2811 - accuracy: 0.2092 - val_loss: 6292.0043 - val_accuracy: 0.1562\n",
            "Epoch 62/120\n",
            "239/239 [==============================] - 0s 72us/step - loss: 211191.2626 - accuracy: 0.2092 - val_loss: 6291.9997 - val_accuracy: 0.1562\n",
            "Epoch 63/120\n",
            "239/239 [==============================] - 0s 65us/step - loss: 211191.2611 - accuracy: 0.2092 - val_loss: 6291.9962 - val_accuracy: 0.1562\n",
            "Epoch 64/120\n",
            "239/239 [==============================] - 0s 71us/step - loss: 211191.2391 - accuracy: 0.2092 - val_loss: 6291.9926 - val_accuracy: 0.1562\n",
            "Epoch 65/120\n",
            "239/239 [==============================] - 0s 65us/step - loss: 211191.2456 - accuracy: 0.2092 - val_loss: 6291.9904 - val_accuracy: 0.1562\n",
            "Epoch 66/120\n",
            "239/239 [==============================] - 0s 64us/step - loss: 211191.2729 - accuracy: 0.2092 - val_loss: 6291.9865 - val_accuracy: 0.1562\n",
            "Epoch 67/120\n",
            "239/239 [==============================] - 0s 64us/step - loss: 211191.2473 - accuracy: 0.2092 - val_loss: 6291.9833 - val_accuracy: 0.1562\n",
            "Epoch 68/120\n",
            "239/239 [==============================] - 0s 73us/step - loss: 211191.2498 - accuracy: 0.2092 - val_loss: 6291.9813 - val_accuracy: 0.1562\n",
            "Epoch 69/120\n",
            "239/239 [==============================] - 0s 95us/step - loss: 211191.2378 - accuracy: 0.2092 - val_loss: 6291.9784 - val_accuracy: 0.1562\n",
            "Epoch 70/120\n",
            "239/239 [==============================] - 0s 84us/step - loss: 211191.2379 - accuracy: 0.2092 - val_loss: 6291.9756 - val_accuracy: 0.1562\n",
            "Epoch 71/120\n",
            "239/239 [==============================] - 0s 67us/step - loss: 211191.2501 - accuracy: 0.2092 - val_loss: 6291.9728 - val_accuracy: 0.1562\n",
            "Epoch 72/120\n",
            "239/239 [==============================] - 0s 72us/step - loss: 211191.2349 - accuracy: 0.2092 - val_loss: 6291.9708 - val_accuracy: 0.1562\n",
            "Epoch 73/120\n",
            "239/239 [==============================] - 0s 65us/step - loss: 211191.2512 - accuracy: 0.2092 - val_loss: 6291.9686 - val_accuracy: 0.1562\n",
            "Epoch 74/120\n",
            "239/239 [==============================] - 0s 69us/step - loss: 211191.2370 - accuracy: 0.2092 - val_loss: 6291.9670 - val_accuracy: 0.1562\n",
            "Epoch 75/120\n",
            "239/239 [==============================] - 0s 79us/step - loss: 211191.2242 - accuracy: 0.2092 - val_loss: 6291.9650 - val_accuracy: 0.1562\n",
            "Epoch 76/120\n",
            "239/239 [==============================] - 0s 75us/step - loss: 211191.2304 - accuracy: 0.2092 - val_loss: 6291.9625 - val_accuracy: 0.1562\n",
            "Epoch 77/120\n",
            "239/239 [==============================] - 0s 68us/step - loss: 211191.2396 - accuracy: 0.2092 - val_loss: 6291.9608 - val_accuracy: 0.1562\n",
            "Epoch 78/120\n",
            "239/239 [==============================] - 0s 81us/step - loss: 211191.2499 - accuracy: 0.2092 - val_loss: 6291.9586 - val_accuracy: 0.1562\n",
            "Epoch 79/120\n",
            "239/239 [==============================] - 0s 68us/step - loss: 211191.2307 - accuracy: 0.2092 - val_loss: 6291.9575 - val_accuracy: 0.1562\n",
            "Epoch 80/120\n",
            "239/239 [==============================] - 0s 85us/step - loss: 211191.2207 - accuracy: 0.2092 - val_loss: 6291.9559 - val_accuracy: 0.1562\n",
            "Epoch 81/120\n",
            "239/239 [==============================] - 0s 67us/step - loss: 211191.2326 - accuracy: 0.2092 - val_loss: 6291.9539 - val_accuracy: 0.1562\n",
            "Epoch 82/120\n",
            "239/239 [==============================] - 0s 74us/step - loss: 211191.2210 - accuracy: 0.2092 - val_loss: 6291.9529 - val_accuracy: 0.1562\n",
            "Epoch 83/120\n",
            "239/239 [==============================] - 0s 79us/step - loss: 211191.2184 - accuracy: 0.2092 - val_loss: 6291.9502 - val_accuracy: 0.1562\n",
            "Epoch 84/120\n",
            "239/239 [==============================] - 0s 75us/step - loss: 211191.2209 - accuracy: 0.2092 - val_loss: 6291.9492 - val_accuracy: 0.1562\n",
            "Epoch 85/120\n",
            "239/239 [==============================] - 0s 88us/step - loss: 211191.2243 - accuracy: 0.2092 - val_loss: 6291.9482 - val_accuracy: 0.1562\n",
            "Epoch 86/120\n",
            "239/239 [==============================] - 0s 63us/step - loss: 211191.2091 - accuracy: 0.2092 - val_loss: 6291.9473 - val_accuracy: 0.1562\n",
            "Epoch 87/120\n",
            "239/239 [==============================] - 0s 61us/step - loss: 211191.2176 - accuracy: 0.2092 - val_loss: 6291.9453 - val_accuracy: 0.1562\n",
            "Epoch 88/120\n",
            "239/239 [==============================] - 0s 100us/step - loss: 211191.2314 - accuracy: 0.2092 - val_loss: 6291.9443 - val_accuracy: 0.1562\n",
            "Epoch 89/120\n",
            "239/239 [==============================] - 0s 70us/step - loss: 211191.2058 - accuracy: 0.2092 - val_loss: 6291.9432 - val_accuracy: 0.1562\n",
            "Epoch 90/120\n",
            "239/239 [==============================] - 0s 75us/step - loss: 211191.2242 - accuracy: 0.2092 - val_loss: 6291.9419 - val_accuracy: 0.1562\n",
            "Epoch 91/120\n",
            "239/239 [==============================] - 0s 60us/step - loss: 211191.2042 - accuracy: 0.2092 - val_loss: 6291.9404 - val_accuracy: 0.1562\n",
            "Epoch 92/120\n",
            "239/239 [==============================] - 0s 71us/step - loss: 211191.2107 - accuracy: 0.2092 - val_loss: 6291.9387 - val_accuracy: 0.1562\n",
            "Epoch 93/120\n",
            "239/239 [==============================] - 0s 74us/step - loss: 211191.2249 - accuracy: 0.2092 - val_loss: 6291.9382 - val_accuracy: 0.1562\n",
            "Epoch 94/120\n",
            "239/239 [==============================] - 0s 62us/step - loss: 211191.2279 - accuracy: 0.2092 - val_loss: 6291.9363 - val_accuracy: 0.1562\n",
            "Epoch 95/120\n",
            "239/239 [==============================] - 0s 68us/step - loss: 211191.2016 - accuracy: 0.2092 - val_loss: 6291.9355 - val_accuracy: 0.1562\n",
            "Epoch 96/120\n",
            "239/239 [==============================] - 0s 94us/step - loss: 211191.2351 - accuracy: 0.2092 - val_loss: 6291.9352 - val_accuracy: 0.1562\n",
            "Epoch 97/120\n",
            "239/239 [==============================] - 0s 73us/step - loss: 211191.1876 - accuracy: 0.2092 - val_loss: 6291.9342 - val_accuracy: 0.1562\n",
            "Epoch 98/120\n",
            "239/239 [==============================] - 0s 78us/step - loss: 211191.1999 - accuracy: 0.2092 - val_loss: 6291.9334 - val_accuracy: 0.1562\n",
            "Epoch 99/120\n",
            "239/239 [==============================] - 0s 62us/step - loss: 211191.2005 - accuracy: 0.2092 - val_loss: 6291.9323 - val_accuracy: 0.1562\n",
            "Epoch 100/120\n",
            "239/239 [==============================] - 0s 74us/step - loss: 211191.1971 - accuracy: 0.2092 - val_loss: 6291.9318 - val_accuracy: 0.1562\n",
            "Epoch 101/120\n",
            "239/239 [==============================] - 0s 82us/step - loss: 211191.1921 - accuracy: 0.2092 - val_loss: 6291.9310 - val_accuracy: 0.1562\n",
            "Epoch 102/120\n",
            "239/239 [==============================] - 0s 76us/step - loss: 211191.2064 - accuracy: 0.2092 - val_loss: 6291.9303 - val_accuracy: 0.1562\n",
            "Epoch 103/120\n",
            "239/239 [==============================] - 0s 82us/step - loss: 211191.2029 - accuracy: 0.2092 - val_loss: 6291.9301 - val_accuracy: 0.1562\n",
            "Epoch 104/120\n",
            "239/239 [==============================] - 0s 84us/step - loss: 211191.2055 - accuracy: 0.2092 - val_loss: 6291.9292 - val_accuracy: 0.1562\n",
            "Epoch 105/120\n",
            "239/239 [==============================] - 0s 91us/step - loss: 211191.2062 - accuracy: 0.2092 - val_loss: 6291.9280 - val_accuracy: 0.1562\n",
            "Epoch 106/120\n",
            "239/239 [==============================] - 0s 72us/step - loss: 211191.2159 - accuracy: 0.2092 - val_loss: 6291.9257 - val_accuracy: 0.1562\n",
            "Epoch 107/120\n",
            "239/239 [==============================] - 0s 68us/step - loss: 211191.2201 - accuracy: 0.2092 - val_loss: 6291.9255 - val_accuracy: 0.1562\n",
            "Epoch 108/120\n",
            "239/239 [==============================] - 0s 72us/step - loss: 211191.1997 - accuracy: 0.2092 - val_loss: 6291.9248 - val_accuracy: 0.1562\n",
            "Epoch 109/120\n",
            "239/239 [==============================] - 0s 72us/step - loss: 211191.2162 - accuracy: 0.2092 - val_loss: 6291.9245 - val_accuracy: 0.1562\n",
            "Epoch 110/120\n",
            "239/239 [==============================] - 0s 71us/step - loss: 211191.2015 - accuracy: 0.2092 - val_loss: 6291.9238 - val_accuracy: 0.1562\n",
            "Epoch 111/120\n",
            "239/239 [==============================] - 0s 73us/step - loss: 211191.2007 - accuracy: 0.2092 - val_loss: 6291.9236 - val_accuracy: 0.1562\n",
            "Epoch 112/120\n",
            "239/239 [==============================] - 0s 70us/step - loss: 211191.2146 - accuracy: 0.2092 - val_loss: 6291.9228 - val_accuracy: 0.1562\n",
            "Epoch 113/120\n",
            "239/239 [==============================] - 0s 97us/step - loss: 211191.2030 - accuracy: 0.2092 - val_loss: 6291.9221 - val_accuracy: 0.1562\n",
            "Epoch 114/120\n",
            "239/239 [==============================] - 0s 80us/step - loss: 211191.2163 - accuracy: 0.2092 - val_loss: 6291.9218 - val_accuracy: 0.1562\n",
            "Epoch 115/120\n",
            "239/239 [==============================] - 0s 76us/step - loss: 211191.2053 - accuracy: 0.2092 - val_loss: 6291.9211 - val_accuracy: 0.1562\n",
            "Epoch 116/120\n",
            "239/239 [==============================] - 0s 64us/step - loss: 211191.2185 - accuracy: 0.2092 - val_loss: 6291.9210 - val_accuracy: 0.1562\n",
            "Epoch 117/120\n",
            "239/239 [==============================] - 0s 70us/step - loss: 211191.1959 - accuracy: 0.2092 - val_loss: 6291.9208 - val_accuracy: 0.1562\n",
            "Epoch 118/120\n",
            "239/239 [==============================] - 0s 71us/step - loss: 211191.1957 - accuracy: 0.2092 - val_loss: 6291.9202 - val_accuracy: 0.1562\n",
            "Epoch 119/120\n",
            "239/239 [==============================] - 0s 71us/step - loss: 211191.1940 - accuracy: 0.2092 - val_loss: 6291.9200 - val_accuracy: 0.1562\n",
            "Epoch 120/120\n",
            "239/239 [==============================] - 0s 62us/step - loss: 211191.1733 - accuracy: 0.2092 - val_loss: 6291.9182 - val_accuracy: 0.1562\n"
          ],
          "name": "stdout"
        }
      ]
    },
    {
      "cell_type": "code",
      "metadata": {
        "id": "ifEHkleh0nsg",
        "outputId": "91b67623-0e83-4402-91e5-50f852111a46",
        "colab": {
          "base_uri": "https://localhost:8080/",
          "height": 350
        }
      },
      "source": [
        "# отобразим график loss у нашей сети\n",
        "plt.plot(hist.history['loss'])\n",
        "plt.plot(hist.history['val_loss'])\n",
        "plt.title('Model loss')\n",
        "plt.ylabel('Loss')\n",
        "plt.xlabel('Epoch')\n",
        "plt.legend(['Train', 'Val'], loc='upper right')\n",
        "plt.rcParams['figure.figsize'] = [25, 5]\n",
        "plt.show()"
      ],
      "execution_count": null,
      "outputs": [
        {
          "output_type": "display_data",
          "data": {
            "image/png": "[encoded data removed]",
            "text/plain": [
              "<Figure size 1800x360 with 1 Axes>"
            ]
          },
          "metadata": {
            "tags": []
          }
        }
      ]
    },
    {
      "cell_type": "code",
      "metadata": {
        "id": "v9KkwJdS01fX",
        "outputId": "ab24c89a-f13d-4c68-da6c-7843ffe339c1",
        "colab": {
          "base_uri": "https://localhost:8080/",
          "height": 350
        }
      },
      "source": [
        "# график точности\n",
        "plt.plot(hist.history['accuracy'])\n",
        "plt.plot(hist.history['val_accuracy'])\n",
        "plt.title('Model accuracy')\n",
        "plt.ylabel('Accuracy')\n",
        "plt.xlabel('Epoch')\n",
        "plt.legend(['Train', 'Val'], loc='lower right')\n",
        "plt.rcParams['figure.figsize'] = [25, 5]\n",
        "plt.show()"
      ],
      "execution_count": null,
      "outputs": [
        {
          "output_type": "display_data",
          "data": {
            "image/png": "[encoded data removed]",
            "text/plain": [
              "<Figure size 1800x360 with 1 Axes>"
            ]
          },
          "metadata": {
            "tags": []
          }
        }
      ]
    },
    {
      "cell_type": "markdown",
      "metadata": {
        "id": "hLPPh5gY05xL"
      },
      "source": [
        "Точность второй модели повысилась на пару процентов.\n",
        "\n"
      ]
    },
    {
      "cell_type": "markdown",
      "metadata": {
        "id": "CNF7X5qnug_z"
      },
      "source": [
        "Воспользуемся XGBoost"
      ]
    },
    {
      "cell_type": "code",
      "metadata": {
        "id": "5hw5NIJzugn7"
      },
      "source": [
        "import xgboost as xgb\n",
        "# read in data\n",
        "# dtrain = xgb.DMatrix(X_train)\n",
        "# dtest = xgb.DMatrix(X_test)\n",
        "# # specify parameters via map\n",
        "# param = {'max_depth':12, 'eta':1, 'objective':'binary:logistic' }\n",
        "# num_round = 2\n",
        "# bst = xgb.train(param, dtrain, num_round)\n",
        "# # make prediction\n",
        "# preds = bst.predict(dtest)\n",
        "\n",
        "\n",
        "xg_reg = xgb.XGBRegressor(objective ='reg:linear', colsample_bytree = 0.3, learning_rate = 0.1,\n",
        "                max_depth = 12, alpha = 10, n_estimators = 10)"
      ],
      "execution_count": null,
      "outputs": []
    },
    {
      "cell_type": "code",
      "metadata": {
        "id": "iLlPNzWSvf4s",
        "outputId": "4cd058a6-dbf4-406e-b0f5-73a2214b70de",
        "colab": {
          "base_uri": "https://localhost:8080/",
          "height": 153
        }
      },
      "source": [
        "xg_reg.fit(X_train,y_train)"
      ],
      "execution_count": null,
      "outputs": [
        {
          "output_type": "stream",
          "text": [
            "[10:28:18] WARNING: /workspace/src/objective/regression_obj.cu:152: reg:linear is now deprecated in favor of reg:squarederror.\n"
          ],
          "name": "stdout"
        },
        {
          "output_type": "execute_result",
          "data": {
            "text/plain": [
              "XGBRegressor(alpha=10, base_score=0.5, booster='gbtree', colsample_bylevel=1,\n",
              "             colsample_bynode=1, colsample_bytree=0.3, gamma=0,\n",
              "             importance_type='gain', learning_rate=0.1, max_delta_step=0,\n",
              "             max_depth=12, min_child_weight=1, missing=None, n_estimators=10,\n",
              "             n_jobs=1, nthread=None, objective='reg:linear', random_state=0,\n",
              "             reg_alpha=0, reg_lambda=1, scale_pos_weight=1, seed=None,\n",
              "             silent=None, subsample=1, verbosity=1)"
            ]
          },
          "metadata": {
            "tags": []
          },
          "execution_count": 14
        }
      ]
    },
    {
      "cell_type": "code",
      "metadata": {
        "id": "V6trXwe3vlEn",
        "outputId": "d6fdb7a9-20ab-4dca-ca80-f926d3a0c824",
        "colab": {
          "base_uri": "https://localhost:8080/",
          "height": 34
        }
      },
      "source": [
        "preds = xg_reg.predict(X_test)\n",
        "\n",
        "rmse = np.sqrt(mean_squared_error(y_test, preds))\n",
        "print(\"RMSE: %f\" % (rmse))"
      ],
      "execution_count": null,
      "outputs": [
        {
          "output_type": "stream",
          "text": [
            "RMSE: 332.765108\n"
          ],
          "name": "stdout"
        }
      ]
    },
    {
      "cell_type": "code",
      "metadata": {
        "id": "7D0lNBnnwE8M",
        "outputId": "01cac9d9-5a94-484f-fc74-cafc0dfbf173",
        "colab": {
          "base_uri": "https://localhost:8080/",
          "height": 255
        }
      },
      "source": [
        "data_dmatrix = xgb.DMatrix(data=X,label=y)\n",
        "\n",
        "params = {\"objective\":\"reg:linear\",'colsample_bytree': 0.3,'learning_rate': 0.1,\n",
        "                'max_depth': 12, 'alpha': 10}\n",
        "\n",
        "cv_results = xgb.cv(dtrain=data_dmatrix, params=params, nfold=3,\n",
        "                    num_boost_round=50,early_stopping_rounds=10,metrics=\"rmse\", as_pandas=True, seed=123)\n",
        "\n",
        "cv_results.head() # Выведем результаты по 5 фолдам кросс валидации"
      ],
      "execution_count": null,
      "outputs": [
        {
          "output_type": "stream",
          "text": [
            "[10:33:16] WARNING: /workspace/src/objective/regression_obj.cu:152: reg:linear is now deprecated in favor of reg:squarederror.\n",
            "[10:33:16] WARNING: /workspace/src/objective/regression_obj.cu:152: reg:linear is now deprecated in favor of reg:squarederror.\n",
            "[10:33:16] WARNING: /workspace/src/objective/regression_obj.cu:152: reg:linear is now deprecated in favor of reg:squarederror.\n"
          ],
          "name": "stdout"
        },
        {
          "output_type": "execute_result",
          "data": {
            "text/html": [
              "<div>\n",
              "<style scoped>\n",
              "    .dataframe tbody tr th:only-of-type {\n",
              "        vertical-align: middle;\n",
              "    }\n",
              "\n",
              "    .dataframe tbody tr th {\n",
              "        vertical-align: top;\n",
              "    }\n",
              "\n",
              "    .dataframe thead th {\n",
              "        text-align: right;\n",
              "    }\n",
              "</style>\n",
              "<table border=\"1\" class=\"dataframe\">\n",
              "  <thead>\n",
              "    <tr style=\"text-align: right;\">\n",
              "      <th></th>\n",
              "      <th>train-rmse-mean</th>\n",
              "      <th>train-rmse-std</th>\n",
              "      <th>test-rmse-mean</th>\n",
              "      <th>test-rmse-std</th>\n",
              "    </tr>\n",
              "  </thead>\n",
              "  <tbody>\n",
              "    <tr>\n",
              "      <th>0</th>\n",
              "      <td>420.545980</td>\n",
              "      <td>100.327520</td>\n",
              "      <td>367.934947</td>\n",
              "      <td>246.710320</td>\n",
              "    </tr>\n",
              "    <tr>\n",
              "      <th>1</th>\n",
              "      <td>396.726898</td>\n",
              "      <td>91.935006</td>\n",
              "      <td>351.814842</td>\n",
              "      <td>238.230632</td>\n",
              "    </tr>\n",
              "    <tr>\n",
              "      <th>2</th>\n",
              "      <td>386.154653</td>\n",
              "      <td>89.160385</td>\n",
              "      <td>343.247043</td>\n",
              "      <td>238.366909</td>\n",
              "    </tr>\n",
              "    <tr>\n",
              "      <th>3</th>\n",
              "      <td>372.238851</td>\n",
              "      <td>85.179947</td>\n",
              "      <td>332.453728</td>\n",
              "      <td>237.143840</td>\n",
              "    </tr>\n",
              "    <tr>\n",
              "      <th>4</th>\n",
              "      <td>360.652883</td>\n",
              "      <td>89.923304</td>\n",
              "      <td>316.287245</td>\n",
              "      <td>227.357972</td>\n",
              "    </tr>\n",
              "  </tbody>\n",
              "</table>\n",
              "</div>"
            ],
            "text/plain": [
              "   train-rmse-mean  train-rmse-std  test-rmse-mean  test-rmse-std\n",
              "0       420.545980      100.327520      367.934947     246.710320\n",
              "1       396.726898       91.935006      351.814842     238.230632\n",
              "2       386.154653       89.160385      343.247043     238.366909\n",
              "3       372.238851       85.179947      332.453728     237.143840\n",
              "4       360.652883       89.923304      316.287245     227.357972"
            ]
          },
          "metadata": {
            "tags": []
          },
          "execution_count": 25
        }
      ]
    },
    {
      "cell_type": "code",
      "metadata": {
        "id": "czaDSEJ5whvN",
        "outputId": "3ad96fbf-107c-4692-e87f-cb5f3dcbeca8",
        "colab": {
          "base_uri": "https://localhost:8080/",
          "height": 51
        }
      },
      "source": [
        "print((cv_results[\"test-rmse-mean\"]).tail(1))"
      ],
      "execution_count": null,
      "outputs": [
        {
          "output_type": "stream",
          "text": [
            "49    188.595968\n",
            "Name: test-rmse-mean, dtype: float64\n"
          ],
          "name": "stdout"
        }
      ]
    },
    {
      "cell_type": "code",
      "metadata": {
        "id": "oMy8HDOow3eI",
        "outputId": "30dddd4d-e713-4635-9c8d-f90e275890a5",
        "colab": {
          "base_uri": "https://localhost:8080/",
          "height": 575
        }
      },
      "source": [
        "# Визуализируем\n",
        "\n",
        "import matplotlib.pyplot as plt\n",
        "\n",
        "xgb.plot_tree(xg_reg,num_trees=0)\n",
        "plt.rcParams['figure.figsize'] = [100, 10]\n",
        "plt.show()"
      ],
      "execution_count": null,
      "outputs": [
        {
          "output_type": "display_data",
          "data": {
            "image/png": "[encoded data removed]",
            "text/plain": [
              "<Figure size 10800x720 with 1 Axes>"
            ]
          },
          "metadata": {
            "tags": []
          }
        }
      ]
    },
    {
      "cell_type": "code",
      "metadata": {
        "id": "CjbNYzWow_pT",
        "outputId": "7c06616d-df81-4dc4-d1b8-dd9150647580",
        "colab": {
          "base_uri": "https://localhost:8080/",
          "height": 641
        }
      },
      "source": [
        "xgb.plot_importance(xg_reg)\n",
        "plt.rcParams['figure.figsize'] = [5, 5]\n",
        "plt.show()"
      ],
      "execution_count": null,
      "outputs": [
        {
          "output_type": "display_data",
          "data": {
            "image/png": "[encoded data removed]",
            "text/plain": [
              "<Figure size 3600x720 with 1 Axes>"
            ]
          },
          "metadata": {
            "tags": []
          }
        }
      ]
    }
  ]
}